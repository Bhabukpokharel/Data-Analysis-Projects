{
 "cells": [
  {
   "cell_type": "code",
   "execution_count": 2,
   "metadata": {
    "collapsed": true
   },
   "outputs": [],
   "source": [
    "import time\n",
    "import pandas as pd\n",
    "import matplotlib.pyplot as plt\n",
    "%matplotlib inline"
   ]
  },
  {
   "cell_type": "code",
   "execution_count": 5,
   "metadata": {},
   "outputs": [
    {
     "data": {
      "text/plain": [
       "(112599, 4)"
      ]
     },
     "execution_count": 5,
     "metadata": {},
     "output_type": "execute_result"
    }
   ],
   "source": [
    "df = pd.DataFrame.from_csv(\"data.csv\")\n",
    "df.shape\n",
    "#for i in range(len(df)):\n",
    "#    df.set_value(i, \"用户姓名\", i)\n",
    "#df.columns = ['用户序号', '评分','个人主页','看过','想看','注册日期']\n",
    "#df.head(10)"
   ]
  },
  {
   "cell_type": "code",
   "execution_count": 3,
   "metadata": {},
   "outputs": [
    {
     "data": {
      "text/html": [
       "<div>\n",
       "<style>\n",
       "    .dataframe thead tr:only-child th {\n",
       "        text-align: right;\n",
       "    }\n",
       "\n",
       "    .dataframe thead th {\n",
       "        text-align: left;\n",
       "    }\n",
       "\n",
       "    .dataframe tbody tr th {\n",
       "        vertical-align: top;\n",
       "    }\n",
       "</style>\n",
       "<table border=\"1\" class=\"dataframe\">\n",
       "  <thead>\n",
       "    <tr style=\"text-align: right;\">\n",
       "      <th></th>\n",
       "      <th>用户姓名</th>\n",
       "      <th>评分情况</th>\n",
       "      <th>个人主页</th>\n",
       "      <th>评论时间</th>\n",
       "    </tr>\n",
       "  </thead>\n",
       "  <tbody>\n",
       "    <tr>\n",
       "      <th>0</th>\n",
       "      <td>星湖</td>\n",
       "      <td>还行</td>\n",
       "      <td>https://www.douban.com/people/147298344</td>\n",
       "      <td>2017-08-06 00:38:34</td>\n",
       "    </tr>\n",
       "    <tr>\n",
       "      <th>1</th>\n",
       "      <td>梵高先生</td>\n",
       "      <td>还行</td>\n",
       "      <td>https://www.douban.com/people/65133684</td>\n",
       "      <td>2017-08-06 01:49:27</td>\n",
       "    </tr>\n",
       "    <tr>\n",
       "      <th>2</th>\n",
       "      <td>EphraimDW</td>\n",
       "      <td>推荐</td>\n",
       "      <td>https://www.douban.com/people/ephraimdw</td>\n",
       "      <td>2017-08-02 23:58:06</td>\n",
       "    </tr>\n",
       "    <tr>\n",
       "      <th>3</th>\n",
       "      <td>王晓敏</td>\n",
       "      <td>较差</td>\n",
       "      <td>https://www.douban.com/people/140379567</td>\n",
       "      <td>2017-08-05 00:50:25</td>\n",
       "    </tr>\n",
       "    <tr>\n",
       "      <th>4</th>\n",
       "      <td>青石板上~</td>\n",
       "      <td>力荐</td>\n",
       "      <td>https://www.douban.com/people/164768111</td>\n",
       "      <td>2017-08-03 21:02:16</td>\n",
       "    </tr>\n",
       "    <tr>\n",
       "      <th>5</th>\n",
       "      <td>倾听永恒_</td>\n",
       "      <td>力荐</td>\n",
       "      <td>https://www.douban.com/people/120222681</td>\n",
       "      <td>2017-08-01 19:10:16</td>\n",
       "    </tr>\n",
       "    <tr>\n",
       "      <th>6</th>\n",
       "      <td>Kibun</td>\n",
       "      <td>推荐</td>\n",
       "      <td>https://www.douban.com/people/146210621</td>\n",
       "      <td>2017-08-02 15:41:32</td>\n",
       "    </tr>\n",
       "    <tr>\n",
       "      <th>7</th>\n",
       "      <td>兔子撕了鸡</td>\n",
       "      <td>力荐</td>\n",
       "      <td>https://www.douban.com/people/162940060</td>\n",
       "      <td>2017-08-01 23:49:45</td>\n",
       "    </tr>\n",
       "    <tr>\n",
       "      <th>8</th>\n",
       "      <td>陌生</td>\n",
       "      <td>力荐</td>\n",
       "      <td>https://www.douban.com/people/126942015</td>\n",
       "      <td>2017-08-01 22:34:59</td>\n",
       "    </tr>\n",
       "    <tr>\n",
       "      <th>9</th>\n",
       "      <td>LAT</td>\n",
       "      <td>推荐</td>\n",
       "      <td>https://www.douban.com/people/164579692</td>\n",
       "      <td>2017-07-31 13:40:47</td>\n",
       "    </tr>\n",
       "  </tbody>\n",
       "</table>\n",
       "</div>"
      ],
      "text/plain": [
       "        用户姓名 评分情况                                     个人主页  \\\n",
       "0         星湖   还行  https://www.douban.com/people/147298344   \n",
       "1       梵高先生   还行   https://www.douban.com/people/65133684   \n",
       "2  EphraimDW   推荐  https://www.douban.com/people/ephraimdw   \n",
       "3        王晓敏   较差  https://www.douban.com/people/140379567   \n",
       "4      青石板上~   力荐  https://www.douban.com/people/164768111   \n",
       "5      倾听永恒_   力荐  https://www.douban.com/people/120222681   \n",
       "6      Kibun   推荐  https://www.douban.com/people/146210621   \n",
       "7      兔子撕了鸡   力荐  https://www.douban.com/people/162940060   \n",
       "8         陌生   力荐  https://www.douban.com/people/126942015   \n",
       "9        LAT   推荐  https://www.douban.com/people/164579692   \n",
       "\n",
       "                  评论时间  \n",
       "0  2017-08-06 00:38:34  \n",
       "1  2017-08-06 01:49:27  \n",
       "2  2017-08-02 23:58:06  \n",
       "3  2017-08-05 00:50:25  \n",
       "4  2017-08-03 21:02:16  \n",
       "5  2017-08-01 19:10:16  \n",
       "6  2017-08-02 15:41:32  \n",
       "7  2017-08-01 23:49:45  \n",
       "8  2017-08-01 22:34:59  \n",
       "9  2017-07-31 13:40:47  "
      ]
     },
     "execution_count": 3,
     "metadata": {},
     "output_type": "execute_result"
    }
   ],
   "source": [
    "df.head(10)"
   ]
  },
  {
   "cell_type": "code",
   "execution_count": 4,
   "metadata": {},
   "outputs": [
    {
     "data": {
      "text/html": [
       "<div>\n",
       "<style>\n",
       "    .dataframe thead tr:only-child th {\n",
       "        text-align: right;\n",
       "    }\n",
       "\n",
       "    .dataframe thead th {\n",
       "        text-align: left;\n",
       "    }\n",
       "\n",
       "    .dataframe tbody tr th {\n",
       "        vertical-align: top;\n",
       "    }\n",
       "</style>\n",
       "<table border=\"1\" class=\"dataframe\">\n",
       "  <thead>\n",
       "    <tr style=\"text-align: right;\">\n",
       "      <th></th>\n",
       "      <th>用户姓名</th>\n",
       "      <th>评分情况</th>\n",
       "      <th>个人主页</th>\n",
       "      <th>评论时间</th>\n",
       "    </tr>\n",
       "  </thead>\n",
       "  <tbody>\n",
       "    <tr>\n",
       "      <th>0</th>\n",
       "      <td>星湖</td>\n",
       "      <td>3.0</td>\n",
       "      <td>https://www.douban.com/people/147298344</td>\n",
       "      <td>2017-08-06 00:38:34</td>\n",
       "    </tr>\n",
       "    <tr>\n",
       "      <th>1</th>\n",
       "      <td>梵高先生</td>\n",
       "      <td>3.0</td>\n",
       "      <td>https://www.douban.com/people/65133684</td>\n",
       "      <td>2017-08-06 01:49:27</td>\n",
       "    </tr>\n",
       "    <tr>\n",
       "      <th>2</th>\n",
       "      <td>EphraimDW</td>\n",
       "      <td>4.0</td>\n",
       "      <td>https://www.douban.com/people/ephraimdw</td>\n",
       "      <td>2017-08-02 23:58:06</td>\n",
       "    </tr>\n",
       "    <tr>\n",
       "      <th>3</th>\n",
       "      <td>王晓敏</td>\n",
       "      <td>2.0</td>\n",
       "      <td>https://www.douban.com/people/140379567</td>\n",
       "      <td>2017-08-05 00:50:25</td>\n",
       "    </tr>\n",
       "    <tr>\n",
       "      <th>4</th>\n",
       "      <td>青石板上~</td>\n",
       "      <td>5.0</td>\n",
       "      <td>https://www.douban.com/people/164768111</td>\n",
       "      <td>2017-08-03 21:02:16</td>\n",
       "    </tr>\n",
       "  </tbody>\n",
       "</table>\n",
       "</div>"
      ],
      "text/plain": [
       "        用户姓名  评分情况                                     个人主页  \\\n",
       "0         星湖   3.0  https://www.douban.com/people/147298344   \n",
       "1       梵高先生   3.0   https://www.douban.com/people/65133684   \n",
       "2  EphraimDW   4.0  https://www.douban.com/people/ephraimdw   \n",
       "3        王晓敏   2.0  https://www.douban.com/people/140379567   \n",
       "4      青石板上~   5.0  https://www.douban.com/people/164768111   \n",
       "\n",
       "                  评论时间  \n",
       "0  2017-08-06 00:38:34  \n",
       "1  2017-08-06 01:49:27  \n",
       "2  2017-08-02 23:58:06  \n",
       "3  2017-08-05 00:50:25  \n",
       "4  2017-08-03 21:02:16  "
      ]
     },
     "execution_count": 4,
     "metadata": {},
     "output_type": "execute_result"
    }
   ],
   "source": [
    "df[\"评分情况\"] = df[\"评分情况\"].map({'很差': 1, '较差': 2,'还行':3,'推荐':4,\"力荐\":5})\n",
    "df.head(5)"
   ]
  },
  {
   "cell_type": "code",
   "execution_count": 5,
   "metadata": {},
   "outputs": [
    {
     "data": {
      "text/plain": [
       "str"
      ]
     },
     "execution_count": 5,
     "metadata": {},
     "output_type": "execute_result"
    }
   ],
   "source": [
    "type(df[\"评论时间\"][0])"
   ]
  },
  {
   "cell_type": "code",
   "execution_count": 6,
   "metadata": {
    "collapsed": true
   },
   "outputs": [],
   "source": [
    "from dateutil import parser\n",
    "dt = parser.parse(df[\"评论时间\"][0])"
   ]
  },
  {
   "cell_type": "code",
   "execution_count": 7,
   "metadata": {
    "collapsed": true
   },
   "outputs": [],
   "source": [
    "def change_date(str):\n",
    "    return parser.parse(str)\n",
    "df[\"评论时间\"] = df[\"评论时间\"].apply(change_date)"
   ]
  },
  {
   "cell_type": "code",
   "execution_count": 8,
   "metadata": {},
   "outputs": [
    {
     "data": {
      "text/plain": [
       "pandas._libs.tslib.Timestamp"
      ]
     },
     "execution_count": 8,
     "metadata": {},
     "output_type": "execute_result"
    }
   ],
   "source": [
    "df.head(5)\n",
    "type(df[\"评论时间\"][0])"
   ]
  },
  {
   "cell_type": "code",
   "execution_count": 9,
   "metadata": {},
   "outputs": [
    {
     "data": {
      "text/html": [
       "<div>\n",
       "<style>\n",
       "    .dataframe thead tr:only-child th {\n",
       "        text-align: right;\n",
       "    }\n",
       "\n",
       "    .dataframe thead th {\n",
       "        text-align: left;\n",
       "    }\n",
       "\n",
       "    .dataframe tbody tr th {\n",
       "        vertical-align: top;\n",
       "    }\n",
       "</style>\n",
       "<table border=\"1\" class=\"dataframe\">\n",
       "  <thead>\n",
       "    <tr style=\"text-align: right;\">\n",
       "      <th></th>\n",
       "      <th>评分情况</th>\n",
       "    </tr>\n",
       "  </thead>\n",
       "  <tbody>\n",
       "    <tr>\n",
       "      <th>count</th>\n",
       "      <td>111525.000000</td>\n",
       "    </tr>\n",
       "    <tr>\n",
       "      <th>mean</th>\n",
       "      <td>4.131011</td>\n",
       "    </tr>\n",
       "    <tr>\n",
       "      <th>std</th>\n",
       "      <td>1.128443</td>\n",
       "    </tr>\n",
       "    <tr>\n",
       "      <th>min</th>\n",
       "      <td>1.000000</td>\n",
       "    </tr>\n",
       "    <tr>\n",
       "      <th>25%</th>\n",
       "      <td>4.000000</td>\n",
       "    </tr>\n",
       "    <tr>\n",
       "      <th>50%</th>\n",
       "      <td>5.000000</td>\n",
       "    </tr>\n",
       "    <tr>\n",
       "      <th>75%</th>\n",
       "      <td>5.000000</td>\n",
       "    </tr>\n",
       "    <tr>\n",
       "      <th>max</th>\n",
       "      <td>5.000000</td>\n",
       "    </tr>\n",
       "  </tbody>\n",
       "</table>\n",
       "</div>"
      ],
      "text/plain": [
       "                评分情况\n",
       "count  111525.000000\n",
       "mean        4.131011\n",
       "std         1.128443\n",
       "min         1.000000\n",
       "25%         4.000000\n",
       "50%         5.000000\n",
       "75%         5.000000\n",
       "max         5.000000"
      ]
     },
     "execution_count": 9,
     "metadata": {},
     "output_type": "execute_result"
    }
   ],
   "source": [
    "df.describe()"
   ]
  },
  {
   "cell_type": "code",
   "execution_count": 10,
   "metadata": {},
   "outputs": [
    {
     "data": {
      "text/plain": [
       "5.0    57072\n",
       "4.0    28495\n",
       "3.0    15149\n",
       "1.0     5694\n",
       "2.0     5115\n",
       "Name: 评分情况, dtype: int64"
      ]
     },
     "execution_count": 10,
     "metadata": {},
     "output_type": "execute_result"
    }
   ],
   "source": [
    "df[\"评分情况\"].value_counts()"
   ]
  },
  {
   "cell_type": "code",
   "execution_count": 36,
   "metadata": {},
   "outputs": [
    {
     "data": {
      "text/plain": [
       "2017-07-30    13741\n",
       "2017-08-06    13631\n",
       "2017-07-29    12308\n",
       "2017-08-05    11549\n",
       "2017-07-31    11259\n",
       "2017-08-01     9535\n",
       "2017-08-03     8646\n",
       "2017-08-02     8428\n",
       "2017-08-04     7957\n",
       "2017-07-28     7811\n",
       "2017-07-27     2112\n",
       "2017-07-26       59\n",
       "2017-07-23       37\n",
       "2017-07-24       22\n",
       "2017-07-25       18\n",
       "2017-07-21        7\n",
       "2017-07-16        6\n",
       "2017-07-22        6\n",
       "2017-07-07        3\n",
       "2017-07-19        2\n",
       "2017-07-14        2\n",
       "2017-07-11        1\n",
       "2017-07-18        1\n",
       "2017-07-09        1\n",
       "2017-07-03        1\n",
       "2017-06-30        1\n",
       "2017-07-17        1\n",
       "2017-07-04        1\n",
       "Name: time, dtype: int64"
      ]
     },
     "execution_count": 36,
     "metadata": {},
     "output_type": "execute_result"
    }
   ],
   "source": [
    "df_output[\"time\"].dt.date.value_counts()"
   ]
  },
  {
   "cell_type": "code",
   "execution_count": null,
   "metadata": {
    "collapsed": true
   },
   "outputs": [],
   "source": [
    "df_output = df[[\"评分情况\",\"评论时间\"]]\n",
    "df_output.columns = [\"rating\",\"time\"]"
   ]
  },
  {
   "cell_type": "code",
   "execution_count": 3,
   "metadata": {},
   "outputs": [],
   "source": [
    "#df_output.to_csv('final.csv')\n",
    "\n",
    "df_output = pd.read_csv('final.csv')"
   ]
  },
  {
   "cell_type": "code",
   "execution_count": 7,
   "metadata": {},
   "outputs": [],
   "source": [
    "df_output =df_output[[\"rating\",\"time\"]]\n",
    "df_output\n",
    "def change_date(str):\n",
    "    return parser.parse(str)\n",
    "df_output[\"time\"] = df_output[\"time\"].apply(change_date)"
   ]
  },
  {
   "cell_type": "code",
   "execution_count": 8,
   "metadata": {},
   "outputs": [],
   "source": [
    "df_5 = df_output[df_output[\"rating\"]==5]\n",
    "df_5.columns = [\"rating\",\"5\"]\n",
    "\n",
    "df_4 = df_output[df_output[\"rating\"]==4]\n",
    "df_4.columns = [\"rating\",\"4\"]\n",
    "\n",
    "df_3 = df_output[df_output[\"rating\"]==3]\n",
    "df_3.columns = [\"rating\",\"3\"]\n",
    "\n",
    "df_2 = df_output[df_output[\"rating\"]==2]\n",
    "df_2.columns = [\"rating\",\"2\"]\n",
    "\n",
    "df_1 = df_output[df_output[\"rating\"]==1]\n",
    "df_1.columns = [\"rating\",\"1\"]"
   ]
  },
  {
   "cell_type": "code",
   "execution_count": 9,
   "metadata": {},
   "outputs": [],
   "source": [
    "a = df_5[\"5\"].groupby(df_5[\"5\"].dt.date).count()\n",
    "b = df_4[\"4\"].groupby(df_4[\"4\"].dt.date).count()\n",
    "c = df_3[\"3\"].groupby(df_3[\"3\"].dt.date).count()\n",
    "d = df_2[\"2\"].groupby(df_2[\"2\"].dt.date).count()\n",
    "e = df_1[\"1\"].groupby(df_1[\"1\"].dt.date).count()"
   ]
  },
  {
   "cell_type": "code",
   "execution_count": 28,
   "metadata": {},
   "outputs": [
    {
     "data": {
      "text/plain": [
       "<matplotlib.text.Text at 0x1b8f6c8cb00>"
      ]
     },
     "execution_count": 28,
     "metadata": {},
     "output_type": "execute_result"
    },
    {
     "data": {
      "image/png": "[encoded data removed]",
      "text/plain": [
       "<matplotlib.figure.Figure at 0x1b8f6bf3208>"
      ]
     },
     "metadata": {},
     "output_type": "display_data"
    }
   ],
   "source": [
    "fig = plt.figure(figsize=(15,6))\n",
    "a.plot.line(legend=True)\n",
    "b.plot.line(legend=True)\n",
    "c.plot.line(legend=True)\n",
    "d.plot.line(legend=True)\n",
    "e.plot.line(legend=True)\n",
    "plt.xlabel(\"日期\",fontproperties=myfont)\n",
    "plt.ylabel(\"打分人数\",fontproperties=myfont)\n",
    "plt.title(\"战狼2豆瓣评分\",fontproperties=myfont)"
   ]
  },
  {
   "cell_type": "code",
   "execution_count": 17,
   "metadata": {},
   "outputs": [
    {
     "data": {
      "text/plain": [
       "'C:\\\\Users\\\\Clark Yu\\\\Anaconda3\\\\lib\\\\site-packages\\\\matplotlib\\\\mpl-data\\\\matplotlibrc'"
      ]
     },
     "execution_count": 17,
     "metadata": {},
     "output_type": "execute_result"
    }
   ],
   "source": [
    "import matplotlib\n",
    "matplotlib.matplotlib_fname() "
   ]
  },
  {
   "cell_type": "code",
   "execution_count": 26,
   "metadata": {},
   "outputs": [
    {
     "data": {
      "text/plain": [
       "<matplotlib.text.Text at 0x1b8f6920898>"
      ]
     },
     "execution_count": 26,
     "metadata": {},
     "output_type": "execute_result"
    },
    {
     "data": {
      "image/png": "[encoded data removed]",
      "text/plain": [
       "<matplotlib.figure.Figure at 0x1b8f674fb38>"
      ]
     },
     "metadata": {},
     "output_type": "display_data"
    }
   ],
   "source": [
    "import matplotlib.font_manager as fm\n",
    "myfont = fm.FontProperties(fname='C:/Windows/Fonts/msyh.ttc')\n",
    "\n",
    "plt.rcParams.update({'font.size': 10})\n",
    "\n",
    "plt.figure(figsize=(10,6))\n",
    "df_1[\"1\"].groupby(df_1[\"1\"].dt.date).count().plot(kind=\"bar\")\n",
    "plt.title(\"战狼2豆瓣1星评分\",fontproperties=myfont)\n",
    "plt.xlabel(\"日期\",fontproperties=myfont)\n",
    "plt.ylabel(\"评分人数\",fontproperties=myfont)"
   ]
  },
  {
   "cell_type": "code",
   "execution_count": null,
   "metadata": {},
   "outputs": [],
   "source": [
    "df_1[\"1\"].groupby(df_1[\"1\"].dt.date).count().plot(kind=\"bar\")"
   ]
  }
 ],
 "metadata": {
  "kernelspec": {
   "display_name": "Python 3",
   "language": "python",
   "name": "python3"
  },
  "language_info": {
   "codemirror_mode": {
    "name": "ipython",
    "version": 3
   },
   "file_extension": ".py",
   "mimetype": "text/x-python",
   "name": "python",
   "nbconvert_exporter": "python",
   "pygments_lexer": "ipython3",
   "version": "3.6.1"
  }
 },
 "nbformat": 4,
 "nbformat_minor": 2
}
