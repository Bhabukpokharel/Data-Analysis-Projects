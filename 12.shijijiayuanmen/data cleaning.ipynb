{
 "cells": [
  {
   "cell_type": "code",
   "execution_count": 77,
   "metadata": {},
   "outputs": [],
   "source": [
    "##清洗url变成ID\n",
    "sx = pd.read_csv(\"shaoxin.csv\",index_col=0)\n",
    "del sx[\"age\"]\n",
    "\n",
    "sx = sx.reset_index(drop=True)\n",
    "\n",
    "def get_id(a):\n",
    "    s = a.find(\".com/\")\n",
    "    return a[s+5:s+14]\n",
    "\n",
    "sx.columns=[\"del\",\"url\"]\n",
    "del sx[\"del\"]\n",
    "sx[\"id\"] = sx[\"url\"].apply(get_id)\n",
    "del sx[\"url\"]\n",
    "\n",
    "sx.to_csv(\"sxlist.csv\",encoding='utf-8')"
   ]
  },
  {
   "cell_type": "code",
   "execution_count": 82,
   "metadata": {
    "collapsed": true
   },
   "outputs": [],
   "source": [
    "##################开始正式清洗\n",
    "import pandas as pd\n",
    "import re\n",
    "data = pd.read_excel(\"data.xlsx\",index_col = 0)\n",
    "data = data.drop_duplicates().reset_index()\n",
    "del data[\"index\"]"
   ]
  },
  {
   "cell_type": "code",
   "execution_count": 83,
   "metadata": {},
   "outputs": [
    {
     "data": {
      "text/html": [
       "<div>\n",
       "<style>\n",
       "    .dataframe thead tr:only-child th {\n",
       "        text-align: right;\n",
       "    }\n",
       "\n",
       "    .dataframe thead th {\n",
       "        text-align: left;\n",
       "    }\n",
       "\n",
       "    .dataframe tbody tr th {\n",
       "        vertical-align: top;\n",
       "    }\n",
       "</style>\n",
       "<table border=\"1\" class=\"dataframe\">\n",
       "  <thead>\n",
       "    <tr style=\"text-align: right;\">\n",
       "      <th></th>\n",
       "      <th>id</th>\n",
       "    </tr>\n",
       "  </thead>\n",
       "  <tbody>\n",
       "    <tr>\n",
       "      <th>count</th>\n",
       "      <td>6.346600e+04</td>\n",
       "    </tr>\n",
       "    <tr>\n",
       "      <th>mean</th>\n",
       "      <td>1.191885e+08</td>\n",
       "    </tr>\n",
       "    <tr>\n",
       "      <th>std</th>\n",
       "      <td>5.380365e+07</td>\n",
       "    </tr>\n",
       "    <tr>\n",
       "      <th>min</th>\n",
       "      <td>1.000062e+06</td>\n",
       "    </tr>\n",
       "    <tr>\n",
       "      <th>25%</th>\n",
       "      <td>7.487876e+07</td>\n",
       "    </tr>\n",
       "    <tr>\n",
       "      <th>50%</th>\n",
       "      <td>1.451353e+08</td>\n",
       "    </tr>\n",
       "    <tr>\n",
       "      <th>75%</th>\n",
       "      <td>1.665476e+08</td>\n",
       "    </tr>\n",
       "    <tr>\n",
       "      <th>max</th>\n",
       "      <td>1.697195e+08</td>\n",
       "    </tr>\n",
       "  </tbody>\n",
       "</table>\n",
       "</div>"
      ],
      "text/plain": [
       "                 id\n",
       "count  6.346600e+04\n",
       "mean   1.191885e+08\n",
       "std    5.380365e+07\n",
       "min    1.000062e+06\n",
       "25%    7.487876e+07\n",
       "50%    1.451353e+08\n",
       "75%    1.665476e+08\n",
       "max    1.697195e+08"
      ]
     },
     "execution_count": 83,
     "metadata": {},
     "output_type": "execute_result"
    }
   ],
   "source": [
    "data.describe()"
   ]
  },
  {
   "cell_type": "code",
   "execution_count": 81,
   "metadata": {},
   "outputs": [],
   "source": [
    "#data.columns"
   ]
  },
  {
   "cell_type": "code",
   "execution_count": 84,
   "metadata": {
    "collapsed": true
   },
   "outputs": [],
   "source": [
    "def clean_age(age):   #清洗年龄\n",
    "    if \"岁\" in age:\n",
    "        return int(age[:-1])\n",
    "    else:\n",
    "        return None\n",
    "data[\"age\"] = data[\"age\"].apply(clean_age)"
   ]
  },
  {
   "cell_type": "code",
   "execution_count": 85,
   "metadata": {
    "collapsed": true
   },
   "outputs": [],
   "source": [
    "a = data[\"age\"].value_counts()\n",
    "a.to_frame().to_csv(\"age.csv\",encoding='utf-8')"
   ]
  },
  {
   "cell_type": "code",
   "execution_count": 86,
   "metadata": {
    "collapsed": true
   },
   "outputs": [],
   "source": [
    "b = data[\"education\"].value_counts()\n",
    "b.to_frame().to_csv(\"education.csv\",encoding='utf-8')"
   ]
  },
  {
   "cell_type": "code",
   "execution_count": 87,
   "metadata": {
    "collapsed": true
   },
   "outputs": [],
   "source": [
    "def clean_height(height):\n",
    "    if \"cm\" in height:\n",
    "        return int(height[:-2])\n",
    "    else:\n",
    "        return None\n",
    "data[\"height\"] = data[\"height\"].apply(clean_height)"
   ]
  },
  {
   "cell_type": "code",
   "execution_count": 88,
   "metadata": {},
   "outputs": [],
   "source": [
    "c = data[\"height\"].value_counts()\n",
    "c.to_frame().to_csv(\"height.csv\",encoding='utf-8')"
   ]
  },
  {
   "cell_type": "code",
   "execution_count": 89,
   "metadata": {
    "collapsed": true
   },
   "outputs": [],
   "source": [
    "d = data[\"marriaged\"].value_counts()\n",
    "d.to_frame().to_csv(\"marriaged.csv\",encoding='utf-8')"
   ]
  },
  {
   "cell_type": "code",
   "execution_count": 4,
   "metadata": {
    "collapsed": true
   },
   "outputs": [],
   "source": [
    "d = data[\"house\"].value_counts()\n",
    "d.to_frame().to_csv(\"house.csv\",encoding='utf-8')"
   ]
  },
  {
   "cell_type": "code",
   "execution_count": 95,
   "metadata": {},
   "outputs": [],
   "source": [
    "d = data[\"location\"].value_counts()\n",
    "d.to_frame().to_csv(\"location3.csv\",encoding='utf-8')"
   ]
  },
  {
   "cell_type": "code",
   "execution_count": 90,
   "metadata": {
    "collapsed": true
   },
   "outputs": [],
   "source": [
    "d = data[\"constellation\"].value_counts()\n",
    "d.to_frame().to_csv(\"constellation.csv\",encoding='utf-8')"
   ]
  },
  {
   "cell_type": "code",
   "execution_count": 5,
   "metadata": {
    "collapsed": true
   },
   "outputs": [],
   "source": [
    "d = data[\"car\"].value_counts()\n",
    "d.to_frame().to_csv(\"car.csv\",encoding='utf-8')"
   ]
  },
  {
   "cell_type": "code",
   "execution_count": 91,
   "metadata": {
    "collapsed": true
   },
   "outputs": [],
   "source": [
    "d=data[\"shengxiao\"].value_counts()\n",
    "d.to_frame().to_csv(\"shenxiao.csv\",encoding='utf-8')"
   ]
  },
  {
   "cell_type": "code",
   "execution_count": 7,
   "metadata": {
    "collapsed": true
   },
   "outputs": [],
   "source": [
    "def clean_js_age(age):\n",
    "    try:\n",
    "        if \"不限\" not in age:\n",
    "            pattern = re.compile('(\\d+)-(\\d+)岁',re.S)\n",
    "            result = pattern.search(age)\n",
    "            if result is not None:\n",
    "                return (float(result.group(1)) + float(result.group(2)))/2\n",
    "            else:\n",
    "                pattern = re.compile('(\\d+)岁',re.S)\n",
    "                result = pattern.search(age)\n",
    "                return float(result.group(1))\n",
    "        else:\n",
    "            return None\n",
    "    except:\n",
    "        pass"
   ]
  },
  {
   "cell_type": "code",
   "execution_count": 8,
   "metadata": {
    "collapsed": true,
    "scrolled": false
   },
   "outputs": [],
   "source": [
    "data[\"js_age\"] = data[\"js_age\"].apply(clean_js_age)"
   ]
  },
  {
   "cell_type": "code",
   "execution_count": 9,
   "metadata": {
    "collapsed": true
   },
   "outputs": [],
   "source": [
    "list1 = data['js_age'].groupby(data['age']).mean()"
   ]
  },
  {
   "cell_type": "code",
   "execution_count": 11,
   "metadata": {
    "collapsed": true
   },
   "outputs": [],
   "source": [
    "list1.to_frame()\n",
    "list1.to_csv(\"age_js.csv\",encoding=\"utf-8\")"
   ]
  },
  {
   "cell_type": "code",
   "execution_count": 12,
   "metadata": {
    "collapsed": true
   },
   "outputs": [],
   "source": [
    "def clean_js_height(height):\n",
    "    try:\n",
    "        if \"不限\" not in height:\n",
    "            pattern = re.compile('(\\d+)-(\\d+)厘米',re.S)\n",
    "            result = pattern.search(height)\n",
    "            if result is not None:\n",
    "                return (float(result.group(1)) + float(result.group(2)))/2\n",
    "            else:\n",
    "                pattern = re.compile('(\\d+)厘米',re.S)\n",
    "                result = pattern.search(height)\n",
    "                return float(result.group(1))\n",
    "        else:\n",
    "            return None\n",
    "    except:\n",
    "        pass"
   ]
  },
  {
   "cell_type": "code",
   "execution_count": 13,
   "metadata": {
    "collapsed": true
   },
   "outputs": [],
   "source": [
    "data[\"js_height\"] = data[\"js_height\"].apply(clean_js_height)"
   ]
  },
  {
   "cell_type": "code",
   "execution_count": 15,
   "metadata": {
    "collapsed": true
   },
   "outputs": [],
   "source": [
    "list2 = data['js_height'].groupby(data['height']).mean()\n",
    "list2.to_csv(\"shengaojs.csv\",encoding=\"utf-8\")"
   ]
  },
  {
   "cell_type": "code",
   "execution_count": 249,
   "metadata": {},
   "outputs": [
    {
     "data": {
      "text/plain": [
       "count    34563.000000\n",
       "mean       176.520557\n",
       "std          5.198413\n",
       "min        130.000000\n",
       "25%        174.500000\n",
       "50%        177.500000\n",
       "75%        178.500000\n",
       "max        226.000000\n",
       "Name: js_height, dtype: float64"
      ]
     },
     "execution_count": 249,
     "metadata": {},
     "output_type": "execute_result"
    }
   ],
   "source": [
    "data['js_height'].describe()"
   ]
  },
  {
   "cell_type": "code",
   "execution_count": 16,
   "metadata": {},
   "outputs": [
    {
     "data": {
      "text/plain": [
       "不限         31088\n",
       "未婚         23780\n",
       "未婚、离异       2427\n",
       "离异、丧偶       1169\n",
       "离异           849\n",
       "未婚 *         704\n",
       "未婚、离异 *       94\n",
       "未婚、丧偶         88\n",
       "离异 *          73\n",
       "丧偶            54\n",
       "离异、丧偶 *       53\n",
       "未婚、丧偶 *        4\n",
       "丧偶 *           1\n",
       "Name: js_marriaged, dtype: int64"
      ]
     },
     "execution_count": 16,
     "metadata": {},
     "output_type": "execute_result"
    }
   ],
   "source": [
    "data[\"js_marriaged\"].value_counts()"
   ]
  },
  {
   "cell_type": "code",
   "execution_count": 17,
   "metadata": {
    "collapsed": true
   },
   "outputs": [],
   "source": [
    "def clean_js_marriaged(status):\n",
    "    try:\n",
    "        return status.replace(\" \",\"\").replace(\"\\xa0*\",\"\")\n",
    "    except:\n",
    "        pass"
   ]
  },
  {
   "cell_type": "code",
   "execution_count": 18,
   "metadata": {
    "collapsed": true,
    "scrolled": true
   },
   "outputs": [],
   "source": [
    "data[\"js_marriaged\"] = data[\"js_marriaged\"].apply(clean_js_marriaged)"
   ]
  },
  {
   "cell_type": "code",
   "execution_count": 20,
   "metadata": {},
   "outputs": [],
   "source": [
    "a = data['js_marriaged'].groupby(data['marriaged']).value_counts()"
   ]
  },
  {
   "cell_type": "code",
   "execution_count": 22,
   "metadata": {},
   "outputs": [
    {
     "data": {
      "text/plain": [
       "marriaged  js_marriaged\n",
       ",无小孩       未婚                  1\n",
       "丧偶         不限                300\n",
       "           未婚                 48\n",
       "           离异、丧偶              20\n",
       "           丧偶                 12\n",
       "           未婚、丧偶               9\n",
       "           未婚、离异               3\n",
       "           离异                  3\n",
       "丧偶,无小孩     不限                 67\n",
       "           未婚                 12\n",
       "           离异、丧偶              11\n",
       "           丧偶                  4\n",
       "           未婚、丧偶               3\n",
       "           离异                  2\n",
       "丧偶,有小孩归对方  不限                 10\n",
       "           未婚                  2\n",
       "           离异、丧偶               2\n",
       "           未婚、离异               1\n",
       "丧偶,有小孩归自己  不限                426\n",
       "           离异、丧偶              83\n",
       "           丧偶                 16\n",
       "           未婚                 14\n",
       "           未婚、丧偶               8\n",
       "           未婚、离异               4\n",
       "           离异                  2\n",
       "未填         不限                  1\n",
       "           丧偶                  1\n",
       "           未婚                  1\n",
       "未婚         未婚              23243\n",
       "           不限              19766\n",
       "                           ...  \n",
       "未婚、离异,无小孩  离异                  1\n",
       "离异         不限               3875\n",
       "           未婚                723\n",
       "           未婚、离异             251\n",
       "           离异、丧偶             204\n",
       "           离异                186\n",
       "           丧偶                  7\n",
       "           未婚、丧偶               2\n",
       "离异,无小孩     不限               1452\n",
       "           未婚、离异             375\n",
       "           未婚                190\n",
       "           离异                156\n",
       "           离异、丧偶             118\n",
       "           丧偶                  3\n",
       "           未婚、丧偶               3\n",
       "离异,有小孩归对方  不限               2252\n",
       "           未婚、离异             300\n",
       "           离异、丧偶             254\n",
       "           离异                168\n",
       "           未婚                 96\n",
       "           未婚、丧偶               4\n",
       "           丧偶                  3\n",
       "离异,有小孩归自己  不限               2934\n",
       "           离异、丧偶             467\n",
       "           未婚、离异             385\n",
       "           离异                294\n",
       "           未婚                154\n",
       "           丧偶                  8\n",
       "           未婚、丧偶               6\n",
       "离异、丧偶      不限                  1\n",
       "Name: js_marriaged, Length: 66, dtype: int64"
      ]
     },
     "execution_count": 22,
     "metadata": {},
     "output_type": "execute_result"
    }
   ],
   "source": [
    "a"
   ]
  },
  {
   "cell_type": "code",
   "execution_count": 21,
   "metadata": {
    "collapsed": true
   },
   "outputs": [],
   "source": [
    "a.to_csv(\"huyinjs.csv\",encoding=\"utf-8\")"
   ]
  },
  {
   "cell_type": "code",
   "execution_count": 92,
   "metadata": {
    "collapsed": true
   },
   "outputs": [],
   "source": [
    "def check_location(row):\n",
    "    try:\n",
    "        if row[\"location\"] in row[\"js_location\"]:\n",
    "            return 1\n",
    "        else:\n",
    "            if \"不限\" in row[\"js_location\"]:\n",
    "                return -1\n",
    "            else:\n",
    "                return 0\n",
    "    except:\n",
    "        pass\n",
    "\n",
    "a = data.apply(check_location,axis=1)"
   ]
  },
  {
   "cell_type": "code",
   "execution_count": 93,
   "metadata": {},
   "outputs": [
    {
     "data": {
      "text/plain": [
       " 1    36046\n",
       " 0    19085\n",
       "-1     8335\n",
       "dtype: int64"
      ]
     },
     "execution_count": 93,
     "metadata": {},
     "output_type": "execute_result"
    }
   ],
   "source": [
    "a.value_counts()"
   ]
  }
 ],
 "metadata": {
  "kernelspec": {
   "display_name": "Python 3",
   "language": "python",
   "name": "python3"
  },
  "language_info": {
   "codemirror_mode": {
    "name": "ipython",
    "version": 3
   },
   "file_extension": ".py",
   "mimetype": "text/x-python",
   "name": "python",
   "nbconvert_exporter": "python",
   "pygments_lexer": "ipython3",
   "version": "3.6.1"
  }
 },
 "nbformat": 4,
 "nbformat_minor": 2
}
