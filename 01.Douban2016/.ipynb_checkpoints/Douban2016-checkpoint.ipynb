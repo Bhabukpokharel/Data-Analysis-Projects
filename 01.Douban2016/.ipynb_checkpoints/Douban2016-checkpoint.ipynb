{
 "cells": [
  {
   "cell_type": "code",
   "execution_count": 1,
   "metadata": {
    "collapsed": true
   },
   "outputs": [],
   "source": [
    "#截至2月24日"
   ]
  },
  {
   "cell_type": "code",
   "execution_count": 1,
   "metadata": {
    "collapsed": false,
    "scrolled": false
   },
   "outputs": [
    {
     "data": {
      "text/html": [
       "<div>\n",
       "<table border=\"1\" class=\"dataframe\">\n",
       "  <thead>\n",
       "    <tr style=\"text-align: right;\">\n",
       "      <th></th>\n",
       "      <th>url</th>\n",
       "      <th>actors</th>\n",
       "      <th>area</th>\n",
       "      <th>audience</th>\n",
       "      <th>director</th>\n",
       "      <th>genre</th>\n",
       "      <th>rate</th>\n",
       "      <th>title</th>\n",
       "      <th>year</th>\n",
       "      <th>...</th>\n",
       "    </tr>\n",
       "  </thead>\n",
       "  <tbody>\n",
       "    <tr>\n",
       "      <th>0</th>\n",
       "      <td>https://movie.douban.com/subject/26935292/</td>\n",
       "      <td>[\"李家鼎\", \"谭玉瑛\"]</td>\n",
       "      <td>香港</td>\n",
       "      <td>73.0</td>\n",
       "      <td>[\"林志荣\", \"张洪翅\"]</td>\n",
       "      <td>[\"真人秀\"]</td>\n",
       "      <td>9.0</td>\n",
       "      <td>阿爷厨房 阿爺廚房</td>\n",
       "      <td>(2016)</td>\n",
       "      <td>{}</td>\n",
       "    </tr>\n",
       "    <tr>\n",
       "      <th>1</th>\n",
       "      <td>https://movie.douban.com/subject/26877843/</td>\n",
       "      <td>[\"薛皓文\", \"詹思萌\", \"马刚\", \"言杰\", \"任萧楠\", \"苏芸盟\", \"秦子婷\"...</td>\n",
       "      <td>中国大陆</td>\n",
       "      <td>69.0</td>\n",
       "      <td>[\"蒋丛\"]</td>\n",
       "      <td>[\"剧情\"]</td>\n",
       "      <td>3.2</td>\n",
       "      <td>屠门镇之破茧之子</td>\n",
       "      <td>(2016)</td>\n",
       "      <td>{}</td>\n",
       "    </tr>\n",
       "    <tr>\n",
       "      <th>2</th>\n",
       "      <td>https://movie.douban.com/subject/26746808/</td>\n",
       "      <td>[\"吹石一惠\"]</td>\n",
       "      <td>日本</td>\n",
       "      <td>68.0</td>\n",
       "      <td>[\"NHK\"]</td>\n",
       "      <td>[\"纪录片\"]</td>\n",
       "      <td>7.6</td>\n",
       "      <td>纪实72小时～东京 铁塔下的新年祈愿 ドキュメント72時間 東京タワーで見る初夢は</td>\n",
       "      <td>(2016)</td>\n",
       "      <td>{}</td>\n",
       "    </tr>\n",
       "    <tr>\n",
       "      <th>3</th>\n",
       "      <td>https://movie.douban.com/subject/26887081/</td>\n",
       "      <td>[]</td>\n",
       "      <td>台湾</td>\n",
       "      <td>278.0</td>\n",
       "      <td>[\"徐国峰\"]</td>\n",
       "      <td>[\"动画\", \"短片\"]</td>\n",
       "      <td>6.8</td>\n",
       "      <td>缺乏名字的场所 缺乏名字的場所</td>\n",
       "      <td>(2016)</td>\n",
       "      <td>{}</td>\n",
       "    </tr>\n",
       "    <tr>\n",
       "      <th>4</th>\n",
       "      <td>https://movie.douban.com/subject/26741677/</td>\n",
       "      <td>[]</td>\n",
       "      <td>日本</td>\n",
       "      <td>68.0</td>\n",
       "      <td>[]</td>\n",
       "      <td>[\"纪录片\"]</td>\n",
       "      <td>8.0</td>\n",
       "      <td>纪实72小时 隆冬的东京 有一种温暖叫“花子” ドキュメント72時間 真冬の東京 その名は“...</td>\n",
       "      <td>(2016)</td>\n",
       "      <td>{}</td>\n",
       "    </tr>\n",
       "  </tbody>\n",
       "</table>\n",
       "</div>"
      ],
      "text/plain": [
       "                                          url  \\\n",
       "0  https://movie.douban.com/subject/26935292/   \n",
       "1  https://movie.douban.com/subject/26877843/   \n",
       "2  https://movie.douban.com/subject/26746808/   \n",
       "3  https://movie.douban.com/subject/26887081/   \n",
       "4  https://movie.douban.com/subject/26741677/   \n",
       "\n",
       "                                              actors  area  audience  \\\n",
       "0                                     [\"李家鼎\", \"谭玉瑛\"]    香港      73.0   \n",
       "1  [\"薛皓文\", \"詹思萌\", \"马刚\", \"言杰\", \"任萧楠\", \"苏芸盟\", \"秦子婷\"...  中国大陆      69.0   \n",
       "2                                           [\"吹石一惠\"]    日本      68.0   \n",
       "3                                                 []    台湾     278.0   \n",
       "4                                                 []    日本      68.0   \n",
       "\n",
       "         director         genre  rate  \\\n",
       "0  [\"林志荣\", \"张洪翅\"]       [\"真人秀\"]   9.0   \n",
       "1          [\"蒋丛\"]        [\"剧情\"]   3.2   \n",
       "2         [\"NHK\"]       [\"纪录片\"]   7.6   \n",
       "3         [\"徐国峰\"]  [\"动画\", \"短片\"]   6.8   \n",
       "4              []       [\"纪录片\"]   8.0   \n",
       "\n",
       "                                               title    year ...  \n",
       "0                                          阿爷厨房 阿爺廚房  (2016)  {}  \n",
       "1                                           屠门镇之破茧之子  (2016)  {}  \n",
       "2          纪实72小时～东京 铁塔下的新年祈愿 ドキュメント72時間 東京タワーで見る初夢は  (2016)  {}  \n",
       "3                                    缺乏名字的场所 缺乏名字的場所  (2016)  {}  \n",
       "4  纪实72小时 隆冬的东京 有一种温暖叫“花子” ドキュメント72時間 真冬の東京 その名は“...  (2016)  {}  "
      ]
     },
     "execution_count": 1,
     "metadata": {},
     "output_type": "execute_result"
    }
   ],
   "source": [
    "import json\n",
    "import pandas as pd\n",
    "import numpy as np\n",
    "douban = pd.read_csv('douban2016all.csv')\n",
    "douban = douban[douban[\"year\"]==\"(2016)\"] #过滤时间\n",
    "douban = douban[np.isfinite(douban['rate'])]\n",
    "douban.reset_index(drop=True, inplace=True)\n",
    "douban.head()"
   ]
  },
  {
   "cell_type": "code",
   "execution_count": 2,
   "metadata": {
    "collapsed": false,
    "scrolled": true
   },
   "outputs": [
    {
     "data": {
      "text/plain": [
       "2520"
      ]
     },
     "execution_count": 2,
     "metadata": {},
     "output_type": "execute_result"
    }
   ],
   "source": [
    "douban2 = douban[[\"title\",\"year\",\"actors\", \"director\", \"genre\", \"rate\",\"audience\",\"url\",\"area\"]]\n",
    "len(douban2)"
   ]
  },
  {
   "cell_type": "code",
   "execution_count": 3,
   "metadata": {
    "collapsed": true
   },
   "outputs": [],
   "source": [
    "#search title\n",
    "def search(data,colname,title):\n",
    "    return data.loc[data[colname]==title]"
   ]
  },
  {
   "cell_type": "code",
   "execution_count": 4,
   "metadata": {
    "collapsed": false,
    "scrolled": true
   },
   "outputs": [
    {
     "data": {
      "text/html": [
       "<div>\n",
       "<table border=\"1\" class=\"dataframe\">\n",
       "  <thead>\n",
       "    <tr style=\"text-align: right;\">\n",
       "      <th></th>\n",
       "      <th>title</th>\n",
       "      <th>year</th>\n",
       "      <th>actors</th>\n",
       "      <th>director</th>\n",
       "      <th>genre</th>\n",
       "      <th>rate</th>\n",
       "      <th>audience</th>\n",
       "      <th>url</th>\n",
       "      <th>area</th>\n",
       "    </tr>\n",
       "  </thead>\n",
       "  <tbody>\n",
       "    <tr>\n",
       "      <th>2510</th>\n",
       "      <td>驴得水</td>\n",
       "      <td>(2016)</td>\n",
       "      <td>[\"任素汐\", \"大力\", \"刘帅良\", \"裴魁山\", \"阿如那\", \"韩彦博\", \"卜冠今...</td>\n",
       "      <td>[\"周申\", \"刘露\"]</td>\n",
       "      <td>[\"剧情\", \"喜剧\"]</td>\n",
       "      <td>8.3</td>\n",
       "      <td>229548.0</td>\n",
       "      <td>https://movie.douban.com/subject/25921812/</td>\n",
       "      <td>中国大陆</td>\n",
       "    </tr>\n",
       "  </tbody>\n",
       "</table>\n",
       "</div>"
      ],
      "text/plain": [
       "     title    year                                             actors  \\\n",
       "2510   驴得水  (2016)  [\"任素汐\", \"大力\", \"刘帅良\", \"裴魁山\", \"阿如那\", \"韩彦博\", \"卜冠今...   \n",
       "\n",
       "          director         genre  rate  audience  \\\n",
       "2510  [\"周申\", \"刘露\"]  [\"剧情\", \"喜剧\"]   8.3  229548.0   \n",
       "\n",
       "                                             url  area  \n",
       "2510  https://movie.douban.com/subject/25921812/  中国大陆  "
      ]
     },
     "execution_count": 4,
     "metadata": {},
     "output_type": "execute_result"
    }
   ],
   "source": [
    "search(douban2,\"title\",\"驴得水\")"
   ]
  },
  {
   "cell_type": "code",
   "execution_count": 5,
   "metadata": {
    "collapsed": true
   },
   "outputs": [],
   "source": [
    "#drop data\n",
    "def droptitle(data,title):\n",
    "    return data[data.title!= title]"
   ]
  },
  {
   "cell_type": "code",
   "execution_count": 6,
   "metadata": {
    "collapsed": false
   },
   "outputs": [
    {
     "name": "stdout",
     "output_type": "stream",
     "text": [
      "{'title': '驴得水', 'year': '(2016)', 'actors': '[\"任素汐\", \"大力\", \"刘帅良\", \"裴魁山\", \"阿如那\", \"韩彦博\", \"卜冠今\", \"王堃\", \"高阳\", \"苏千越\", \"查尔斯·亚瑟\", \"王峰\"]', 'director': '[\"周申\", \"刘露\"]', 'genre': '[\"剧情\", \"喜剧\"]', 'rate': 8.3, 'audience': 229548.0, 'url': 'https://movie.douban.com/subject/25921812/', 'area': '中国大陆'}\n"
     ]
    },
    {
     "data": {
      "text/plain": [
       "2520"
      ]
     },
     "execution_count": 6,
     "metadata": {},
     "output_type": "execute_result"
    }
   ],
   "source": [
    "#转换为json\n",
    "data = douban2.to_dict(orient ='index')\n",
    "print(data[2510])\n",
    "len(data)"
   ]
  },
  {
   "cell_type": "code",
   "execution_count": 7,
   "metadata": {
    "collapsed": false
   },
   "outputs": [],
   "source": [
    "def update(data, item):\n",
    "    for movie in data:\n",
    "        aa = []\n",
    "        if item in data[movie]:\n",
    "            subset = data[movie][item]\n",
    "            sublist_new = subset[1:-1].split(\",\")\n",
    "            for i in sublist_new:\n",
    "                i = i.replace(\" \", \"\")\n",
    "                i = i.replace('\"','')\n",
    "                aa.append(i)\n",
    "        data[movie][item] = aa\n",
    "    return data"
   ]
  },
  {
   "cell_type": "code",
   "execution_count": 8,
   "metadata": {
    "collapsed": false
   },
   "outputs": [
    {
     "data": {
      "text/plain": [
       "2520"
      ]
     },
     "execution_count": 8,
     "metadata": {},
     "output_type": "execute_result"
    }
   ],
   "source": [
    "len(data)"
   ]
  },
  {
   "cell_type": "code",
   "execution_count": 9,
   "metadata": {
    "collapsed": false
   },
   "outputs": [
    {
     "data": {
      "text/plain": [
       "{'actors': '[\"任素汐\", \"大力\", \"刘帅良\", \"裴魁山\", \"阿如那\", \"韩彦博\", \"卜冠今\", \"王堃\", \"高阳\", \"苏千越\", \"查尔斯·亚瑟\", \"王峰\"]',\n",
       " 'area': '中国大陆',\n",
       " 'audience': 229548.0,\n",
       " 'director': '[\"周申\", \"刘露\"]',\n",
       " 'genre': '[\"剧情\", \"喜剧\"]',\n",
       " 'rate': 8.3,\n",
       " 'title': '驴得水',\n",
       " 'url': 'https://movie.douban.com/subject/25921812/',\n",
       " 'year': '(2016)'}"
      ]
     },
     "execution_count": 9,
     "metadata": {},
     "output_type": "execute_result"
    }
   ],
   "source": [
    "data[2510]"
   ]
  },
  {
   "cell_type": "code",
   "execution_count": 10,
   "metadata": {
    "collapsed": false
   },
   "outputs": [],
   "source": [
    "new_data = update(data,\"actors\")\n",
    "new_data = update(data,\"director\")\n",
    "new_data = update(data,\"genre\")"
   ]
  },
  {
   "cell_type": "code",
   "execution_count": 11,
   "metadata": {
    "collapsed": false
   },
   "outputs": [
    {
     "data": {
      "text/plain": [
       "2520"
      ]
     },
     "execution_count": 11,
     "metadata": {},
     "output_type": "execute_result"
    }
   ],
   "source": [
    "len(new_data)"
   ]
  },
  {
   "cell_type": "code",
   "execution_count": 12,
   "metadata": {
    "collapsed": false,
    "scrolled": true
   },
   "outputs": [
    {
     "data": {
      "text/plain": [
       "{'actors': ['任素汐',\n",
       "  '大力',\n",
       "  '刘帅良',\n",
       "  '裴魁山',\n",
       "  '阿如那',\n",
       "  '韩彦博',\n",
       "  '卜冠今',\n",
       "  '王堃',\n",
       "  '高阳',\n",
       "  '苏千越',\n",
       "  '查尔斯·亚瑟',\n",
       "  '王峰'],\n",
       " 'area': '中国大陆',\n",
       " 'audience': 229548.0,\n",
       " 'director': ['周申', '刘露'],\n",
       " 'genre': ['剧情', '喜剧'],\n",
       " 'rate': 8.3,\n",
       " 'title': '驴得水',\n",
       " 'url': 'https://movie.douban.com/subject/25921812/',\n",
       " 'year': '(2016)'}"
      ]
     },
     "execution_count": 12,
     "metadata": {},
     "output_type": "execute_result"
    }
   ],
   "source": [
    "new_data[2510]"
   ]
  },
  {
   "cell_type": "code",
   "execution_count": 13,
   "metadata": {
    "collapsed": false,
    "scrolled": false
   },
   "outputs": [],
   "source": [
    "#for movie in new_data:\n",
    "#    print (new_data[movie][\"area\"].find(\"中国\"))"
   ]
  },
  {
   "cell_type": "code",
   "execution_count": 14,
   "metadata": {
    "collapsed": false
   },
   "outputs": [
    {
     "data": {
      "text/plain": [
       "644"
      ]
     },
     "execution_count": 14,
     "metadata": {},
     "output_type": "execute_result"
    }
   ],
   "source": [
    "notchina = [movie for movie in new_data if new_data[movie][\"area\"].find(\"中国\") != 0]\n",
    "for i in notchina:\n",
    "    new_data.pop(i)\n",
    "len(new_data)"
   ]
  },
  {
   "cell_type": "code",
   "execution_count": 15,
   "metadata": {
    "collapsed": true
   },
   "outputs": [],
   "source": [
    "#数据整理完毕"
   ]
  },
  {
   "cell_type": "code",
   "execution_count": 17,
   "metadata": {
    "collapsed": false
   },
   "outputs": [
    {
     "data": {
      "text/html": [
       "<div>\n",
       "<table border=\"1\" class=\"dataframe\">\n",
       "  <thead>\n",
       "    <tr style=\"text-align: right;\">\n",
       "      <th></th>\n",
       "      <th>name</th>\n",
       "      <th>index</th>\n",
       "      <th>rate</th>\n",
       "      <th>audience</th>\n",
       "    </tr>\n",
       "  </thead>\n",
       "  <tbody>\n",
       "    <tr>\n",
       "      <th>62</th>\n",
       "      <td>渡灵人</td>\n",
       "      <td>6.337533</td>\n",
       "      <td>2.2</td>\n",
       "      <td>257.0</td>\n",
       "    </tr>\n",
       "    <tr>\n",
       "      <th>89</th>\n",
       "      <td>看见我和你</td>\n",
       "      <td>6.469715</td>\n",
       "      <td>2.7</td>\n",
       "      <td>239.0</td>\n",
       "    </tr>\n",
       "    <tr>\n",
       "      <th>113</th>\n",
       "      <td>功夫四侠</td>\n",
       "      <td>6.495870</td>\n",
       "      <td>2.4</td>\n",
       "      <td>276.0</td>\n",
       "    </tr>\n",
       "    <tr>\n",
       "      <th>115</th>\n",
       "      <td>西游记之锁妖封魔塔</td>\n",
       "      <td>6.498433</td>\n",
       "      <td>2.9</td>\n",
       "      <td>229.0</td>\n",
       "    </tr>\n",
       "    <tr>\n",
       "      <th>273</th>\n",
       "      <td>人鱼校花</td>\n",
       "      <td>6.559049</td>\n",
       "      <td>2.8</td>\n",
       "      <td>252.0</td>\n",
       "    </tr>\n",
       "    <tr>\n",
       "      <th>24</th>\n",
       "      <td>阿里巴巴2所罗门封印</td>\n",
       "      <td>6.642487</td>\n",
       "      <td>2.6</td>\n",
       "      <td>295.0</td>\n",
       "    </tr>\n",
       "    <tr>\n",
       "      <th>346</th>\n",
       "      <td>越囧</td>\n",
       "      <td>6.643790</td>\n",
       "      <td>2.4</td>\n",
       "      <td>320.0</td>\n",
       "    </tr>\n",
       "    <tr>\n",
       "      <th>48</th>\n",
       "      <td>丑小鸭历险记</td>\n",
       "      <td>6.656212</td>\n",
       "      <td>3.2</td>\n",
       "      <td>243.0</td>\n",
       "    </tr>\n",
       "    <tr>\n",
       "      <th>12</th>\n",
       "      <td>人在驴途</td>\n",
       "      <td>6.774224</td>\n",
       "      <td>3.5</td>\n",
       "      <td>250.0</td>\n",
       "    </tr>\n",
       "    <tr>\n",
       "      <th>153</th>\n",
       "      <td>深宫遗梦</td>\n",
       "      <td>6.807051</td>\n",
       "      <td>3.3</td>\n",
       "      <td>274.0</td>\n",
       "    </tr>\n",
       "    <tr>\n",
       "      <th>339</th>\n",
       "      <td>食人岛</td>\n",
       "      <td>6.810914</td>\n",
       "      <td>2.9</td>\n",
       "      <td>313.0</td>\n",
       "    </tr>\n",
       "    <tr>\n",
       "      <th>456</th>\n",
       "      <td>爱上试睡师</td>\n",
       "      <td>6.818268</td>\n",
       "      <td>3.6</td>\n",
       "      <td>254.0</td>\n",
       "    </tr>\n",
       "    <tr>\n",
       "      <th>36</th>\n",
       "      <td>诡梦凶铃</td>\n",
       "      <td>6.828712</td>\n",
       "      <td>2.4</td>\n",
       "      <td>385.0</td>\n",
       "    </tr>\n",
       "    <tr>\n",
       "      <th>433</th>\n",
       "      <td>杠上开花</td>\n",
       "      <td>6.829794</td>\n",
       "      <td>3.7</td>\n",
       "      <td>250.0</td>\n",
       "    </tr>\n",
       "    <tr>\n",
       "      <th>37</th>\n",
       "      <td>仙侠学院</td>\n",
       "      <td>6.858250</td>\n",
       "      <td>3.1</td>\n",
       "      <td>307.0</td>\n",
       "    </tr>\n",
       "    <tr>\n",
       "      <th>368</th>\n",
       "      <td>失心者</td>\n",
       "      <td>6.866933</td>\n",
       "      <td>4.0</td>\n",
       "      <td>240.0</td>\n",
       "    </tr>\n",
       "    <tr>\n",
       "      <th>345</th>\n",
       "      <td>小草青青</td>\n",
       "      <td>6.915723</td>\n",
       "      <td>3.2</td>\n",
       "      <td>315.0</td>\n",
       "    </tr>\n",
       "    <tr>\n",
       "      <th>21</th>\n",
       "      <td>绝战</td>\n",
       "      <td>6.926479</td>\n",
       "      <td>2.3</td>\n",
       "      <td>443.0</td>\n",
       "    </tr>\n",
       "    <tr>\n",
       "      <th>86</th>\n",
       "      <td>三个孬家伙</td>\n",
       "      <td>6.977095</td>\n",
       "      <td>4.6</td>\n",
       "      <td>233.0</td>\n",
       "    </tr>\n",
       "    <tr>\n",
       "      <th>219</th>\n",
       "      <td>岛囧</td>\n",
       "      <td>6.998510</td>\n",
       "      <td>2.5</td>\n",
       "      <td>438.0</td>\n",
       "    </tr>\n",
       "  </tbody>\n",
       "</table>\n",
       "</div>"
      ],
      "text/plain": [
       "           name     index  rate  audience\n",
       "62          渡灵人  6.337533   2.2     257.0\n",
       "89        看见我和你  6.469715   2.7     239.0\n",
       "113        功夫四侠  6.495870   2.4     276.0\n",
       "115   西游记之锁妖封魔塔  6.498433   2.9     229.0\n",
       "273        人鱼校花  6.559049   2.8     252.0\n",
       "24   阿里巴巴2所罗门封印  6.642487   2.6     295.0\n",
       "346          越囧  6.643790   2.4     320.0\n",
       "48       丑小鸭历险记  6.656212   3.2     243.0\n",
       "12         人在驴途  6.774224   3.5     250.0\n",
       "153        深宫遗梦  6.807051   3.3     274.0\n",
       "339         食人岛  6.810914   2.9     313.0\n",
       "456       爱上试睡师  6.818268   3.6     254.0\n",
       "36         诡梦凶铃  6.828712   2.4     385.0\n",
       "433        杠上开花  6.829794   3.7     250.0\n",
       "37         仙侠学院  6.858250   3.1     307.0\n",
       "368         失心者  6.866933   4.0     240.0\n",
       "345        小草青青  6.915723   3.2     315.0\n",
       "21           绝战  6.926479   2.3     443.0\n",
       "86        三个孬家伙  6.977095   4.6     233.0\n",
       "219          岛囧  6.998510   2.5     438.0"
      ]
     },
     "execution_count": 17,
     "metadata": {},
     "output_type": "execute_result"
    }
   ],
   "source": [
    "#最佳影片\n",
    "movie_list = []\n",
    "for movie in new_data:\n",
    "    movie_list.append(new_data[movie][\"title\"])\n",
    "\n",
    "def classbyitem1(listname, items):\n",
    "    sum_list = []\n",
    "    for name in listname:\n",
    "        movie_name = []\n",
    "        count = 0\n",
    "        total_rate = 0\n",
    "        total_auidence = 0\n",
    "        for movie in new_data:        \n",
    "            if name == new_data[movie][items]:\n",
    "                if new_data[movie][\"rate\"] > 0 and new_data[movie][\"audience\"]>0:\n",
    "                    total_rate = total_rate + new_data[movie][\"rate\"]\n",
    "                    total_auidence = total_auidence + new_data[movie][\"audience\"]\n",
    "                    movie_name.append(new_data[movie][\"title\"])\n",
    "                    count = count + 1        \n",
    "        sum_list.append([name,count,total_rate,total_auidence,movie_name])\n",
    "    return sum_list\n",
    "\n",
    "\n",
    "\n",
    "\n",
    "\n",
    "movie_frame = pd.DataFrame(classbyitem1(movie_list,\"title\"),columns=[\"name\", \"count\",\"total_rate\", \"total_audience\",\"movies\"])\n",
    "movie_frame = movie_frame[movie_frame[\"count\"]>0]\n",
    "movie_frame[\"rate\"] = movie_frame[\"total_rate\"] / movie_frame[\"count\"]\n",
    "movie_frame[\"audience\"] = movie_frame[\"total_audience\"] / movie_frame[\"count\"]\n",
    "movie_frame[\"index\"] = np.log(movie_frame[\"rate\"])+ np.log(movie_frame[\"audience\"])\n",
    "a = movie_frame[movie_frame[\"audience\"]>225].sort_values(by=\"index\",ascending=True).head(20)\n",
    "a[[\"name\",\"index\",\"rate\",\"audience\"]]"
   ]
  },
  {
   "cell_type": "code",
   "execution_count": 25,
   "metadata": {
    "collapsed": false
   },
   "outputs": [
    {
     "data": {
      "text/plain": [
       "count               1.000000\n",
       "total_rate          4.700000\n",
       "total_audience    225.000000\n",
       "rate                4.700000\n",
       "audience          225.000000\n",
       "index               7.069874\n",
       "Name: 0.25, dtype: float64"
      ]
     },
     "execution_count": 25,
     "metadata": {},
     "output_type": "execute_result"
    }
   ],
   "source": [
    "movie_frame.quantile(.25)"
   ]
  },
  {
   "cell_type": "code",
   "execution_count": 26,
   "metadata": {
    "collapsed": false,
    "scrolled": false
   },
   "outputs": [
    {
     "data": {
      "text/html": [
       "<iframe id=\"igraph\" scrolling=\"no\" style=\"border:none;\" seamless=\"seamless\" src=\"https://plot.ly/~chijingclark/4.embed\" height=\"525px\" width=\"100%\"></iframe>"
      ],
      "text/plain": [
       "<plotly.tools.PlotlyDisplay object>"
      ]
     },
     "execution_count": 26,
     "metadata": {},
     "output_type": "execute_result"
    }
   ],
   "source": [
    "import plotly.plotly as py\n",
    "import plotly.graph_objs as go\n",
    "import numpy as np\n",
    "\n",
    "x0 = movie_frame[\"total_rate\"]\n",
    "trace1 = go.Histogram(\n",
    "    x=x0,\n",
    "    histnorm='count',\n",
    "    name='control',\n",
    "    autobinx=False,\n",
    "    xbins=dict(\n",
    "        start=1,\n",
    "        end=10,\n",
    "        size=1\n",
    "    ),\n",
    "    opacity=0.75\n",
    ")\n",
    "\n",
    "data = [trace1]\n",
    "layout = go.Layout(\n",
    "    title='2016国产影视剧豆瓣评分直方图',\n",
    "    xaxis=dict(\n",
    "        title='评分'\n",
    "    ),\n",
    "    yaxis=dict(\n",
    "        title='总数'\n",
    "    ),\n",
    "    bargap=0.2,\n",
    ")\n",
    "fig = go.Figure(data=data, layout=layout)\n",
    "py.iplot(fig, filename='styled histogram')"
   ]
  },
  {
   "cell_type": "code",
   "execution_count": 27,
   "metadata": {
    "collapsed": true
   },
   "outputs": [],
   "source": [
    "def get_list(data, item):  #分别获取演员，导演，和类型名单\n",
    "    results = []\n",
    "    for movie in new_data:\n",
    "        if item in new_data[movie]:\n",
    "            for i in new_data[movie][item]:\n",
    "                if len(i)>0:\n",
    "                    results.append(i)\n",
    "    results = list(set(results))\n",
    "    return results"
   ]
  },
  {
   "cell_type": "code",
   "execution_count": 28,
   "metadata": {
    "collapsed": false,
    "scrolled": false
   },
   "outputs": [],
   "source": [
    "actor_list = get_list(new_data, \"actors\")\n",
    "director_list = get_list(new_data, \"director\")\n",
    "genre_list = get_list(new_data, \"genre\")\n",
    "movie_list = get_list(new_data, \"title\")"
   ]
  },
  {
   "cell_type": "code",
   "execution_count": 29,
   "metadata": {
    "collapsed": true
   },
   "outputs": [],
   "source": [
    "def classbyitem(listname, items):\n",
    "    sum_list = []\n",
    "    for name in listname:\n",
    "        movie_name = []\n",
    "        count = 0\n",
    "        total_rate = 0\n",
    "        total_auidence = 0\n",
    "        for movie in new_data:        \n",
    "            if name in new_data[movie][items]:\n",
    "                if new_data[movie][\"rate\"] > 0 and new_data[movie][\"audience\"]>0:\n",
    "                    total_rate = total_rate + new_data[movie][\"rate\"]\n",
    "                    total_auidence = total_auidence + new_data[movie][\"audience\"]\n",
    "                    movie_name.append(new_data[movie][\"title\"])\n",
    "                    count = count + 1        \n",
    "        sum_list.append([name,count,total_rate,total_auidence,movie_name])\n",
    "    return sum_list"
   ]
  },
  {
   "cell_type": "code",
   "execution_count": 30,
   "metadata": {
    "collapsed": false,
    "scrolled": false
   },
   "outputs": [
    {
     "data": {
      "text/html": [
       "<div>\n",
       "<table border=\"1\" class=\"dataframe\">\n",
       "  <thead>\n",
       "    <tr style=\"text-align: right;\">\n",
       "      <th></th>\n",
       "      <th>name</th>\n",
       "      <th>count</th>\n",
       "      <th>index</th>\n",
       "      <th>rate</th>\n",
       "      <th>audience</th>\n",
       "      <th>movies</th>\n",
       "    </tr>\n",
       "  </thead>\n",
       "  <tbody>\n",
       "    <tr>\n",
       "      <th>2311</th>\n",
       "      <td>张美娥</td>\n",
       "      <td>3</td>\n",
       "      <td>13.728499</td>\n",
       "      <td>5.400000</td>\n",
       "      <td>169753.000000</td>\n",
       "      <td>[我不是李连樱, 美人鱼, 从你的全世界路过]</td>\n",
       "    </tr>\n",
       "    <tr>\n",
       "      <th>2324</th>\n",
       "      <td>彭于晏</td>\n",
       "      <td>5</td>\n",
       "      <td>13.555181</td>\n",
       "      <td>5.860000</td>\n",
       "      <td>131535.400000</td>\n",
       "      <td>[奔爱, 寒战2 寒戰II, 危城, 长城 The Great Wall, 湄公河行动]</td>\n",
       "    </tr>\n",
       "    <tr>\n",
       "      <th>3388</th>\n",
       "      <td>林允</td>\n",
       "      <td>3</td>\n",
       "      <td>13.485308</td>\n",
       "      <td>4.766667</td>\n",
       "      <td>150792.666667</td>\n",
       "      <td>[全员加速中 第二季, 爵迹, 美人鱼]</td>\n",
       "    </tr>\n",
       "    <tr>\n",
       "      <th>2739</th>\n",
       "      <td>马思纯</td>\n",
       "      <td>3</td>\n",
       "      <td>13.475533</td>\n",
       "      <td>6.466667</td>\n",
       "      <td>110070.000000</td>\n",
       "      <td>[十二道锋味3, 盗墓笔记, 七月与安生]</td>\n",
       "    </tr>\n",
       "    <tr>\n",
       "      <th>1132</th>\n",
       "      <td>邓超</td>\n",
       "      <td>4</td>\n",
       "      <td>13.469945</td>\n",
       "      <td>5.500000</td>\n",
       "      <td>128694.500000</td>\n",
       "      <td>[浙江卫视“爱在一起”2017演唱会, 奔跑吧兄弟 第四季, 美人鱼, 从你的全世界路过]</td>\n",
       "    </tr>\n",
       "    <tr>\n",
       "      <th>2120</th>\n",
       "      <td>任素汐</td>\n",
       "      <td>3</td>\n",
       "      <td>13.285759</td>\n",
       "      <td>7.666667</td>\n",
       "      <td>76793.666667</td>\n",
       "      <td>[2016最美表演, 提着心，吊着胆, 驴得水]</td>\n",
       "    </tr>\n",
       "    <tr>\n",
       "      <th>215</th>\n",
       "      <td>白百何</td>\n",
       "      <td>3</td>\n",
       "      <td>13.274118</td>\n",
       "      <td>5.833333</td>\n",
       "      <td>99760.666667</td>\n",
       "      <td>[王牌对王牌 第一季, 火锅英雄, 从你的全世界路过]</td>\n",
       "    </tr>\n",
       "    <tr>\n",
       "      <th>1698</th>\n",
       "      <td>林子聪</td>\n",
       "      <td>3</td>\n",
       "      <td>13.245861</td>\n",
       "      <td>4.533333</td>\n",
       "      <td>124792.000000</td>\n",
       "      <td>[我的极品女神, 笑林足球, 美人鱼]</td>\n",
       "    </tr>\n",
       "    <tr>\n",
       "      <th>2410</th>\n",
       "      <td>季冠霖</td>\n",
       "      <td>3</td>\n",
       "      <td>13.196344</td>\n",
       "      <td>6.900000</td>\n",
       "      <td>78028.000000</td>\n",
       "      <td>[小门神, 精灵王座, 大鱼海棠]</td>\n",
       "    </tr>\n",
       "    <tr>\n",
       "      <th>3514</th>\n",
       "      <td>文章</td>\n",
       "      <td>5</td>\n",
       "      <td>13.176120</td>\n",
       "      <td>6.080000</td>\n",
       "      <td>86778.600000</td>\n",
       "      <td>[欢喜密探, 谜砂, 过年好, 陆垚知马俐, 美人鱼]</td>\n",
       "    </tr>\n",
       "    <tr>\n",
       "      <th>395</th>\n",
       "      <td>张晓谦</td>\n",
       "      <td>3</td>\n",
       "      <td>13.162959</td>\n",
       "      <td>7.633333</td>\n",
       "      <td>68216.000000</td>\n",
       "      <td>[如果蜗牛有爱情, 欢乐颂, 鬼吹灯之精绝古城]</td>\n",
       "    </tr>\n",
       "    <tr>\n",
       "      <th>2795</th>\n",
       "      <td>罗志祥</td>\n",
       "      <td>6</td>\n",
       "      <td>13.147364</td>\n",
       "      <td>7.283333</td>\n",
       "      <td>70387.833333</td>\n",
       "      <td>[极限公益联欢会, 极限全记录, 梦圆东方2017东方卫视跨年盛典, 极限挑战之皇家宝藏, ...</td>\n",
       "    </tr>\n",
       "    <tr>\n",
       "      <th>3380</th>\n",
       "      <td>祖峰</td>\n",
       "      <td>3</td>\n",
       "      <td>13.059737</td>\n",
       "      <td>6.266667</td>\n",
       "      <td>74943.666667</td>\n",
       "      <td>[双刺, 欢乐颂, 北京遇上西雅图之不二情书]</td>\n",
       "    </tr>\n",
       "    <tr>\n",
       "      <th>1032</th>\n",
       "      <td>李九霄</td>\n",
       "      <td>3</td>\n",
       "      <td>13.048633</td>\n",
       "      <td>6.300000</td>\n",
       "      <td>73724.000000</td>\n",
       "      <td>[记得少年那首歌, 微微一笑很倾城, 火锅英雄]</td>\n",
       "    </tr>\n",
       "    <tr>\n",
       "      <th>783</th>\n",
       "      <td>冯晖</td>\n",
       "      <td>3</td>\n",
       "      <td>13.044920</td>\n",
       "      <td>7.366667</td>\n",
       "      <td>62815.333333</td>\n",
       "      <td>[好先生, 欢乐颂, 鬼吹灯之精绝古城]</td>\n",
       "    </tr>\n",
       "    <tr>\n",
       "      <th>1687</th>\n",
       "      <td>白客</td>\n",
       "      <td>6</td>\n",
       "      <td>13.032120</td>\n",
       "      <td>6.716667</td>\n",
       "      <td>68018.000000</td>\n",
       "      <td>[欢喜密探, 报告老板！之权力游戏 特别篇 万万么想到, 报告老板 第二季, 小门神, 西涯...</td>\n",
       "    </tr>\n",
       "    <tr>\n",
       "      <th>1802</th>\n",
       "      <td>刘帅良</td>\n",
       "      <td>3</td>\n",
       "      <td>13.016446</td>\n",
       "      <td>5.800000</td>\n",
       "      <td>77543.000000</td>\n",
       "      <td>[五女闹京城, 兰陵王妃, 驴得水]</td>\n",
       "    </tr>\n",
       "    <tr>\n",
       "      <th>2191</th>\n",
       "      <td>王彦霖</td>\n",
       "      <td>3</td>\n",
       "      <td>12.994825</td>\n",
       "      <td>7.000000</td>\n",
       "      <td>62875.666667</td>\n",
       "      <td>[医馆笑传2, 遇见王沥川, 火锅英雄]</td>\n",
       "    </tr>\n",
       "    <tr>\n",
       "      <th>1386</th>\n",
       "      <td>靳东</td>\n",
       "      <td>3</td>\n",
       "      <td>12.976313</td>\n",
       "      <td>7.700000</td>\n",
       "      <td>56111.333333</td>\n",
       "      <td>[龙器, 欢乐颂, 鬼吹灯之精绝古城]</td>\n",
       "    </tr>\n",
       "    <tr>\n",
       "      <th>2717</th>\n",
       "      <td>杜鹃</td>\n",
       "      <td>3</td>\n",
       "      <td>12.968111</td>\n",
       "      <td>4.866667</td>\n",
       "      <td>88053.666667</td>\n",
       "      <td>[纽约纽约, 摆渡人, 从你的全世界路过]</td>\n",
       "    </tr>\n",
       "  </tbody>\n",
       "</table>\n",
       "</div>"
      ],
      "text/plain": [
       "     name  count      index      rate       audience  \\\n",
       "2311  张美娥      3  13.728499  5.400000  169753.000000   \n",
       "2324  彭于晏      5  13.555181  5.860000  131535.400000   \n",
       "3388   林允      3  13.485308  4.766667  150792.666667   \n",
       "2739  马思纯      3  13.475533  6.466667  110070.000000   \n",
       "1132   邓超      4  13.469945  5.500000  128694.500000   \n",
       "2120  任素汐      3  13.285759  7.666667   76793.666667   \n",
       "215   白百何      3  13.274118  5.833333   99760.666667   \n",
       "1698  林子聪      3  13.245861  4.533333  124792.000000   \n",
       "2410  季冠霖      3  13.196344  6.900000   78028.000000   \n",
       "3514   文章      5  13.176120  6.080000   86778.600000   \n",
       "395   张晓谦      3  13.162959  7.633333   68216.000000   \n",
       "2795  罗志祥      6  13.147364  7.283333   70387.833333   \n",
       "3380   祖峰      3  13.059737  6.266667   74943.666667   \n",
       "1032  李九霄      3  13.048633  6.300000   73724.000000   \n",
       "783    冯晖      3  13.044920  7.366667   62815.333333   \n",
       "1687   白客      6  13.032120  6.716667   68018.000000   \n",
       "1802  刘帅良      3  13.016446  5.800000   77543.000000   \n",
       "2191  王彦霖      3  12.994825  7.000000   62875.666667   \n",
       "1386   靳东      3  12.976313  7.700000   56111.333333   \n",
       "2717   杜鹃      3  12.968111  4.866667   88053.666667   \n",
       "\n",
       "                                                 movies  \n",
       "2311                            [我不是李连樱, 美人鱼, 从你的全世界路过]  \n",
       "2324       [奔爱, 寒战2 寒戰II, 危城, 长城 The Great Wall, 湄公河行动]  \n",
       "3388                               [全员加速中 第二季, 爵迹, 美人鱼]  \n",
       "2739                              [十二道锋味3, 盗墓笔记, 七月与安生]  \n",
       "1132      [浙江卫视“爱在一起”2017演唱会, 奔跑吧兄弟 第四季, 美人鱼, 从你的全世界路过]  \n",
       "2120                           [2016最美表演, 提着心，吊着胆, 驴得水]  \n",
       "215                         [王牌对王牌 第一季, 火锅英雄, 从你的全世界路过]  \n",
       "1698                                [我的极品女神, 笑林足球, 美人鱼]  \n",
       "2410                                  [小门神, 精灵王座, 大鱼海棠]  \n",
       "3514                        [欢喜密探, 谜砂, 过年好, 陆垚知马俐, 美人鱼]  \n",
       "395                            [如果蜗牛有爱情, 欢乐颂, 鬼吹灯之精绝古城]  \n",
       "2795  [极限公益联欢会, 极限全记录, 梦圆东方2017东方卫视跨年盛典, 极限挑战之皇家宝藏, ...  \n",
       "3380                            [双刺, 欢乐颂, 北京遇上西雅图之不二情书]  \n",
       "1032                           [记得少年那首歌, 微微一笑很倾城, 火锅英雄]  \n",
       "783                                [好先生, 欢乐颂, 鬼吹灯之精绝古城]  \n",
       "1687  [欢喜密探, 报告老板！之权力游戏 特别篇 万万么想到, 报告老板 第二季, 小门神, 西涯...  \n",
       "1802                                 [五女闹京城, 兰陵王妃, 驴得水]  \n",
       "2191                               [医馆笑传2, 遇见王沥川, 火锅英雄]  \n",
       "1386                                [龙器, 欢乐颂, 鬼吹灯之精绝古城]  \n",
       "2717                              [纽约纽约, 摆渡人, 从你的全世界路过]  "
      ]
     },
     "execution_count": 30,
     "metadata": {},
     "output_type": "execute_result"
    }
   ],
   "source": [
    "actor_frame = pd.DataFrame(classbyitem(actor_list, \"actors\"),columns=[\"name\", \"count\",\"total_rate\", \"total_audience\",\"movies\"])\n",
    "actor_frame = actor_frame[actor_frame[\"total_rate\"]>0]\n",
    "actor_frame[\"rate\"] = actor_frame[\"total_rate\"] / actor_frame[\"count\"]\n",
    "actor_frame[\"audience\"] = actor_frame[\"total_audience\"] / actor_frame[\"count\"]\n",
    "actor_frame[\"index\"] = np.log(actor_frame[\"rate\"])+np.log(actor_frame[\"audience\"])\n",
    "actor_frame.head()\n",
    "f = actor_frame[actor_frame[\"count\"]>2].sort_values(by=\"index\", ascending=False).head(20)\n",
    "f[[\"name\",\"count\",\"index\",\"rate\",\"audience\",\"movies\"]]"
   ]
  },
  {
   "cell_type": "code",
   "execution_count": 168,
   "metadata": {
    "collapsed": false,
    "scrolled": false
   },
   "outputs": [
    {
     "data": {
      "text/html": [
       "<iframe id=\"igraph\" scrolling=\"no\" style=\"border:none;\" seamless=\"seamless\" src=\"https://plot.ly/~chijingclark/14.embed\" height=\"525px\" width=\"100%\"></iframe>"
      ],
      "text/plain": [
       "<plotly.tools.PlotlyDisplay object>"
      ]
     },
     "execution_count": 168,
     "metadata": {},
     "output_type": "execute_result"
    }
   ],
   "source": [
    "# Create a trace\n",
    "trace = go.Scatter(\n",
    "    x = actor_frame[\"total_rate\"]/actor_frame[\"count\"],\n",
    "    y = actor_frame[\"total_audience\"]/actor_frame[\"count\"],\n",
    "    text= actor_frame['name'],\n",
    "    mode = 'markers',\n",
    "    marker= dict(opacity= 0.3, size= actor_frame[\"count\"]*4)\n",
    ")\n",
    "data = [trace]\n",
    "layout = go.Layout(\n",
    "    #title=\"2016年度演员的影视剧作品人均评分和平均评价人数\"\n",
    "    xaxis=dict(\n",
    "        title='评分'\n",
    "    ),\n",
    "    yaxis=dict(\n",
    "        title='评分人数'\n",
    "    ),\n",
    ")\n",
    "# Plot and embed in ipython notebook!\n",
    "fig = go.Figure(data=data, layout=layout)\n",
    "py.iplot(fig, filename='actor2016')"
   ]
  },
  {
   "cell_type": "code",
   "execution_count": 31,
   "metadata": {
    "collapsed": false,
    "scrolled": false
   },
   "outputs": [
    {
     "data": {
      "text/html": [
       "<div>\n",
       "<table border=\"1\" class=\"dataframe\">\n",
       "  <thead>\n",
       "    <tr style=\"text-align: right;\">\n",
       "      <th></th>\n",
       "      <th>name</th>\n",
       "      <th>count</th>\n",
       "      <th>total_rate</th>\n",
       "      <th>total_audience</th>\n",
       "      <th>movies</th>\n",
       "      <th>rate</th>\n",
       "      <th>audience</th>\n",
       "    </tr>\n",
       "  </thead>\n",
       "  <tbody>\n",
       "    <tr>\n",
       "      <th>0</th>\n",
       "      <td>儿童</td>\n",
       "      <td>11</td>\n",
       "      <td>67.6</td>\n",
       "      <td>4053.0</td>\n",
       "      <td>[新东方神娃, 丑小鸭历险记, 小戏骨：白毛女, 新葫芦兄弟 第一季, 功夫四侠, 游泳回家...</td>\n",
       "      <td>6.145455</td>\n",
       "      <td>368.454545</td>\n",
       "    </tr>\n",
       "    <tr>\n",
       "      <th>1</th>\n",
       "      <td>悬疑</td>\n",
       "      <td>78</td>\n",
       "      <td>439.7</td>\n",
       "      <td>792536.0</td>\n",
       "      <td>[纳妾记 第二季, 拐人 人さらい, 暴走恐怖故事 第四季, 诡梦凶铃, 暮夜传说, 笔仙诡...</td>\n",
       "      <td>5.637179</td>\n",
       "      <td>10160.717949</td>\n",
       "    </tr>\n",
       "    <tr>\n",
       "      <th>2</th>\n",
       "      <td>运动</td>\n",
       "      <td>5</td>\n",
       "      <td>22.5</td>\n",
       "      <td>6984.0</td>\n",
       "      <td>[击战, 校园篮球风云, 电竞高校, 笑林足球, 旋风十一人]</td>\n",
       "      <td>4.500000</td>\n",
       "      <td>1396.800000</td>\n",
       "    </tr>\n",
       "    <tr>\n",
       "      <th>3</th>\n",
       "      <td>同性</td>\n",
       "      <td>16</td>\n",
       "      <td>84.2</td>\n",
       "      <td>5543.0</td>\n",
       "      <td>[暮夜传说, 夏日密语, 韩子高, 逆光源, 浴缸神探, 九浅一深, 男颜之瘾, 男舍男分,...</td>\n",
       "      <td>5.262500</td>\n",
       "      <td>346.437500</td>\n",
       "    </tr>\n",
       "    <tr>\n",
       "      <th>4</th>\n",
       "      <td>战争</td>\n",
       "      <td>22</td>\n",
       "      <td>132.6</td>\n",
       "      <td>35728.0</td>\n",
       "      <td>[怒江之战, 绝战, 冰美人, 超神学院之黑甲, 风云年代, 毒中毒, 怒火英雄, 绝命后卫...</td>\n",
       "      <td>6.027273</td>\n",
       "      <td>1624.000000</td>\n",
       "    </tr>\n",
       "  </tbody>\n",
       "</table>\n",
       "</div>"
      ],
      "text/plain": [
       "  name  count  total_rate  total_audience  \\\n",
       "0   儿童     11        67.6          4053.0   \n",
       "1   悬疑     78       439.7        792536.0   \n",
       "2   运动      5        22.5          6984.0   \n",
       "3   同性     16        84.2          5543.0   \n",
       "4   战争     22       132.6         35728.0   \n",
       "\n",
       "                                              movies      rate      audience  \n",
       "0  [新东方神娃, 丑小鸭历险记, 小戏骨：白毛女, 新葫芦兄弟 第一季, 功夫四侠, 游泳回家...  6.145455    368.454545  \n",
       "1  [纳妾记 第二季, 拐人 人さらい, 暴走恐怖故事 第四季, 诡梦凶铃, 暮夜传说, 笔仙诡...  5.637179  10160.717949  \n",
       "2                    [击战, 校园篮球风云, 电竞高校, 笑林足球, 旋风十一人]  4.500000   1396.800000  \n",
       "3  [暮夜传说, 夏日密语, 韩子高, 逆光源, 浴缸神探, 九浅一深, 男颜之瘾, 男舍男分,...  5.262500    346.437500  \n",
       "4  [怒江之战, 绝战, 冰美人, 超神学院之黑甲, 风云年代, 毒中毒, 怒火英雄, 绝命后卫...  6.027273   1624.000000  "
      ]
     },
     "execution_count": 31,
     "metadata": {},
     "output_type": "execute_result"
    }
   ],
   "source": [
    "genre_frame = pd.DataFrame(classbyitem(genre_list, \"genre\"),columns=[\"name\", \"count\",\"total_rate\",\"total_audience\",\"movies\"])\n",
    "genre_frame[\"rate\"] = genre_frame[\"total_rate\"]/genre_frame[\"count\"]\n",
    "genre_frame[\"audience\"] = genre_frame[\"total_audience\"]/genre_frame[\"count\"]\n",
    "genre_frame.head()"
   ]
  },
  {
   "cell_type": "code",
   "execution_count": 162,
   "metadata": {
    "collapsed": false
   },
   "outputs": [
    {
     "data": {
      "text/html": [
       "<iframe id=\"igraph\" scrolling=\"no\" style=\"border:none;\" seamless=\"seamless\" src=\"https://plot.ly/~chijingclark/16.embed\" height=\"525px\" width=\"100%\"></iframe>"
      ],
      "text/plain": [
       "<plotly.tools.PlotlyDisplay object>"
      ]
     },
     "execution_count": 162,
     "metadata": {},
     "output_type": "execute_result"
    }
   ],
   "source": [
    "labels=genre_frame[\"name\"].values\n",
    "values=genre_frame[\"count\"].values\n",
    "trace=go.Pie(labels=labels,values=values)\n",
    "py.iplot([trace])"
   ]
  },
  {
   "cell_type": "code",
   "execution_count": 164,
   "metadata": {
    "collapsed": false,
    "scrolled": false
   },
   "outputs": [
    {
     "name": "stdout",
     "output_type": "stream",
     "text": [
      "High five! You successfuly sent some data to your account on plotly. View your plot in your browser at https://plot.ly/~chijingclark/0 or inside your plot.ly account where it is named 'genre20162'\n"
     ]
    },
    {
     "data": {
      "text/html": [
       "<iframe id=\"igraph\" scrolling=\"no\" style=\"border:none;\" seamless=\"seamless\" src=\"https://plot.ly/~chijingclark/0.embed\" height=\"600px\" width=\"100%\"></iframe>"
      ],
      "text/plain": [
       "<plotly.tools.PlotlyDisplay object>"
      ]
     },
     "execution_count": 164,
     "metadata": {},
     "output_type": "execute_result"
    }
   ],
   "source": [
    "data = [go.Bar(\n",
    "            x=genre_frame.sort_values(by=\"audience\", ascending=True)[\"audience\"],\n",
    "            y=genre_frame.sort_values(by=\"audience\", ascending=True)[\"name\"],\n",
    "            orientation = 'h'\n",
    ")]\n",
    "layout = go.Layout(\n",
    "    title=\"2016年度影视剧作品类型平均评价人数\",\n",
    "    height=600,)\n",
    "fig = go.Figure(data=data, layout=layout)\n",
    "py.iplot(fig, filename='genre20162')"
   ]
  },
  {
   "cell_type": "code",
   "execution_count": 165,
   "metadata": {
    "collapsed": false,
    "scrolled": false
   },
   "outputs": [
    {
     "data": {
      "text/html": [
       "<iframe id=\"igraph\" scrolling=\"no\" style=\"border:none;\" seamless=\"seamless\" src=\"https://plot.ly/~chijingclark/2.embed\" height=\"600px\" width=\"100%\"></iframe>"
      ],
      "text/plain": [
       "<plotly.tools.PlotlyDisplay object>"
      ]
     },
     "execution_count": 165,
     "metadata": {},
     "output_type": "execute_result"
    }
   ],
   "source": [
    "data = [go.Bar(\n",
    "            x=genre_frame.sort_values(by=\"rate\", ascending=True)[\"rate\"],\n",
    "            y=genre_frame.sort_values(by=\"rate\", ascending=True)[\"name\"],\n",
    "            orientation = 'h'\n",
    ")]\n",
    "layout = go.Layout(\n",
    "    height=600,)\n",
    "fig = go.Figure(data=data, layout=layout)\n",
    "py.iplot(fig, filename='genre20163')"
   ]
  },
  {
   "cell_type": "code",
   "execution_count": 76,
   "metadata": {
    "collapsed": false
   },
   "outputs": [
    {
     "data": {
      "text/plain": [
       "644"
      ]
     },
     "execution_count": 76,
     "metadata": {},
     "output_type": "execute_result"
    }
   ],
   "source": [
    "movie_frame.sort_values(by=\"index\",ascending=True).head(30)\n",
    "len(movie_frame)"
   ]
  },
  {
   "cell_type": "code",
   "execution_count": 77,
   "metadata": {
    "collapsed": false
   },
   "outputs": [
    {
     "data": {
      "text/html": [
       "<div>\n",
       "<table border=\"1\" class=\"dataframe\">\n",
       "  <thead>\n",
       "    <tr style=\"text-align: right;\">\n",
       "      <th></th>\n",
       "      <th>name</th>\n",
       "      <th>count</th>\n",
       "      <th>total_rate</th>\n",
       "      <th>total_audience</th>\n",
       "      <th>movies</th>\n",
       "      <th>rate</th>\n",
       "      <th>audience</th>\n",
       "      <th>index</th>\n",
       "    </tr>\n",
       "  </thead>\n",
       "  <tbody>\n",
       "    <tr>\n",
       "      <th>62</th>\n",
       "      <td>渡灵人</td>\n",
       "      <td>1</td>\n",
       "      <td>2.2</td>\n",
       "      <td>257.0</td>\n",
       "      <td>[渡灵人]</td>\n",
       "      <td>2.2</td>\n",
       "      <td>257.0</td>\n",
       "      <td>6.337533</td>\n",
       "    </tr>\n",
       "    <tr>\n",
       "      <th>21</th>\n",
       "      <td>绝战</td>\n",
       "      <td>1</td>\n",
       "      <td>2.3</td>\n",
       "      <td>443.0</td>\n",
       "      <td>[绝战]</td>\n",
       "      <td>2.3</td>\n",
       "      <td>443.0</td>\n",
       "      <td>6.926479</td>\n",
       "    </tr>\n",
       "    <tr>\n",
       "      <th>113</th>\n",
       "      <td>功夫四侠</td>\n",
       "      <td>1</td>\n",
       "      <td>2.4</td>\n",
       "      <td>276.0</td>\n",
       "      <td>[功夫四侠]</td>\n",
       "      <td>2.4</td>\n",
       "      <td>276.0</td>\n",
       "      <td>6.495870</td>\n",
       "    </tr>\n",
       "    <tr>\n",
       "      <th>346</th>\n",
       "      <td>越囧</td>\n",
       "      <td>1</td>\n",
       "      <td>2.4</td>\n",
       "      <td>320.0</td>\n",
       "      <td>[越囧]</td>\n",
       "      <td>2.4</td>\n",
       "      <td>320.0</td>\n",
       "      <td>6.643790</td>\n",
       "    </tr>\n",
       "    <tr>\n",
       "      <th>7</th>\n",
       "      <td>诡娃</td>\n",
       "      <td>1</td>\n",
       "      <td>2.4</td>\n",
       "      <td>487.0</td>\n",
       "      <td>[诡娃]</td>\n",
       "      <td>2.4</td>\n",
       "      <td>487.0</td>\n",
       "      <td>7.063733</td>\n",
       "    </tr>\n",
       "  </tbody>\n",
       "</table>\n",
       "</div>"
      ],
      "text/plain": [
       "     name  count  total_rate  total_audience  movies  rate  audience     index\n",
       "62    渡灵人      1         2.2           257.0   [渡灵人]   2.2     257.0  6.337533\n",
       "21     绝战      1         2.3           443.0    [绝战]   2.3     443.0  6.926479\n",
       "113  功夫四侠      1         2.4           276.0  [功夫四侠]   2.4     276.0  6.495870\n",
       "346    越囧      1         2.4           320.0    [越囧]   2.4     320.0  6.643790\n",
       "7      诡娃      1         2.4           487.0    [诡娃]   2.4     487.0  7.063733"
      ]
     },
     "execution_count": 77,
     "metadata": {},
     "output_type": "execute_result"
    }
   ],
   "source": [
    "movie_frame.sort_values(by=\"total_rate\",ascending=True).head(5)"
   ]
  },
  {
   "cell_type": "code",
   "execution_count": 440,
   "metadata": {
    "collapsed": false,
    "scrolled": false
   },
   "outputs": [
    {
     "data": {
      "text/html": [
       "<iframe id=\"igraph\" scrolling=\"no\" style=\"border:none;\" seamless=\"seamless\" src=\"https://plot.ly/~chijingclark/4.embed\" height=\"525px\" width=\"100%\"></iframe>"
      ],
      "text/plain": [
       "<plotly.tools.PlotlyDisplay object>"
      ]
     },
     "execution_count": 440,
     "metadata": {},
     "output_type": "execute_result"
    }
   ],
   "source": []
  },
  {
   "cell_type": "code",
   "execution_count": 34,
   "metadata": {
    "collapsed": false
   },
   "outputs": [
    {
     "data": {
      "text/plain": [
       "count               1.000000\n",
       "total_rate          4.500000\n",
       "total_audience    231.000000\n",
       "rate                4.500000\n",
       "audience          231.000000\n",
       "index               7.077414\n",
       "Name: 0.25, dtype: float64"
      ]
     },
     "execution_count": 34,
     "metadata": {},
     "output_type": "execute_result"
    }
   ],
   "source": [
    "director_frame.quantile(.25)"
   ]
  },
  {
   "cell_type": "code",
   "execution_count": 36,
   "metadata": {
    "collapsed": false,
    "scrolled": false
   },
   "outputs": [
    {
     "data": {
      "text/html": [
       "<div>\n",
       "<table border=\"1\" class=\"dataframe\">\n",
       "  <thead>\n",
       "    <tr style=\"text-align: right;\">\n",
       "      <th></th>\n",
       "      <th>name</th>\n",
       "      <th>index</th>\n",
       "      <th>rate</th>\n",
       "      <th>audience</th>\n",
       "      <th>movies</th>\n",
       "    </tr>\n",
       "  </thead>\n",
       "  <tbody>\n",
       "    <tr>\n",
       "      <th>445</th>\n",
       "      <td>孔令杭</td>\n",
       "      <td>6.337533</td>\n",
       "      <td>2.2</td>\n",
       "      <td>257.0</td>\n",
       "      <td>[渡灵人]</td>\n",
       "    </tr>\n",
       "    <tr>\n",
       "      <th>595</th>\n",
       "      <td>谢毅航</td>\n",
       "      <td>6.469715</td>\n",
       "      <td>2.7</td>\n",
       "      <td>239.0</td>\n",
       "      <td>[看见我和你]</td>\n",
       "    </tr>\n",
       "    <tr>\n",
       "      <th>464</th>\n",
       "      <td>刘邦邦</td>\n",
       "      <td>6.495870</td>\n",
       "      <td>2.4</td>\n",
       "      <td>276.0</td>\n",
       "      <td>[功夫四侠]</td>\n",
       "    </tr>\n",
       "    <tr>\n",
       "      <th>557</th>\n",
       "      <td>孙友树</td>\n",
       "      <td>6.495870</td>\n",
       "      <td>2.4</td>\n",
       "      <td>276.0</td>\n",
       "      <td>[功夫四侠]</td>\n",
       "    </tr>\n",
       "    <tr>\n",
       "      <th>405</th>\n",
       "      <td>叶茗</td>\n",
       "      <td>6.559049</td>\n",
       "      <td>2.8</td>\n",
       "      <td>252.0</td>\n",
       "      <td>[人鱼校花]</td>\n",
       "    </tr>\n",
       "    <tr>\n",
       "      <th>577</th>\n",
       "      <td>林云翔</td>\n",
       "      <td>6.559049</td>\n",
       "      <td>2.8</td>\n",
       "      <td>252.0</td>\n",
       "      <td>[人鱼校花]</td>\n",
       "    </tr>\n",
       "    <tr>\n",
       "      <th>493</th>\n",
       "      <td>郑成峰</td>\n",
       "      <td>6.642487</td>\n",
       "      <td>2.6</td>\n",
       "      <td>295.0</td>\n",
       "      <td>[阿里巴巴2所罗门封印]</td>\n",
       "    </tr>\n",
       "    <tr>\n",
       "      <th>1</th>\n",
       "      <td>郭翔</td>\n",
       "      <td>6.643790</td>\n",
       "      <td>2.4</td>\n",
       "      <td>320.0</td>\n",
       "      <td>[越囧]</td>\n",
       "    </tr>\n",
       "    <tr>\n",
       "      <th>367</th>\n",
       "      <td>郑义</td>\n",
       "      <td>6.656212</td>\n",
       "      <td>3.2</td>\n",
       "      <td>243.0</td>\n",
       "      <td>[丑小鸭历险记]</td>\n",
       "    </tr>\n",
       "    <tr>\n",
       "      <th>561</th>\n",
       "      <td>杨琳</td>\n",
       "      <td>6.774224</td>\n",
       "      <td>3.5</td>\n",
       "      <td>250.0</td>\n",
       "      <td>[人在驴途]</td>\n",
       "    </tr>\n",
       "    <tr>\n",
       "      <th>528</th>\n",
       "      <td>徐飞</td>\n",
       "      <td>6.807051</td>\n",
       "      <td>3.3</td>\n",
       "      <td>274.0</td>\n",
       "      <td>[深宫遗梦]</td>\n",
       "    </tr>\n",
       "    <tr>\n",
       "      <th>61</th>\n",
       "      <td>李凯</td>\n",
       "      <td>6.810914</td>\n",
       "      <td>2.9</td>\n",
       "      <td>313.0</td>\n",
       "      <td>[食人岛]</td>\n",
       "    </tr>\n",
       "    <tr>\n",
       "      <th>468</th>\n",
       "      <td>罗登</td>\n",
       "      <td>6.818268</td>\n",
       "      <td>3.6</td>\n",
       "      <td>254.0</td>\n",
       "      <td>[爱上试睡师]</td>\n",
       "    </tr>\n",
       "    <tr>\n",
       "      <th>74</th>\n",
       "      <td>邓安东</td>\n",
       "      <td>6.828712</td>\n",
       "      <td>2.4</td>\n",
       "      <td>385.0</td>\n",
       "      <td>[诡梦凶铃]</td>\n",
       "    </tr>\n",
       "    <tr>\n",
       "      <th>207</th>\n",
       "      <td>贾一平</td>\n",
       "      <td>6.829794</td>\n",
       "      <td>3.7</td>\n",
       "      <td>250.0</td>\n",
       "      <td>[杠上开花]</td>\n",
       "    </tr>\n",
       "    <tr>\n",
       "      <th>135</th>\n",
       "      <td>杨家蔚</td>\n",
       "      <td>6.858250</td>\n",
       "      <td>3.1</td>\n",
       "      <td>307.0</td>\n",
       "      <td>[仙侠学院]</td>\n",
       "    </tr>\n",
       "    <tr>\n",
       "      <th>202</th>\n",
       "      <td>郭汉芬</td>\n",
       "      <td>6.858250</td>\n",
       "      <td>3.1</td>\n",
       "      <td>307.0</td>\n",
       "      <td>[仙侠学院]</td>\n",
       "    </tr>\n",
       "    <tr>\n",
       "      <th>259</th>\n",
       "      <td>陈蔚尔</td>\n",
       "      <td>6.866933</td>\n",
       "      <td>4.0</td>\n",
       "      <td>240.0</td>\n",
       "      <td>[失心者]</td>\n",
       "    </tr>\n",
       "    <tr>\n",
       "      <th>300</th>\n",
       "      <td>王梓</td>\n",
       "      <td>6.915723</td>\n",
       "      <td>3.2</td>\n",
       "      <td>315.0</td>\n",
       "      <td>[小草青青]</td>\n",
       "    </tr>\n",
       "    <tr>\n",
       "      <th>268</th>\n",
       "      <td>林小鑫</td>\n",
       "      <td>6.926479</td>\n",
       "      <td>2.3</td>\n",
       "      <td>443.0</td>\n",
       "      <td>[绝战]</td>\n",
       "    </tr>\n",
       "  </tbody>\n",
       "</table>\n",
       "</div>"
      ],
      "text/plain": [
       "    name     index  rate  audience        movies\n",
       "445  孔令杭  6.337533   2.2     257.0         [渡灵人]\n",
       "595  谢毅航  6.469715   2.7     239.0       [看见我和你]\n",
       "464  刘邦邦  6.495870   2.4     276.0        [功夫四侠]\n",
       "557  孙友树  6.495870   2.4     276.0        [功夫四侠]\n",
       "405   叶茗  6.559049   2.8     252.0        [人鱼校花]\n",
       "577  林云翔  6.559049   2.8     252.0        [人鱼校花]\n",
       "493  郑成峰  6.642487   2.6     295.0  [阿里巴巴2所罗门封印]\n",
       "1     郭翔  6.643790   2.4     320.0          [越囧]\n",
       "367   郑义  6.656212   3.2     243.0      [丑小鸭历险记]\n",
       "561   杨琳  6.774224   3.5     250.0        [人在驴途]\n",
       "528   徐飞  6.807051   3.3     274.0        [深宫遗梦]\n",
       "61    李凯  6.810914   2.9     313.0         [食人岛]\n",
       "468   罗登  6.818268   3.6     254.0       [爱上试睡师]\n",
       "74   邓安东  6.828712   2.4     385.0        [诡梦凶铃]\n",
       "207  贾一平  6.829794   3.7     250.0        [杠上开花]\n",
       "135  杨家蔚  6.858250   3.1     307.0        [仙侠学院]\n",
       "202  郭汉芬  6.858250   3.1     307.0        [仙侠学院]\n",
       "259  陈蔚尔  6.866933   4.0     240.0         [失心者]\n",
       "300   王梓  6.915723   3.2     315.0        [小草青青]\n",
       "268  林小鑫  6.926479   2.3     443.0          [绝战]"
      ]
     },
     "execution_count": 36,
     "metadata": {},
     "output_type": "execute_result"
    }
   ],
   "source": [
    "director_frame = pd.DataFrame(classbyitem(director_list, \"director\"),columns=[\"name\", \"count\",\"total_rate\",\"total_audience\",\"movies\"])\n",
    "director_frame = director_frame[director_frame[\"count\"]>0]\n",
    "director_frame[\"rate\"] = director_frame[\"total_rate\"] / director_frame[\"count\"]\n",
    "director_frame[\"audience\"] = director_frame[\"total_audience\"] / director_frame[\"count\"]\n",
    "director_frame[\"index\"] = np.log(director_frame[\"rate\"])+ np.log(director_frame[\"audience\"])\n",
    "d = director_frame[director_frame[\"audience\"]>231].sort_values(by=\"index\",ascending=True).head(20)\n",
    "d[[\"name\",\"index\",\"rate\",\"audience\",\"movies\"]]"
   ]
  }
 ],
 "metadata": {
  "kernelspec": {
   "display_name": "Python 3",
   "language": "python",
   "name": "python3"
  },
  "language_info": {
   "codemirror_mode": {
    "name": "ipython",
    "version": 3
   },
   "file_extension": ".py",
   "mimetype": "text/x-python",
   "name": "python",
   "nbconvert_exporter": "python",
   "pygments_lexer": "ipython3",
   "version": "3.6.0"
  }
 },
 "nbformat": 4,
 "nbformat_minor": 2
}
