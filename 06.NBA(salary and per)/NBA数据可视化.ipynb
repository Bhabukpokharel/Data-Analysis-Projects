{
 "cells": [
  {
   "cell_type": "markdown",
   "metadata": {},
   "source": [
    "# NBA数据集可视化\n"
   ]
  },
  {
   "cell_type": "code",
   "execution_count": 3,
   "metadata": {
    "collapsed": false,
    "scrolled": false
   },
   "outputs": [
    {
     "data": {
      "text/html": [
       "<script type='text/javascript' src='https://dub01.online.tableau.com/javascripts/api/viz_v1.js'></script><div class='tableauPlaceholder' style='width: 1028px; height: 804px;'><object class='tableauViz' width='1028' height='804' style='display:none;'><param name='host_url' value='https%3A%2F%2Fdub01.online.tableau.com%2F' /> <param name='site_root' value='&#47;t&#47;dataanalyst' /><param name='name' value='PerSalary&#47;2_1' /><param name='tabs' value='no' /><param name='toolbar' value='yes' /><param name='showAppBanner' value='false' /><param name='showShareOptions' value='true' /></object></div>"
      ],
      "text/plain": [
       "<IPython.core.display.HTML object>"
      ]
     },
     "metadata": {},
     "output_type": "display_data"
    }
   ],
   "source": [
    "%%html\n",
    "<script type='text/javascript' src='https://dub01.online.tableau.com/javascripts/api/viz_v1.js'></script><div class='tableauPlaceholder' style='width: 1028px; height: 804px;'><object class='tableauViz' width='1028' height='804' style='display:none;'><param name='host_url' value='https%3A%2F%2Fdub01.online.tableau.com%2F' /> <param name='site_root' value='&#47;t&#47;dataanalyst' /><param name='name' value='PerSalary&#47;2_1' /><param name='tabs' value='no' /><param name='toolbar' value='yes' /><param name='showAppBanner' value='false' /><param name='showShareOptions' value='true' /></object></div>"
   ]
  },
  {
   "cell_type": "markdown",
   "metadata": {},
   "source": [
    "## 分析背景\n",
    "在2016年Top10最富有运动员排名中，篮球运动员就占了三位。而在2016-2017赛季，篮球明星勒布朗詹姆斯的薪资已经高达```$30,963,450```有二十八位球员的薪资超过```$20,000,000```，我们对于这些拿着天价工资的球员产生了兴趣，提出了如下几个问题：\n",
    "1. 高薪资的球员是不是意味着他的一定表现比其他人更加优秀？\n",
    "2. 有没有拿着高薪资可是没有打出预期实力的球员？\n",
    "3. 有没有价值不高，但是表现十分出色的球员？\n",
    "4. 在NBA中，薪资和球员表现水平是如何分布的？\n",
    "\n",
    "随着上述几个问题，我们开始了我们的分析。"
   ]
  },
  {
   "cell_type": "markdown",
   "metadata": {},
   "source": [
    "## 分析思路\n",
    "如果我们要研究高薪资是否能保证球员高水平发挥，所以最直接的方法就是看球员的当前赛季的薪资和他们当赛季的数据表现。薪资数据比较好得到和处理，那么球员表现如何的到呢？首先，关于NBA运动员可得到的数据种类十分之多，我们不知道该挑选哪些。其次，不同球员的位置不同，打法不同，在球队的作用也不一样，也会影响直接比较。不过幸运的是，我们发现已经有人为我们提供了一个比较权威并被广泛应用的衡量标准——由John Hollinger提出的PER（The Player Efficiency Rating)。这种方法是将球员所有表现记录下来，然后加权集成，得到了球员的效率数据，也可以看作是综合得分，而且也方便了不同位置、不同年代的球员进行比较。\n",
    "\n",
    "PER的公式如下：\n",
    "\n",
    "```\n",
    "PER = (1 / MP) *[ 3P\n",
    "     + (2/3) * AST\n",
    "     + (2 - factor * (team_AST / team_FG)) * FG\n",
    "     + (FT *0.5 * (1 + (1 - (team_AST / team_FG)) + (2/3) * (team_AST / team_FG)))\n",
    "     - VOP * TOV\n",
    "     - VOP * DRB% * (FGA - FG)\n",
    "     - VOP * 0.44 * (0.44 + (0.56 * DRB%)) * (FTA - FT)\n",
    "     + VOP * (1 - DRB%) * (TRB - ORB)\n",
    "     + VOP * DRB% * ORB\n",
    "     + VOP * STL\n",
    "     + VOP * DRB% * BLK\n",
    "     - PF * ((lg_FT / lg_PF) - 0.44 * (lg_FTA / lg_PF) * VOP) ]\n",
    "```\n",
    "\n",
    "公式比较复杂，但是我们通过[ESPN](http://insider.espn.com/nba/hollinger/statistics)直接获取了PER的数据，大大节约了时间。"
   ]
  },
  {
   "cell_type": "markdown",
   "metadata": {},
   "source": [
    "## 呈现过程\n",
    "本次可视化所用到的数据变量为球员效率和薪资。PER(Player Efficiency Rating)，即球员效率的数据来源于[ESPN](http://insider.espn.com/nba/hollinger/statistics)，球员2016-17赛季的薪资数据来自于[hoopshype](http://hoopshype.com/salaries/players/)。\n",
    "\n",
    "#### 步骤一：观察数据\n",
    "最终我们得到的数据如下图所示，从左往右列分别为排名，球员姓名，所属队伍，球员效率和薪资。\n",
    "\n",
    "|RK\t|PLAYER|TEAM|\tPER\t|SALARY(2016/17)|\n",
    "|---| ---------- | --- |--- |---|\n",
    "|1\t|Russell Westbrook|\t OKC|\t30.7|\t26540100|\n",
    "|2\t|Kevin Durant|\t GS\t|27.68\t|26540100|\n",
    "|3\t|Kawhi Leonard|\t SA\t|27.62\t|17638063|\n",
    "|4\t|Anthony Davis|\t NO\t|27.59\t|22116750|\n",
    "\n",
    "我们对该数据数据进一步观察，得到如下概况：\n",
    "\n",
    "||    球员效率PER   | 球员薪资(美元） |\n",
    "|---| ---------- | --- |\n",
    "|总计| 354 |  354 |\n",
    "|平均数| 14.4 | 7418806.011|\n",
    "|中位数| 13.6 |  5000000 |\n",
    "|众数| 10.9| 874636|\n",
    "|最大值| 30.7\t|  30963450|\n",
    "|最小值| 5.32\t|  307000|\n",
    "\n",
    "#### 步骤二：变量标准化\n",
    "为了能够更好的观察分布以及制作可视化，我们对球员效率和工资都做了标准化，调整后的数据基本情况如下：\n",
    "\n",
    "||    球员效率PER   | 球员薪资(美元） |\n",
    "|---| ---------- | --- |\n",
    "|总计| 354 |  354 |\n",
    "|平均数| -2.5E-16| -8.6E-17|\n",
    "|中位数| -0.16| -0.36|\n",
    "|众数| -0.74|-0.97|\n",
    "|最大值|3.49| 3.50|\n",
    "|最小值|-1.94|-1.06|\n",
    "\n",
    "#### 步骤三：导入Tableau，绘制散点图。\n",
    "我们把数据导入到Tableau，把薪资值作为Y轴值，球员效率作为X轴值，球员名称作为点标签，进行散点图的绘制。散点图绘制完成后，在X轴和Y轴上分别添加四分位线（可以在上图中看到），将整个图表分割成五个区域（在后续分析中会有详细解释）。\n",
    "\n",
    "#### 步骤四：散点图进行优化\n",
    "随后，我们对处于每个区域的球员进行1-5的分别标注，并且标记成不同颜色以及不同的形状（考虑到了辨别色彩困难的读者）。添加标题以及美化图标。"
   ]
  },
  {
   "cell_type": "code",
   "execution_count": 5,
   "metadata": {
    "collapsed": false,
    "scrolled": false
   },
   "outputs": [
    {
     "data": {
      "text/html": [
       "<script type='text/javascript' src='https://dub01.online.tableau.com/javascripts/api/viz_v1.js'></script><div class='tableauPlaceholder' style='width: 1028px; height: 804px;'><object class='tableauViz' width='1028' height='804' style='display:none;'><param name='host_url' value='https%3A%2F%2Fdub01.online.tableau.com%2F' /> <param name='site_root' value='&#47;t&#47;dataanalyst' /><param name='name' value='PerSalary&#47;2_1' /><param name='tabs' value='no' /><param name='toolbar' value='yes' /><param name='showAppBanner' value='false' /><param name='showShareOptions' value='true' /></object></div>"
      ],
      "text/plain": [
       "<IPython.core.display.HTML object>"
      ]
     },
     "metadata": {},
     "output_type": "display_data"
    }
   ],
   "source": [
    "%%html\n",
    "<script type='text/javascript' src='https://dub01.online.tableau.com/javascripts/api/viz_v1.js'></script><div class='tableauPlaceholder' style='width: 1028px; height: 804px;'><object class='tableauViz' width='1028' height='804' style='display:none;'><param name='host_url' value='https%3A%2F%2Fdub01.online.tableau.com%2F' /> <param name='site_root' value='&#47;t&#47;dataanalyst' /><param name='name' value='PerSalary&#47;2_1' /><param name='tabs' value='no' /><param name='toolbar' value='yes' /><param name='showAppBanner' value='false' /><param name='showShareOptions' value='true' /></object></div>"
   ]
  },
  {
   "cell_type": "markdown",
   "metadata": {},
   "source": [
    "## 分析结论\n",
    "（待补充）"
   ]
  }
 ],
 "metadata": {
  "kernelspec": {
   "display_name": "Python 3",
   "language": "python",
   "name": "python3"
  },
  "language_info": {
   "codemirror_mode": {
    "name": "ipython",
    "version": 3
   },
   "file_extension": ".py",
   "mimetype": "text/x-python",
   "name": "python",
   "nbconvert_exporter": "python",
   "pygments_lexer": "ipython3",
   "version": "3.6.0"
  }
 },
 "nbformat": 4,
 "nbformat_minor": 2
}
