{
 "cells": [
  {
   "cell_type": "markdown",
   "metadata": {
    "deletable": true,
    "editable": true
   },
   "source": [
    "# NBA数据集可视化"
   ]
  },
  {
   "cell_type": "code",
   "execution_count": 21,
   "metadata": {
    "collapsed": false,
    "deletable": true,
    "editable": true
   },
   "outputs": [
    {
     "data": {
      "text/html": [
       "<script>jQuery(function() {if (jQuery(\"body.notebook_app\").length == 0) { jQuery(\".input_area\").toggle(); jQuery(\".prompt\").toggle();}});</script>"
      ]
     },
     "metadata": {},
     "output_type": "display_data"
    }
   ],
   "source": [
    "import IPython.core.display as di\n",
    "\n",
    "# This line will hide code by default when the notebook is exported as HTML\n",
    "di.display_html('<script>jQuery(function() {if (jQuery(\"body.notebook_app\").length == 0) { jQuery(\".input_area\").toggle(); jQuery(\".prompt\").toggle();}});</script>', raw=True)\n",
    "\n",
    "# This line will add a button to toggle visibility of code blocks, for use with the HTML export version\n",
    "#di.display_html('''<button onclick=\"jQuery('.input_area').toggle(); jQuery('.prompt').toggle();\">Toggle code</button>''', raw=True)"
   ]
  },
  {
   "cell_type": "markdown",
   "metadata": {
    "deletable": true,
    "editable": true
   },
   "source": [
    "## 最终可视化成果：\n",
    "[NBA球员薪资和效率值关系可视化（2016-17赛季）](https://public.tableau.com/views/salaryper_0/1?:embed=y&:display_count=yes&publish=yes)\n",
    "\n",
    "[NBA近五赛季球员数据查询](https://public.tableau.com/views/NBA_35/NBA_1?:embed=y&:display_count=yes)"
   ]
  },
  {
   "cell_type": "markdown",
   "metadata": {
    "deletable": true,
    "editable": true
   },
   "source": [
    "## 分析背景\n",
    "在2016年Top10最富有运动员排名中，篮球运动员就占了三位。而在2016-2017赛季，篮球明星勒布朗詹姆斯的薪资已经高达```$30,963,450```，有二十八位球员的薪资超过```$20,000,000```。我们对于这些拿天价工资的球员产生了极大兴趣，提出了如下几个问题：\n",
    "1. 高薪资的球员是不是意味着他的一定表现比其他人更加优秀？\n",
    "2. 有没有拿着高薪资可是没有打出预期实力的球员？\n",
    "3. 有没有价值不高，但是表现十分出色的球员？\n",
    "4. 在NBA中，薪资和球员表现水平是如何分布的？\n",
    "\n",
    "随着上述几个问题，我们开始了我们的数据分析。"
   ]
  },
  {
   "cell_type": "markdown",
   "metadata": {
    "deletable": true,
    "editable": true
   },
   "source": [
    "## 分析思路\n",
    "如果我们要研究高薪资是否能保证球员高水平发挥，所以最直接的方法就是看球员的当前赛季的薪资和他们当赛季的数据表现。薪资数据比较好得到和处理，那么球员表现如何的到呢？首先，关于NBA运动员可得到的数据种类十分之多，我们不知道该挑选哪些。其次，不同球员的位置不同，打法不同，在球队的作用也不一样，也会影响直接比较。不过幸运的是，我们发现已经有人为我们提供了一个比较权威并被广泛应用的衡量标准——由John Hollinger提出的PER（The Player Efficiency Rating)。这种方法是将球员所有表现记录下来，然后加权集成，得到了球员的效率数据，也可以看作是综合得分，而且也方便了不同位置、不同年代的球员进行比较。\n",
    "\n",
    "PER的公式如下：\n",
    "\n",
    "```\n",
    "PER = (1 / MP) *[ 3P\n",
    "     + (2/3) * AST\n",
    "     + (2 - factor * (team_AST / team_FG)) * FG\n",
    "     + (FT *0.5 * (1 + (1 - (team_AST / team_FG)) + (2/3) * (team_AST / team_FG)))\n",
    "     - VOP * TOV\n",
    "     - VOP * DRB% * (FGA - FG)\n",
    "     - VOP * 0.44 * (0.44 + (0.56 * DRB%)) * (FTA - FT)\n",
    "     + VOP * (1 - DRB%) * (TRB - ORB)\n",
    "     + VOP * DRB% * ORB\n",
    "     + VOP * STL\n",
    "     + VOP * DRB% * BLK\n",
    "     - PF * ((lg_FT / lg_PF) - 0.44 * (lg_FTA / lg_PF) * VOP) ]\n",
    "```\n",
    "\n",
    "公式比较复杂，但是我们通过[ESPN](http://insider.espn.com/nba/hollinger/statistics)获取了已经计算后的PER。"
   ]
  },
  {
   "cell_type": "markdown",
   "metadata": {
    "deletable": true,
    "editable": true
   },
   "source": [
    "## 呈现过程\n",
    "本次可视化所用到的数据变量为球员效率和薪资。PER(Player Efficiency Rating)，即球员效率的数据来源于[ESPN](http://insider.espn.com/nba/hollinger/statistics)，球员2016-17赛季的薪资数据来自于[hoopshype](http://hoopshype.com/salaries/players/)。\n",
    "\n",
    "#### 步骤一：观察数据\n",
    "最终我们得到的数据如下图所示，从左往右列分别为排名，球员姓名，所属队伍，球员效率和薪资。\n",
    "\n",
    "|RK\t|PLAYER|TEAM|\tPER\t|SALARY(2016/17)|\n",
    "|---| ---------- | --- |--- |---|\n",
    "|1\t|Russell Westbrook|\t OKC|\t30.7|\t26540100|\n",
    "|2\t|Kevin Durant|\t GS\t|27.68\t|26540100|\n",
    "|3\t|Kawhi Leonard|\t SA\t|27.62\t|17638063|\n",
    "|4\t|Anthony Davis|\t NO\t|27.59\t|22116750|\n",
    "\n",
    "我们对该数据数据进一步观察，得到如下概况：\n",
    "\n",
    "||    球员效率PER   | 球员薪资(美元） |\n",
    "|---| ---------- | --- |\n",
    "|总计| 354 |  354 |\n",
    "|平均数| 14.4 | 7418806.011|\n",
    "|中位数| 13.6 |  5000000 |\n",
    "|众数| 10.9| 874636|\n",
    "|最大值| 30.7\t|  30963450|\n",
    "|最小值| 5.32\t|  307000|\n",
    "\n",
    "#### 步骤二：变量标准化\n",
    "为了能够更好的观察分布以及制作可视化，我们对球员效率和工资都做了标准化，调整后的数据基本情况如下：\n",
    "\n",
    "||    球员效率PER   | 球员薪资(美元） |\n",
    "|---| ---------- | --- |\n",
    "|总计| 354 |  354 |\n",
    "|平均数| -2.5E-16| -8.6E-17|\n",
    "|中位数| -0.16| -0.36|\n",
    "|众数| -0.74|-0.97|\n",
    "|最大值|3.49| 3.50|\n",
    "|最小值|-1.94|-1.06|\n",
    "\n",
    "#### 步骤三：导入Tableau，绘制散点图。\n",
    "我们把数据导入到Tableau，把薪资值作为Y轴值，球员效率作为X轴值，球员名称作为点标签，进行散点图的绘制。散点图绘制完成后，在X轴和Y轴上分别添加四分位线（可以在上图中看到），将整个图表分割成五个区域（在后续分析中会有详细解释）。\n",
    "\n",
    "#### 步骤四：散点图进行优化\n",
    "随后，我们对处于每个区域的球员进行1-5的分别标注，并且标记成不同颜色以及不同的形状（考虑到了辨别色彩困难的读者）。添加标题以及美化图标。"
   ]
  },
  {
   "cell_type": "code",
   "execution_count": 20,
   "metadata": {
    "collapsed": false,
    "deletable": true,
    "editable": true,
    "scrolled": false
   },
   "outputs": [
    {
     "data": {
      "text/html": [
       "<div class='tableauPlaceholder' id='viz1497188284717' style='position: relative'><noscript><a href='#'><img alt='仪表板 2 ' src='https:&#47;&#47;public.tableau.com&#47;static&#47;images&#47;sa&#47;salaryper_0&#47;2_1&#47;1_rss.png' style='border: none' /></a></noscript><object class='tableauViz'  style='display:none;'><param name='host_url' value='https%3A%2F%2Fpublic.tableau.com%2F' /> <param name='site_root' value='' /><param name='name' value='salaryper_0&#47;2_1' /><param name='tabs' value='no' /><param name='toolbar' value='yes' /><param name='static_image' value='https:&#47;&#47;public.tableau.com&#47;static&#47;images&#47;sa&#47;salaryper_0&#47;2_1&#47;1.png' /> <param name='animate_transition' value='yes' /><param name='display_static_image' value='yes' /><param name='display_spinner' value='yes' /><param name='display_overlay' value='yes' /><param name='display_count' value='yes' /><param name='filter' value='publish=yes' /></object></div>                <script type='text/javascript'>                    var divElement = document.getElementById('viz1497188284717');                    var vizElement = divElement.getElementsByTagName('object')[0];                    vizElement.style.width='1028px';vizElement.style.height='837px';                    var scriptElement = document.createElement('script');                    scriptElement.src = 'https://public.tableau.com/javascripts/api/viz_v1.js';                    vizElement.parentNode.insertBefore(scriptElement, vizElement);                </script>"
      ],
      "text/plain": [
       "<IPython.core.display.HTML object>"
      ]
     },
     "metadata": {},
     "output_type": "display_data"
    }
   ],
   "source": [
    "%%html\n",
    "<div class='tableauPlaceholder' id='viz1497188284717' style='position: relative'><noscript><a href='#'><img alt='仪表板 2 ' src='https:&#47;&#47;public.tableau.com&#47;static&#47;images&#47;sa&#47;salaryper_0&#47;2_1&#47;1_rss.png' style='border: none' /></a></noscript><object class='tableauViz'  style='display:none;'><param name='host_url' value='https%3A%2F%2Fpublic.tableau.com%2F' /> <param name='site_root' value='' /><param name='name' value='salaryper_0&#47;2_1' /><param name='tabs' value='no' /><param name='toolbar' value='yes' /><param name='static_image' value='https:&#47;&#47;public.tableau.com&#47;static&#47;images&#47;sa&#47;salaryper_0&#47;2_1&#47;1.png' /> <param name='animate_transition' value='yes' /><param name='display_static_image' value='yes' /><param name='display_spinner' value='yes' /><param name='display_overlay' value='yes' /><param name='display_count' value='yes' /><param name='filter' value='publish=yes' /></object></div>                <script type='text/javascript'>                    var divElement = document.getElementById('viz1497188284717');                    var vizElement = divElement.getElementsByTagName('object')[0];                    vizElement.style.width='1028px';vizElement.style.height='837px';                    var scriptElement = document.createElement('script');                    scriptElement.src = 'https://public.tableau.com/javascripts/api/viz_v1.js';                    vizElement.parentNode.insertBefore(scriptElement, vizElement);                </script>"
   ]
  },
  {
   "cell_type": "markdown",
   "metadata": {
    "deletable": true,
    "editable": true
   },
   "source": [
    "## 分析结论\n",
    "我们将球员的薪资和PER值数据进行了标准化后绘制出以上图表。由上图我们可以看到，联盟的超级巨星（Lebron James, Russel Westbrook, Kevin Durant, James Harden, Chris Paul, Stephen Curry, Kawhi Leonard, Anthony Davis等）以及一线球星（Kevin Love, Dwyane Wade, John Wall, Jimmy Butler, Mike Conley, Damian Lillard等）均处在全联盟PER值前25%和薪资前25%的范围内，我们认为他们是高薪高能球员。 属于这一范畴的球员多是球队的当家领袖或核心球员，当有球队考虑重建体系需要引入球队核心的时候，这类球员应当被率先考虑。\n",
    "\n",
    "当我们讲目光转移到这张图表的右下角，我们能看到球队管理层最为喜欢的一类球员。这些球员的PER在联盟属于前25%的水平，然而他们的薪资却处在联盟中等水平以下。开拓者队的双能卫CJ McCollum, 雄鹿的“字母哥”Giannis Antetokounmpo, 费城76人的“大帝”Joel Embiid均属于此类球员。而勇士的JaVale McGee， 掘金队的Nokila Jokic以及火箭的Clint Capela在上赛季更是有着超高的性价比，打出联盟前25%的PER值水平的他们，仅仅领着联盟末25%的薪资。对球队管理层和主教练来说，“价廉物美”的他们是可以作为预算有限的球队在补强过程中重要拼图。然而对于这类球员，往往在成为“底薪高能”球员后，他们的下一份合同的薪资将会水涨船高，那么他们在将来会转变为上文讨论的“高薪高能”球员，或者变成我们即将讨论的“高薪低能”球员。\n",
    "\n",
    "“高薪低能”球员自然是球队的噩梦，在占用了球队大量的薪金空间的同时，却无法打出匹配他们薪资水平的表现，无疑是阻碍球队发展的因素。灰熊队的Chandler Parsons,骑士队的JR Smith和国王队的Arron Afflalo均因为在前几个赛季的优异表现的到了丰厚的合同，却在2016-2017赛季打得不尽如人意。如果一个球员连续几个赛季打出“高薪低能”的水平，他的下一份合同的薪水自然也会缩水，而球队管理层也应该想办法通过交易或是转会来处理这类球员。\n",
    "\n",
    "而处在图表左下角的球员，属于“底薪低能”（联盟末25%的PER值和联盟末25%的薪资），他们往往是出于职业生涯末期的老将，比如“喷气机”Jason Terry，或是频繁往返于NBA和NBDL的边缘球员，例如Marcus Thornton。对于在赛季中期遇到伤病困扰而无球员可用的球队来说，与这些球员签订短期合同也是一种保持即战力的选择。"
   ]
  },
  {
   "cell_type": "markdown",
   "metadata": {
    "deletable": true,
    "editable": true
   },
   "source": [
    "# 自由探索"
   ]
  },
  {
   "cell_type": "markdown",
   "metadata": {
    "deletable": true,
    "editable": true
   },
   "source": [
    "我们这里还设计了一个可以供大家自由探索的可视化。大家可以在右侧选择不同的赛季以及不同的指标，查看球员的数据排名。"
   ]
  },
  {
   "cell_type": "code",
   "execution_count": 8,
   "metadata": {
    "collapsed": false,
    "deletable": true,
    "editable": true,
    "scrolled": false
   },
   "outputs": [
    {
     "data": {
      "text/html": [
       "<div class='tableauPlaceholder' id='viz1497181910194' style='position: relative'><noscript><a href='#'><img alt='NBA近五赛季球员数据查询器 ' src='https:&#47;&#47;public.tableau.com&#47;static&#47;images&#47;NB&#47;NBA_35&#47;NBA_1&#47;1_rss.png' style='border: none' /></a></noscript><object class='tableauViz'  style='display:none;'><param name='host_url' value='https%3A%2F%2Fpublic.tableau.com%2F' /> <param name='site_root' value='' /><param name='name' value='NBA_35&#47;NBA_1' /><param name='tabs' value='no' /><param name='toolbar' value='yes' /><param name='static_image' value='https:&#47;&#47;public.tableau.com&#47;static&#47;images&#47;NB&#47;NBA_35&#47;NBA_1&#47;1.png' /> <param name='animate_transition' value='yes' /><param name='display_static_image' value='yes' /><param name='display_spinner' value='yes' /><param name='display_overlay' value='yes' /><param name='display_count' value='yes' /></object></div>                <script type='text/javascript'>                    var divElement = document.getElementById('viz1497181910194');                    var vizElement = divElement.getElementsByTagName('object')[0];                    vizElement.style.width='1004px';vizElement.style.height='869px';                    var scriptElement = document.createElement('script');                    scriptElement.src = 'https://public.tableau.com/javascripts/api/viz_v1.js';                    vizElement.parentNode.insertBefore(scriptElement, vizElement);                </script>"
      ],
      "text/plain": [
       "<IPython.core.display.HTML object>"
      ]
     },
     "metadata": {},
     "output_type": "display_data"
    }
   ],
   "source": [
    "%%html\n",
    "<div class='tableauPlaceholder' id='viz1497181910194' style='position: relative'><noscript><a href='#'><img alt='NBA近五赛季球员数据查询器 ' src='https:&#47;&#47;public.tableau.com&#47;static&#47;images&#47;NB&#47;NBA_35&#47;NBA_1&#47;1_rss.png' style='border: none' /></a></noscript><object class='tableauViz'  style='display:none;'><param name='host_url' value='https%3A%2F%2Fpublic.tableau.com%2F' /> <param name='site_root' value='' /><param name='name' value='NBA_35&#47;NBA_1' /><param name='tabs' value='no' /><param name='toolbar' value='yes' /><param name='static_image' value='https:&#47;&#47;public.tableau.com&#47;static&#47;images&#47;NB&#47;NBA_35&#47;NBA_1&#47;1.png' /> <param name='animate_transition' value='yes' /><param name='display_static_image' value='yes' /><param name='display_spinner' value='yes' /><param name='display_overlay' value='yes' /><param name='display_count' value='yes' /></object></div>                <script type='text/javascript'>                    var divElement = document.getElementById('viz1497181910194');                    var vizElement = divElement.getElementsByTagName('object')[0];                    vizElement.style.width='1004px';vizElement.style.height='869px';                    var scriptElement = document.createElement('script');                    scriptElement.src = 'https://public.tableau.com/javascripts/api/viz_v1.js';                    vizElement.parentNode.insertBefore(scriptElement, vizElement);                </script>"
   ]
  }
 ],
 "metadata": {
  "kernelspec": {
   "display_name": "Python 3",
   "language": "python",
   "name": "python3"
  },
  "language_info": {
   "codemirror_mode": {
    "name": "ipython",
    "version": 3
   },
   "file_extension": ".py",
   "mimetype": "text/x-python",
   "name": "python",
   "nbconvert_exporter": "python",
   "pygments_lexer": "ipython3",
   "version": "3.6.0"
  }
 },
 "nbformat": 4,
 "nbformat_minor": 2
}
