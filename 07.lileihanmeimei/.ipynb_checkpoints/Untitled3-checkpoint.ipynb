{
 "cells": [
  {
   "cell_type": "code",
   "execution_count": null,
   "metadata": {
    "collapsed": false
   },
   "outputs": [],
   "source": [
    "# -*- encoding:utf-8 -*-  \n",
    "import urllib2  \n",
    "import urllib  \n",
    "import re  \n",
    "import cookielib  \n",
    "import requests  \n",
    "from PIL import Image  \n",
    "import cStringIO\n",
    "# 这是初级版，只写了需要验证码登入的情况，不需要验证码的修改一下就好了\n",
    "loginUrl = 'https://www.douban.com/accounts/login'  \n",
    "formData={    \n",
    "    \"form_email\":'clarkyu1993@outlook.com',            #这里填写你的账号\n",
    "    \"form_password\":'gqns7788,.' ,        #这里填写你的密码\n",
    "    'source':'index_nav'\n",
    "}  \n",
    "headers={  \n",
    "    'Accept'    : 'text/html,application/xhtml+xml,application/xml;q=0.9,image/webp,*/*;q=0.8',   \n",
    "    'Host' : 'www.douban.com',  \n",
    "    'Referer' : 'https://www.douban.com/',  \n",
    "    'User-Agent' : 'Mozilla/5.0 (Windows NT 6.1; rv:48.0)'  \n",
    "} \n",
    "session = requests.session()\n",
    "session.cookies = cookielib.LWPCookieJar()                           #这一行可以注释掉，没有影响\n",
    "req = session.get('https://www.douban.com/',headers=headers, allow_redirects=False)\n",
    "pattern = re.compile('<img id=\"captcha_image\".*?id=(.*?)&',re.S)     #正则提取ID\n",
    "result = re.search(pattern,req.text)\n",
    "id = result.group(1)\n",
    "pattern = re.compile('<img id=\"captcha_image\".*?src=\"(.*?) alt=\"captcha',re.S)     #正则提取验证码链接\n",
    "result = re.search(pattern,req.text)\n",
    "imageURL = result.group(1).strip()\n",
    "request=urllib2.Request(imageURL,headers=headers)\n",
    "respHtml = urllib2.urlopen(request).read()\n",
    "img = Image.open(cStringIO.StringIO(respHtml))  \n",
    "print '请输入你看到的字母'\n",
    "img.show()  \n",
    "checkCode = raw_input()\n",
    "formData[\"captcha-solution\"]=checkCode        #表单中加入captcha-solution\n",
    "formData[\"captcha-id\"]=id                     #同上\n",
    "session.post(loginUrl,data=formData,headers=headers)    #发送post请求\n",
    "url = \"https://www.douban.com/people/162795734/\"     #站内的测试链接，用来判断是否登入成功（你要选你自己的链接，不能用我这个）\n",
    "code = session.get(url, headers=headers, allow_redirects=False)\n",
    "if code.status_code==200 :\n",
    "    print '登陆成功'\n",
    "else:\n",
    "    print '登录失败'"
   ]
  }
 ],
 "metadata": {
  "kernelspec": {
   "display_name": "Python [conda env:DAND]",
   "language": "python",
   "name": "conda-env-DAND-py"
  },
  "language_info": {
   "codemirror_mode": {
    "name": "ipython",
    "version": 2
   },
   "file_extension": ".py",
   "mimetype": "text/x-python",
   "name": "python",
   "nbconvert_exporter": "python",
   "pygments_lexer": "ipython2",
   "version": "2.7.12"
  }
 },
 "nbformat": 4,
 "nbformat_minor": 2
}
