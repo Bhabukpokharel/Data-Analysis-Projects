{
 "cells": [
  {
   "cell_type": "code",
   "execution_count": 1,
   "metadata": {
    "collapsed": true,
    "deletable": true,
    "editable": true
   },
   "outputs": [],
   "source": [
    "import pandas as pd\n",
    "import numpy as np\n",
    "from datetime import datetime\n",
    "from sklearn import preprocessing\n",
    "from sklearn.preprocessing import MinMaxScaler\n",
    "from sklearn.model_selection import train_test_split"
   ]
  },
  {
   "cell_type": "code",
   "execution_count": 2,
   "metadata": {
    "collapsed": true,
    "deletable": true,
    "editable": true
   },
   "outputs": [],
   "source": [
    "df = pd.read_csv(\"dataset.csv\")"
   ]
  },
  {
   "cell_type": "code",
   "execution_count": 3,
   "metadata": {
    "collapsed": false,
    "deletable": true,
    "editable": true,
    "scrolled": false
   },
   "outputs": [
    {
     "data": {
      "text/html": [
       "<div>\n",
       "<table border=\"1\" class=\"dataframe\">\n",
       "  <thead>\n",
       "    <tr style=\"text-align: right;\">\n",
       "      <th></th>\n",
       "      <th>watched</th>\n",
       "      <th>want</th>\n",
       "      <th>register_date</th>\n",
       "      <th>isfake</th>\n",
       "    </tr>\n",
       "  </thead>\n",
       "  <tbody>\n",
       "    <tr>\n",
       "      <th>0</th>\n",
       "      <td>680</td>\n",
       "      <td>96</td>\n",
       "      <td>1491519600</td>\n",
       "      <td>0</td>\n",
       "    </tr>\n",
       "    <tr>\n",
       "      <th>1</th>\n",
       "      <td>30</td>\n",
       "      <td>0</td>\n",
       "      <td>1495580400</td>\n",
       "      <td>0</td>\n",
       "    </tr>\n",
       "    <tr>\n",
       "      <th>2</th>\n",
       "      <td>201</td>\n",
       "      <td>58</td>\n",
       "      <td>1410822000</td>\n",
       "      <td>0</td>\n",
       "    </tr>\n",
       "    <tr>\n",
       "      <th>3</th>\n",
       "      <td>650</td>\n",
       "      <td>45</td>\n",
       "      <td>1487376000</td>\n",
       "      <td>0</td>\n",
       "    </tr>\n",
       "    <tr>\n",
       "      <th>4</th>\n",
       "      <td>30</td>\n",
       "      <td>0</td>\n",
       "      <td>1494889200</td>\n",
       "      <td>0</td>\n",
       "    </tr>\n",
       "  </tbody>\n",
       "</table>\n",
       "</div>"
      ],
      "text/plain": [
       "   watched  want  register_date  isfake\n",
       "0      680    96     1491519600       0\n",
       "1       30     0     1495580400       0\n",
       "2      201    58     1410822000       0\n",
       "3      650    45     1487376000       0\n",
       "4       30     0     1494889200       0"
      ]
     },
     "execution_count": 3,
     "metadata": {},
     "output_type": "execute_result"
    }
   ],
   "source": [
    "df.head(5)"
   ]
  },
  {
   "cell_type": "code",
   "execution_count": 4,
   "metadata": {
    "collapsed": false,
    "deletable": true,
    "editable": true,
    "scrolled": false
   },
   "outputs": [
    {
     "data": {
      "text/html": [
       "<div>\n",
       "<table border=\"1\" class=\"dataframe\">\n",
       "  <thead>\n",
       "    <tr style=\"text-align: right;\">\n",
       "      <th></th>\n",
       "      <th>watched</th>\n",
       "      <th>want</th>\n",
       "      <th>register_date</th>\n",
       "      <th>isfake</th>\n",
       "    </tr>\n",
       "  </thead>\n",
       "  <tbody>\n",
       "    <tr>\n",
       "      <th>0</th>\n",
       "      <td>0.207138</td>\n",
       "      <td>0.070330</td>\n",
       "      <td>0.981308</td>\n",
       "      <td>0</td>\n",
       "    </tr>\n",
       "    <tr>\n",
       "      <th>1</th>\n",
       "      <td>0.008847</td>\n",
       "      <td>0.000000</td>\n",
       "      <td>0.993180</td>\n",
       "      <td>0</td>\n",
       "    </tr>\n",
       "    <tr>\n",
       "      <th>2</th>\n",
       "      <td>0.061013</td>\n",
       "      <td>0.042491</td>\n",
       "      <td>0.745390</td>\n",
       "      <td>0</td>\n",
       "    </tr>\n",
       "    <tr>\n",
       "      <th>3</th>\n",
       "      <td>0.197987</td>\n",
       "      <td>0.032967</td>\n",
       "      <td>0.969195</td>\n",
       "      <td>0</td>\n",
       "    </tr>\n",
       "    <tr>\n",
       "      <th>4</th>\n",
       "      <td>0.008847</td>\n",
       "      <td>0.000000</td>\n",
       "      <td>0.991159</td>\n",
       "      <td>0</td>\n",
       "    </tr>\n",
       "  </tbody>\n",
       "</table>\n",
       "</div>"
      ],
      "text/plain": [
       "    watched      want  register_date  isfake\n",
       "0  0.207138  0.070330       0.981308       0\n",
       "1  0.008847  0.000000       0.993180       0\n",
       "2  0.061013  0.042491       0.745390       0\n",
       "3  0.197987  0.032967       0.969195       0\n",
       "4  0.008847  0.000000       0.991159       0"
      ]
     },
     "execution_count": 4,
     "metadata": {},
     "output_type": "execute_result"
    }
   ],
   "source": [
    "#最大最小化\n",
    "scaler = MinMaxScaler()\n",
    "df[['watched', 'want','register_date']] = scaler.fit_transform(df[['watched', 'want','register_date']])\n",
    "df.head()"
   ]
  },
  {
   "cell_type": "code",
   "execution_count": 5,
   "metadata": {
    "collapsed": false,
    "deletable": true,
    "editable": true,
    "scrolled": false
   },
   "outputs": [
    {
     "name": "stdout",
     "output_type": "stream",
     "text": [
      "200 200\n"
     ]
    },
    {
     "data": {
      "text/plain": [
       "array([0, 0, 0, 0, 0, 0, 0, 0, 0, 0, 0, 0, 0, 0, 0, 0, 0, 0, 0, 0, 0, 0, 0,\n",
       "       0, 0, 0, 0, 0, 0, 0, 0, 0, 0, 0, 0, 2, 0, 0, 0, 0, 0, 0, 0, 1, 0, 0,\n",
       "       0, 2, 1, 0, 0, 0, 1, 0, 1, 0, 0, 0, 1, 0, 1, 2, 0, 0, 0, 0, 0, 0, 0,\n",
       "       0, 1, 0, 0, 0, 0, 0, 0, 0, 0, 0, 0, 0, 0, 0, 1, 0, 0, 0, 0, 0, 0, 2,\n",
       "       0, 0, 0, 0, 0, 0, 0, 0, 0, 0, 0, 0, 0, 1, 0, 0, 0, 0, 0, 0, 0, 0, 0,\n",
       "       0, 0, 0, 0, 0, 0, 0, 0, 0, 0, 0, 0, 0, 0, 0, 0, 0, 0, 0, 0, 0, 0, 0,\n",
       "       0, 0, 0, 0, 0, 0, 0, 0, 0, 0, 0, 0, 0, 0, 0, 0, 0, 0, 0, 0, 0, 0, 0,\n",
       "       0, 0, 0, 0, 0, 0, 0, 0, 0, 0, 0, 0, 0, 0, 0, 0, 0, 0, 0, 0, 0, 0, 0,\n",
       "       0, 0, 0, 0, 0, 0, 0, 0, 1, 0, 0, 0, 0, 0, 0, 0], dtype=int64)"
      ]
     },
     "execution_count": 5,
     "metadata": {},
     "output_type": "execute_result"
    }
   ],
   "source": [
    "x = np.array(df[['watched', 'want','register_date']])\n",
    "y = np.array(df[\"isfake\"])\n",
    "print(len(x),len(y))\n",
    "y"
   ]
  },
  {
   "cell_type": "code",
   "execution_count": 6,
   "metadata": {
    "collapsed": false,
    "deletable": true,
    "editable": true
   },
   "outputs": [],
   "source": [
    "X_train, X_test, y_train, y_test = train_test_split(x, y, test_size=0.4, random_state=42)"
   ]
  },
  {
   "cell_type": "code",
   "execution_count": 239,
   "metadata": {
    "collapsed": false,
    "deletable": true,
    "editable": true
   },
   "outputs": [
    {
     "data": {
      "text/plain": [
       "0.96250000000000002"
      ]
     },
     "execution_count": 239,
     "metadata": {},
     "output_type": "execute_result"
    }
   ],
   "source": [
    "from sklearn import svm\n",
    "clf = svm.SVC(kernel='linear', C=1).fit(X_train, y_train)\n",
    "clf.score(X_test, y_test)"
   ]
  },
  {
   "cell_type": "code",
   "execution_count": 7,
   "metadata": {
    "collapsed": false,
    "deletable": true,
    "editable": true
   },
   "outputs": [
    {
     "data": {
      "text/plain": [
       "0.90000000000000002"
      ]
     },
     "execution_count": 7,
     "metadata": {},
     "output_type": "execute_result"
    }
   ],
   "source": [
    "from sklearn import tree\n",
    "clf = tree.DecisionTreeClassifier()\n",
    "clf = clf.fit(X_train, y_train)\n",
    "clf.score(X_test, y_test)"
   ]
  },
  {
   "cell_type": "code",
   "execution_count": 8,
   "metadata": {
    "collapsed": false,
    "deletable": true,
    "editable": true
   },
   "outputs": [],
   "source": [
    "df_new = pd.read_csv(\"hand.csv\")"
   ]
  },
  {
   "cell_type": "code",
   "execution_count": 9,
   "metadata": {
    "collapsed": false,
    "deletable": true,
    "editable": true,
    "scrolled": false
   },
   "outputs": [
    {
     "data": {
      "text/html": [
       "<div>\n",
       "<table border=\"1\" class=\"dataframe\">\n",
       "  <thead>\n",
       "    <tr style=\"text-align: right;\">\n",
       "      <th></th>\n",
       "      <th>Index</th>\n",
       "      <th>rate</th>\n",
       "      <th>person_page</th>\n",
       "      <th>watched</th>\n",
       "      <th>want</th>\n",
       "      <th>register_date</th>\n",
       "      <th>isfake</th>\n",
       "    </tr>\n",
       "  </thead>\n",
       "  <tbody>\n",
       "    <tr>\n",
       "      <th>0</th>\n",
       "      <td>589</td>\n",
       "      <td>5.0</td>\n",
       "      <td>https://www.douban.com/people/162795212</td>\n",
       "      <td>2</td>\n",
       "      <td>0.0</td>\n",
       "      <td>1.498000e+09</td>\n",
       "      <td>NaN</td>\n",
       "    </tr>\n",
       "    <tr>\n",
       "      <th>1</th>\n",
       "      <td>695</td>\n",
       "      <td>5.0</td>\n",
       "      <td>https://www.douban.com/people/162765908</td>\n",
       "      <td>1</td>\n",
       "      <td>1.0</td>\n",
       "      <td>1.497913e+09</td>\n",
       "      <td>NaN</td>\n",
       "    </tr>\n",
       "    <tr>\n",
       "      <th>2</th>\n",
       "      <td>1009</td>\n",
       "      <td>2.0</td>\n",
       "      <td>https://www.douban.com/people/162762142</td>\n",
       "      <td>2</td>\n",
       "      <td>0.0</td>\n",
       "      <td>1.497913e+09</td>\n",
       "      <td>NaN</td>\n",
       "    </tr>\n",
       "    <tr>\n",
       "      <th>3</th>\n",
       "      <td>1579</td>\n",
       "      <td>1.0</td>\n",
       "      <td>https://www.douban.com/people/162776372</td>\n",
       "      <td>3</td>\n",
       "      <td>0.0</td>\n",
       "      <td>1.497913e+09</td>\n",
       "      <td>NaN</td>\n",
       "    </tr>\n",
       "    <tr>\n",
       "      <th>4</th>\n",
       "      <td>1725</td>\n",
       "      <td>5.0</td>\n",
       "      <td>https://www.douban.com/people/162778933</td>\n",
       "      <td>1</td>\n",
       "      <td>0.0</td>\n",
       "      <td>1.497913e+09</td>\n",
       "      <td>NaN</td>\n",
       "    </tr>\n",
       "    <tr>\n",
       "      <th>5</th>\n",
       "      <td>1047</td>\n",
       "      <td>3.0</td>\n",
       "      <td>https://www.douban.com/people/162753337</td>\n",
       "      <td>8</td>\n",
       "      <td>0.0</td>\n",
       "      <td>1.497913e+09</td>\n",
       "      <td>NaN</td>\n",
       "    </tr>\n",
       "    <tr>\n",
       "      <th>6</th>\n",
       "      <td>571</td>\n",
       "      <td>1.0</td>\n",
       "      <td>https://www.douban.com/people/162738674</td>\n",
       "      <td>2</td>\n",
       "      <td>6.0</td>\n",
       "      <td>1.497827e+09</td>\n",
       "      <td>NaN</td>\n",
       "    </tr>\n",
       "    <tr>\n",
       "      <th>7</th>\n",
       "      <td>1210</td>\n",
       "      <td>1.0</td>\n",
       "      <td>https://www.douban.com/people/162745008</td>\n",
       "      <td>1</td>\n",
       "      <td>0.0</td>\n",
       "      <td>1.497827e+09</td>\n",
       "      <td>NaN</td>\n",
       "    </tr>\n",
       "    <tr>\n",
       "      <th>8</th>\n",
       "      <td>1283</td>\n",
       "      <td>1.0</td>\n",
       "      <td>https://www.douban.com/people/162730144</td>\n",
       "      <td>5</td>\n",
       "      <td>0.0</td>\n",
       "      <td>1.497827e+09</td>\n",
       "      <td>NaN</td>\n",
       "    </tr>\n",
       "    <tr>\n",
       "      <th>9</th>\n",
       "      <td>74</td>\n",
       "      <td>3.0</td>\n",
       "      <td>https://www.douban.com/people/162741035</td>\n",
       "      <td>3</td>\n",
       "      <td>4.0</td>\n",
       "      <td>1.497827e+09</td>\n",
       "      <td>NaN</td>\n",
       "    </tr>\n",
       "  </tbody>\n",
       "</table>\n",
       "</div>"
      ],
      "text/plain": [
       "   Index  rate                              person_page  watched  want  \\\n",
       "0    589   5.0  https://www.douban.com/people/162795212        2   0.0   \n",
       "1    695   5.0  https://www.douban.com/people/162765908        1   1.0   \n",
       "2   1009   2.0  https://www.douban.com/people/162762142        2   0.0   \n",
       "3   1579   1.0  https://www.douban.com/people/162776372        3   0.0   \n",
       "4   1725   5.0  https://www.douban.com/people/162778933        1   0.0   \n",
       "5   1047   3.0  https://www.douban.com/people/162753337        8   0.0   \n",
       "6    571   1.0  https://www.douban.com/people/162738674        2   6.0   \n",
       "7   1210   1.0  https://www.douban.com/people/162745008        1   0.0   \n",
       "8   1283   1.0  https://www.douban.com/people/162730144        5   0.0   \n",
       "9     74   3.0  https://www.douban.com/people/162741035        3   4.0   \n",
       "\n",
       "   register_date  isfake  \n",
       "0   1.498000e+09     NaN  \n",
       "1   1.497913e+09     NaN  \n",
       "2   1.497913e+09     NaN  \n",
       "3   1.497913e+09     NaN  \n",
       "4   1.497913e+09     NaN  \n",
       "5   1.497913e+09     NaN  \n",
       "6   1.497827e+09     NaN  \n",
       "7   1.497827e+09     NaN  \n",
       "8   1.497827e+09     NaN  \n",
       "9   1.497827e+09     NaN  "
      ]
     },
     "execution_count": 9,
     "metadata": {},
     "output_type": "execute_result"
    }
   ],
   "source": [
    "df_new.head(10)"
   ]
  },
  {
   "cell_type": "code",
   "execution_count": 10,
   "metadata": {
    "collapsed": false,
    "deletable": true,
    "editable": true,
    "scrolled": false
   },
   "outputs": [
    {
     "data": {
      "text/html": [
       "<div>\n",
       "<table border=\"1\" class=\"dataframe\">\n",
       "  <thead>\n",
       "    <tr style=\"text-align: right;\">\n",
       "      <th></th>\n",
       "      <th>Index</th>\n",
       "      <th>rate</th>\n",
       "      <th>person_page</th>\n",
       "      <th>watched</th>\n",
       "      <th>want</th>\n",
       "      <th>register_date</th>\n",
       "      <th>isfake</th>\n",
       "    </tr>\n",
       "  </thead>\n",
       "  <tbody>\n",
       "    <tr>\n",
       "      <th>0</th>\n",
       "      <td>589</td>\n",
       "      <td>5.0</td>\n",
       "      <td>https://www.douban.com/people/162795212</td>\n",
       "      <td>0.000101</td>\n",
       "      <td>0.000000</td>\n",
       "      <td>1.000000</td>\n",
       "      <td>NaN</td>\n",
       "    </tr>\n",
       "    <tr>\n",
       "      <th>1</th>\n",
       "      <td>695</td>\n",
       "      <td>5.0</td>\n",
       "      <td>https://www.douban.com/people/162765908</td>\n",
       "      <td>0.000000</td>\n",
       "      <td>0.000138</td>\n",
       "      <td>0.999770</td>\n",
       "      <td>NaN</td>\n",
       "    </tr>\n",
       "    <tr>\n",
       "      <th>2</th>\n",
       "      <td>1009</td>\n",
       "      <td>2.0</td>\n",
       "      <td>https://www.douban.com/people/162762142</td>\n",
       "      <td>0.000101</td>\n",
       "      <td>0.000000</td>\n",
       "      <td>0.999770</td>\n",
       "      <td>NaN</td>\n",
       "    </tr>\n",
       "    <tr>\n",
       "      <th>3</th>\n",
       "      <td>1579</td>\n",
       "      <td>1.0</td>\n",
       "      <td>https://www.douban.com/people/162776372</td>\n",
       "      <td>0.000203</td>\n",
       "      <td>0.000000</td>\n",
       "      <td>0.999770</td>\n",
       "      <td>NaN</td>\n",
       "    </tr>\n",
       "    <tr>\n",
       "      <th>4</th>\n",
       "      <td>1725</td>\n",
       "      <td>5.0</td>\n",
       "      <td>https://www.douban.com/people/162778933</td>\n",
       "      <td>0.000000</td>\n",
       "      <td>0.000000</td>\n",
       "      <td>0.999770</td>\n",
       "      <td>NaN</td>\n",
       "    </tr>\n",
       "    <tr>\n",
       "      <th>5</th>\n",
       "      <td>1047</td>\n",
       "      <td>3.0</td>\n",
       "      <td>https://www.douban.com/people/162753337</td>\n",
       "      <td>0.000710</td>\n",
       "      <td>0.000000</td>\n",
       "      <td>0.999770</td>\n",
       "      <td>NaN</td>\n",
       "    </tr>\n",
       "    <tr>\n",
       "      <th>6</th>\n",
       "      <td>571</td>\n",
       "      <td>1.0</td>\n",
       "      <td>https://www.douban.com/people/162738674</td>\n",
       "      <td>0.000101</td>\n",
       "      <td>0.000830</td>\n",
       "      <td>0.999539</td>\n",
       "      <td>NaN</td>\n",
       "    </tr>\n",
       "    <tr>\n",
       "      <th>7</th>\n",
       "      <td>1210</td>\n",
       "      <td>1.0</td>\n",
       "      <td>https://www.douban.com/people/162745008</td>\n",
       "      <td>0.000000</td>\n",
       "      <td>0.000000</td>\n",
       "      <td>0.999539</td>\n",
       "      <td>NaN</td>\n",
       "    </tr>\n",
       "    <tr>\n",
       "      <th>8</th>\n",
       "      <td>1283</td>\n",
       "      <td>1.0</td>\n",
       "      <td>https://www.douban.com/people/162730144</td>\n",
       "      <td>0.000406</td>\n",
       "      <td>0.000000</td>\n",
       "      <td>0.999539</td>\n",
       "      <td>NaN</td>\n",
       "    </tr>\n",
       "    <tr>\n",
       "      <th>9</th>\n",
       "      <td>74</td>\n",
       "      <td>3.0</td>\n",
       "      <td>https://www.douban.com/people/162741035</td>\n",
       "      <td>0.000203</td>\n",
       "      <td>0.000553</td>\n",
       "      <td>0.999539</td>\n",
       "      <td>NaN</td>\n",
       "    </tr>\n",
       "  </tbody>\n",
       "</table>\n",
       "</div>"
      ],
      "text/plain": [
       "   Index  rate                              person_page   watched      want  \\\n",
       "0    589   5.0  https://www.douban.com/people/162795212  0.000101  0.000000   \n",
       "1    695   5.0  https://www.douban.com/people/162765908  0.000000  0.000138   \n",
       "2   1009   2.0  https://www.douban.com/people/162762142  0.000101  0.000000   \n",
       "3   1579   1.0  https://www.douban.com/people/162776372  0.000203  0.000000   \n",
       "4   1725   5.0  https://www.douban.com/people/162778933  0.000000  0.000000   \n",
       "5   1047   3.0  https://www.douban.com/people/162753337  0.000710  0.000000   \n",
       "6    571   1.0  https://www.douban.com/people/162738674  0.000101  0.000830   \n",
       "7   1210   1.0  https://www.douban.com/people/162745008  0.000000  0.000000   \n",
       "8   1283   1.0  https://www.douban.com/people/162730144  0.000406  0.000000   \n",
       "9     74   3.0  https://www.douban.com/people/162741035  0.000203  0.000553   \n",
       "\n",
       "   register_date  isfake  \n",
       "0       1.000000     NaN  \n",
       "1       0.999770     NaN  \n",
       "2       0.999770     NaN  \n",
       "3       0.999770     NaN  \n",
       "4       0.999770     NaN  \n",
       "5       0.999770     NaN  \n",
       "6       0.999539     NaN  \n",
       "7       0.999539     NaN  \n",
       "8       0.999539     NaN  \n",
       "9       0.999539     NaN  "
      ]
     },
     "execution_count": 10,
     "metadata": {},
     "output_type": "execute_result"
    }
   ],
   "source": [
    "df_new[['watched', 'want','register_date']] = scaler.fit_transform(df_new[['watched', 'want','register_date']])\n",
    "df_new.head(10)"
   ]
  },
  {
   "cell_type": "code",
   "execution_count": 11,
   "metadata": {
    "collapsed": false,
    "deletable": true,
    "editable": true
   },
   "outputs": [
    {
     "name": "stdout",
     "output_type": "stream",
     "text": [
      "1765\n"
     ]
    }
   ],
   "source": [
    "x_final = np.array(df_new[['watched', 'want','register_date']])\n",
    "print(len(x_final))"
   ]
  },
  {
   "cell_type": "code",
   "execution_count": 12,
   "metadata": {
    "collapsed": false,
    "deletable": true,
    "editable": true
   },
   "outputs": [],
   "source": [
    "isfake = clf.predict(x_final)"
   ]
  },
  {
   "cell_type": "code",
   "execution_count": 13,
   "metadata": {
    "collapsed": false,
    "deletable": true,
    "editable": true
   },
   "outputs": [
    {
     "data": {
      "text/plain": [
       "array([1, 1, 1, ..., 0, 0, 0], dtype=int64)"
      ]
     },
     "execution_count": 13,
     "metadata": {},
     "output_type": "execute_result"
    }
   ],
   "source": [
    "isfake"
   ]
  },
  {
   "cell_type": "code",
   "execution_count": 14,
   "metadata": {
    "collapsed": false,
    "deletable": true,
    "editable": true
   },
   "outputs": [],
   "source": [
    "df_new[\"isfake\"] = isfake"
   ]
  },
  {
   "cell_type": "code",
   "execution_count": 15,
   "metadata": {
    "collapsed": false,
    "deletable": true,
    "editable": true,
    "scrolled": false
   },
   "outputs": [
    {
     "data": {
      "text/html": [
       "<div>\n",
       "<table border=\"1\" class=\"dataframe\">\n",
       "  <thead>\n",
       "    <tr style=\"text-align: right;\">\n",
       "      <th></th>\n",
       "      <th>Index</th>\n",
       "      <th>rate</th>\n",
       "      <th>person_page</th>\n",
       "      <th>watched</th>\n",
       "      <th>want</th>\n",
       "      <th>register_date</th>\n",
       "      <th>isfake</th>\n",
       "    </tr>\n",
       "  </thead>\n",
       "  <tbody>\n",
       "    <tr>\n",
       "      <th>0</th>\n",
       "      <td>589</td>\n",
       "      <td>5.0</td>\n",
       "      <td>https://www.douban.com/people/162795212</td>\n",
       "      <td>0.000101</td>\n",
       "      <td>0.000000</td>\n",
       "      <td>1.000000</td>\n",
       "      <td>1</td>\n",
       "    </tr>\n",
       "    <tr>\n",
       "      <th>1</th>\n",
       "      <td>695</td>\n",
       "      <td>5.0</td>\n",
       "      <td>https://www.douban.com/people/162765908</td>\n",
       "      <td>0.000000</td>\n",
       "      <td>0.000138</td>\n",
       "      <td>0.999770</td>\n",
       "      <td>1</td>\n",
       "    </tr>\n",
       "    <tr>\n",
       "      <th>2</th>\n",
       "      <td>1009</td>\n",
       "      <td>2.0</td>\n",
       "      <td>https://www.douban.com/people/162762142</td>\n",
       "      <td>0.000101</td>\n",
       "      <td>0.000000</td>\n",
       "      <td>0.999770</td>\n",
       "      <td>1</td>\n",
       "    </tr>\n",
       "    <tr>\n",
       "      <th>3</th>\n",
       "      <td>1579</td>\n",
       "      <td>1.0</td>\n",
       "      <td>https://www.douban.com/people/162776372</td>\n",
       "      <td>0.000203</td>\n",
       "      <td>0.000000</td>\n",
       "      <td>0.999770</td>\n",
       "      <td>1</td>\n",
       "    </tr>\n",
       "    <tr>\n",
       "      <th>4</th>\n",
       "      <td>1725</td>\n",
       "      <td>5.0</td>\n",
       "      <td>https://www.douban.com/people/162778933</td>\n",
       "      <td>0.000000</td>\n",
       "      <td>0.000000</td>\n",
       "      <td>0.999770</td>\n",
       "      <td>1</td>\n",
       "    </tr>\n",
       "    <tr>\n",
       "      <th>5</th>\n",
       "      <td>1047</td>\n",
       "      <td>3.0</td>\n",
       "      <td>https://www.douban.com/people/162753337</td>\n",
       "      <td>0.000710</td>\n",
       "      <td>0.000000</td>\n",
       "      <td>0.999770</td>\n",
       "      <td>1</td>\n",
       "    </tr>\n",
       "    <tr>\n",
       "      <th>6</th>\n",
       "      <td>571</td>\n",
       "      <td>1.0</td>\n",
       "      <td>https://www.douban.com/people/162738674</td>\n",
       "      <td>0.000101</td>\n",
       "      <td>0.000830</td>\n",
       "      <td>0.999539</td>\n",
       "      <td>1</td>\n",
       "    </tr>\n",
       "    <tr>\n",
       "      <th>7</th>\n",
       "      <td>1210</td>\n",
       "      <td>1.0</td>\n",
       "      <td>https://www.douban.com/people/162745008</td>\n",
       "      <td>0.000000</td>\n",
       "      <td>0.000000</td>\n",
       "      <td>0.999539</td>\n",
       "      <td>1</td>\n",
       "    </tr>\n",
       "    <tr>\n",
       "      <th>8</th>\n",
       "      <td>1283</td>\n",
       "      <td>1.0</td>\n",
       "      <td>https://www.douban.com/people/162730144</td>\n",
       "      <td>0.000406</td>\n",
       "      <td>0.000000</td>\n",
       "      <td>0.999539</td>\n",
       "      <td>1</td>\n",
       "    </tr>\n",
       "    <tr>\n",
       "      <th>9</th>\n",
       "      <td>74</td>\n",
       "      <td>3.0</td>\n",
       "      <td>https://www.douban.com/people/162741035</td>\n",
       "      <td>0.000203</td>\n",
       "      <td>0.000553</td>\n",
       "      <td>0.999539</td>\n",
       "      <td>1</td>\n",
       "    </tr>\n",
       "  </tbody>\n",
       "</table>\n",
       "</div>"
      ],
      "text/plain": [
       "   Index  rate                              person_page   watched      want  \\\n",
       "0    589   5.0  https://www.douban.com/people/162795212  0.000101  0.000000   \n",
       "1    695   5.0  https://www.douban.com/people/162765908  0.000000  0.000138   \n",
       "2   1009   2.0  https://www.douban.com/people/162762142  0.000101  0.000000   \n",
       "3   1579   1.0  https://www.douban.com/people/162776372  0.000203  0.000000   \n",
       "4   1725   5.0  https://www.douban.com/people/162778933  0.000000  0.000000   \n",
       "5   1047   3.0  https://www.douban.com/people/162753337  0.000710  0.000000   \n",
       "6    571   1.0  https://www.douban.com/people/162738674  0.000101  0.000830   \n",
       "7   1210   1.0  https://www.douban.com/people/162745008  0.000000  0.000000   \n",
       "8   1283   1.0  https://www.douban.com/people/162730144  0.000406  0.000000   \n",
       "9     74   3.0  https://www.douban.com/people/162741035  0.000203  0.000553   \n",
       "\n",
       "   register_date  isfake  \n",
       "0       1.000000       1  \n",
       "1       0.999770       1  \n",
       "2       0.999770       1  \n",
       "3       0.999770       1  \n",
       "4       0.999770       1  \n",
       "5       0.999770       1  \n",
       "6       0.999539       1  \n",
       "7       0.999539       1  \n",
       "8       0.999539       1  \n",
       "9       0.999539       1  "
      ]
     },
     "execution_count": 15,
     "metadata": {},
     "output_type": "execute_result"
    }
   ],
   "source": [
    "df_new.head(10)"
   ]
  },
  {
   "cell_type": "code",
   "execution_count": 16,
   "metadata": {
    "collapsed": false,
    "deletable": true,
    "editable": true
   },
   "outputs": [],
   "source": [
    "df_new.to_csv(\"final_result1.csv\")"
   ]
  }
 ],
 "metadata": {
  "kernelspec": {
   "display_name": "Python 3",
   "language": "python",
   "name": "python3"
  },
  "language_info": {
   "codemirror_mode": {
    "name": "ipython",
    "version": 3
   },
   "file_extension": ".py",
   "mimetype": "text/x-python",
   "name": "python",
   "nbconvert_exporter": "python",
   "pygments_lexer": "ipython3",
   "version": "3.6.0"
  }
 },
 "nbformat": 4,
 "nbformat_minor": 2
}
