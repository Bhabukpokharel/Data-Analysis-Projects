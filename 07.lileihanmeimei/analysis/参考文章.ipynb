{
 "cells": [
  {
   "cell_type": "markdown",
   "metadata": {},
   "source": [
    "1.如何转化时间戳？http://blog.csdn.net/xiaobing_blog/article/details/12591917\n",
    "2.在pandas中如何最大最小化？https://stackoverflow.com/questions/24645153/pandas-dataframe-columns-scaling-with-sklearn\n",
    "3."
   ]
  }
 ],
 "metadata": {
  "kernelspec": {
   "display_name": "Python 3",
   "language": "python",
   "name": "python3"
  },
  "language_info": {
   "codemirror_mode": {
    "name": "ipython",
    "version": 3
   },
   "file_extension": ".py",
   "mimetype": "text/x-python",
   "name": "python",
   "nbconvert_exporter": "python",
   "pygments_lexer": "ipython3",
   "version": "3.6.0"
  }
 },
 "nbformat": 4,
 "nbformat_minor": 2
}
