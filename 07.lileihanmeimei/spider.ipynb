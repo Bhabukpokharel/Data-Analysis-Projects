{
 "cells": [
  {
   "cell_type": "code",
   "execution_count": 1,
   "metadata": {
    "collapsed": false,
    "deletable": true,
    "editable": true
   },
   "outputs": [],
   "source": [
    "from bs4 import BeautifulSoup\n",
    "import requests\n",
    "import re\n",
    "import time\n",
    "import pandas as pd"
   ]
  },
  {
   "cell_type": "code",
   "execution_count": null,
   "metadata": {
    "collapsed": false,
    "deletable": true,
    "editable": true,
    "scrolled": false
   },
   "outputs": [],
   "source": [
    "#! python3\n",
    "from bs4 import BeautifulSoup\n",
    "import requests\n",
    "import re\n",
    "import time\n",
    "import pandas as pd\n",
    "\n",
    "def to_string(item):    \n",
    "    paragraphs = []\n",
    "    for x in item:\n",
    "        paragraphs.append(str(x))\n",
    "    return paragraphs[3]\n",
    "\n",
    "def get_info(item):  \n",
    "    pattern = re.compile('<a class.+?>(\\S+)<',re.S)\n",
    "    name = re.findall(pattern,item)\n",
    "    pattern3 = re.compile('<a class=.+href=\\\"(.+)/\\\">',re.S)\n",
    "    url = re.findall(pattern3,item)\n",
    "    \n",
    "    try:\n",
    "        pattern2 = re.compile('<span class=.+?title=\\\"(.+)\\\"></span>',re.S)\n",
    "        rate = re.findall(pattern2,item)\n",
    "        return (name[0],rate[0], url[0])\n",
    "    except:\n",
    "        return (name[0],None, url[0])\n",
    "\n",
    "def find_next(soup):\n",
    "    next = str(soup.find_all('a', class_=\"next\")[0])\n",
    "    print(next)\n",
    "    pattern = re.compile('<a class=\"next\\\".+href=\\\"(\\S+)\\\">',re.S)\n",
    "    url = re.findall(pattern,next)[0]\n",
    "    url.split(\";\")\n",
    "    new = \"\"\n",
    "    count = 0\n",
    "    for i in url.split(\";\"):\n",
    "        if count == 0:\n",
    "            new = i\n",
    "        else:\n",
    "            new = new + \"&\" + i\n",
    "        count = count + 1\n",
    "    return \"https://movie.douban.com/subject/26289138/comments\"+new.replace('amp&','')\n",
    "\n",
    "cookies = {}\n",
    "raw_cookies=input(\"Enter the cookies:\")\n",
    "#raw_cookies='ll=\"108289\"; bid=4a89RwhDSCc; _ga=GA1.2.2125343414.1497989209; _gid=GA1.2.230149405.1498000349; ck=Ahu4; __utma=223695111.2125343414.1497989209.1498001315.1498001315.1; __utmb=223695111.0.10.1498001315; __utmc=223695111; __utmz=223695111.1498001315.1.1.utmcsr=(direct)|utmccn=(direct)|utmcmd=(none); __utmt=1; __utma=30149280.2125343414.1497989209.1497989209.1498000258.2; __utmb=30149280.6.10.1498000258; __utmc=30149280; __utmz=30149280.1497989209.1.1.utmcsr=(direct)|utmccn=(direct)|utmcmd=(none); __utmv=30149280.16279; ue=\"clarkyu1993@outlook.com\"; dbcl2=\"162795734:Fd+B1qoPnjc\"' \n",
    "for line in raw_cookies.split(';'):\n",
    "    key,value=line.split('=',1)#1代表只分一次，得到两个数据\n",
    "    cookies[key[1:]]=value\n",
    "    \n",
    "url = \"https://movie.douban.com/subject/26289138/comments\"   \n",
    "result = set()\n",
    "for i in range(0,5800,1):\n",
    "    print('正在爬取'+ url)\n",
    "    r= requests.get(url,cookies=cookies)\n",
    "    soup = BeautifulSoup(r.content,\"html.parser\")\n",
    "    print(\"导入为soup\")\n",
    "    a = soup.find_all('h3')\n",
    "    print(\"升级url\")\n",
    "    url = find_next(soup)\n",
    "    print(\"准备写入！\")\n",
    "    for item in a:\n",
    "        print(get_info(to_string(item)))\n",
    "        result.add(get_info(to_string(item)))\n",
    "    print(\"结果写入完成！\" + \"目前有数据条数：\" + str(len(result)))\n",
    "    print(\"睡眠开始！\")\n",
    "    time.sleep(3)\n",
    "    print(\"睡眠结束！再次爬行！\")\n",
    "    current_result = pd.DataFrame(list(result),columns=['用户姓名','评分情况','个人主页'])\n",
    "    current_result.to_csv('result_current.csv', encoding='utf-8')\n",
    "\n",
    "final_result = pd.DataFrame(list(result),columns=['用户姓名','评分情况','个人主页'])\n",
    "final_result.to_csv('result.csv', encoding='utf-8')"
   ]
  },
  {
   "cell_type": "code",
   "execution_count": 11,
   "metadata": {
    "collapsed": false,
    "deletable": true,
    "editable": true
   },
   "outputs": [],
   "source": [
    "def find_next(soup):\n",
    "    next = str(soup.find_all('a', class_=\"next\")[0])\n",
    "    print(next)\n",
    "    pattern = re.compile('<a class=\"next\\\".+href=\\\"(\\S+)\\\">',re.S)\n",
    "    url = re.findall(pattern,next)[0]\n",
    "    url.split(\";\")\n",
    "    new = \"\"\n",
    "    count = 0\n",
    "    for i in url.split(\";\"):\n",
    "        if count == 0:\n",
    "            new = i\n",
    "        else:\n",
    "            new = new + \"&\" + i\n",
    "        count = count + 1\n",
    "    return \"https://movie.douban.com/subject/26289138/comments\"+new.replace('amp&','')"
   ]
  },
  {
   "cell_type": "code",
   "execution_count": 5,
   "metadata": {
    "collapsed": false,
    "deletable": true,
    "editable": true,
    "scrolled": false
   },
   "outputs": [
    {
     "name": "stdout",
     "output_type": "stream",
     "text": [
      "<a class=\"next\" data-page=\"\" href=\"?start=34&amp;limit=20&amp;sort=new_score&amp;status=P\">后页 &gt;</a>\n"
     ]
    },
    {
     "data": {
      "text/plain": [
       "'https://movie.douban.com/subject/26289138/comments?&?start=34&amp&limit=20&amp&sort=new_score&amp&status=P'"
      ]
     },
     "execution_count": 5,
     "metadata": {},
     "output_type": "execute_result"
    }
   ],
   "source": [
    "url = \"https://movie.douban.com/subject/26289138/comments\"   \n",
    "r= requests.get(url)\n",
    "soup = BeautifulSoup(r.content,\"html.parser\")\n"
   ]
  },
  {
   "cell_type": "code",
   "execution_count": 13,
   "metadata": {
    "collapsed": false,
    "deletable": true,
    "editable": true
   },
   "outputs": [
    {
     "name": "stdout",
     "output_type": "stream",
     "text": [
      "<a class=\"next\" data-page=\"\" href=\"?start=34&amp;limit=20&amp;sort=new_score&amp;status=P\">后页 &gt;</a>\n"
     ]
    },
    {
     "data": {
      "text/plain": [
       "'https://movie.douban.com/subject/26289138/comments?start=34&limit=20&sort=new_score&status=P'"
      ]
     },
     "execution_count": 13,
     "metadata": {},
     "output_type": "execute_result"
    }
   ],
   "source": [
    "t = find_next(soup)\n",
    "t"
   ]
  },
  {
   "cell_type": "code",
   "execution_count": 29,
   "metadata": {
    "collapsed": false,
    "deletable": true,
    "editable": true
   },
   "outputs": [],
   "source": [
    "def find_next(soup):\n",
    "    next = str(soup.find_all('a', class_=\"next\")[0])\n",
    "    pattern = re.compile('<a class=\"next\\\".+href=\\\"(\\S+)\\\">',re.S)\n",
    "    url = re.findall(pattern,next)[0]\n",
    "    url.split(\";\")\n",
    "    new = \"\"\n",
    "    for i in url.split(\";\"):\n",
    "        new = new + \"&\" + i\n",
    "    return \"https://movie.douban.com/subject/26289138/comments?\"+new"
   ]
  },
  {
   "cell_type": "code",
   "execution_count": 30,
   "metadata": {
    "collapsed": false,
    "deletable": true,
    "editable": true,
    "scrolled": false
   },
   "outputs": [
    {
     "data": {
      "text/plain": [
       "'https://movie.douban.com/subject/26289138/comments?&?start=198&amp&limit=20&amp&sort=time&amp&status=P'"
      ]
     },
     "execution_count": 30,
     "metadata": {},
     "output_type": "execute_result"
    }
   ],
   "source": [
    "find_next(soup)"
   ]
  },
  {
   "cell_type": "code",
   "execution_count": 15,
   "metadata": {
    "collapsed": true,
    "deletable": true,
    "editable": true
   },
   "outputs": [],
   "source": [
    "def to_string(item):    \n",
    "    paragraphs = []\n",
    "    for x in item:\n",
    "        paragraphs.append(str(x))\n",
    "    return paragraphs[3]\n",
    "\n",
    "def get_info(item):  \n",
    "    pattern = re.compile('<a class.+?>(\\S+)<',re.S)\n",
    "    name = re.findall(pattern,item)\n",
    "    pattern3 = re.compile('<a class=.+href=\\\"(.+)/\\\">',re.S)\n",
    "    url = re.findall(pattern3,item)\n",
    "    \n",
    "    try:\n",
    "        pattern2 = re.compile('<span class=.+?title=\\\"(.+)\\\"></span>',re.S)\n",
    "        rate = re.findall(pattern2,item)\n",
    "        return (name[0],rate[0], url[0])\n",
    "    except:\n",
    "        return (name[0],None, url[0])"
   ]
  },
  {
   "cell_type": "code",
   "execution_count": 2,
   "metadata": {
    "collapsed": false,
    "deletable": true,
    "editable": true
   },
   "outputs": [],
   "source": [
    "#爬取个人电影页面\n",
    "dataframe = pd.DataFrame.from_csv(\"sample.csv\")"
   ]
  },
  {
   "cell_type": "code",
   "execution_count": 3,
   "metadata": {
    "collapsed": false,
    "deletable": true,
    "editable": true,
    "scrolled": false
   },
   "outputs": [
    {
     "name": "stdout",
     "output_type": "stream",
     "text": [
      "开始读取https://www.douban.com/people/119032993\n",
      "结束，下一个\n",
      "开始读取https://www.douban.com/people/137474020\n",
      "结束，下一个\n",
      "开始读取https://www.douban.com/people/136014666\n",
      "结束，下一个\n",
      "开始读取https://www.douban.com/people/kid007spy\n",
      "结束，下一个\n",
      "开始读取https://www.douban.com/people/Frenda\n",
      "结束，下一个\n",
      "开始读取https://www.douban.com/people/80381588\n",
      "结束，下一个\n",
      "开始读取https://www.douban.com/people/cy-sunny\n",
      "结束，下一个\n",
      "开始读取https://www.douban.com/people/108312317\n",
      "结束，下一个\n",
      "开始读取https://www.douban.com/people/1831746\n",
      "结束，下一个\n",
      "开始读取https://www.douban.com/people/55699469\n",
      "结束，下一个\n"
     ]
    }
   ],
   "source": [
    "from bs4 import BeautifulSoup\n",
    "import requests\n",
    "import re\n",
    "import time\n",
    "import pandas as pd\n",
    "\n",
    "#爬取个人电影页面\n",
    "dataframe = pd.DataFrame.from_csv(\"sample.csv\")\n",
    "\n",
    "cookies = {}\n",
    "raw_cookies = input(\"enter the cookies\")\n",
    "#raw_cookies='ll=\"108289\"; bid=4a89RwhDSCc; __utmt=1; __utma=30149280.2125343414.1497989209.1497989209.1498000258.2; __utmb=30149280.2.10.1498000258; __utmc=30149280; __utmz=30149280.1497989209.1.1.utmcsr=(direct)|utmccn=(direct)|utmcmd=(none); _ga=GA1.2.2125343414.1497989209; _gid=GA1.2.230149405.1498000349; _gat_UA-7019765-1=1; ue=\"clarkyu1993@outlook.com\"; dbcl2=\"162795734:uwDhinrc7Ag\"' \n",
    "\n",
    "for line in raw_cookies.split(';'):\n",
    "    key,value=line.split('=',1)#1代表只分一次，得到两个数据\n",
    "    cookies[key[1:]]=value \n",
    "\n",
    "dataframe[\"已经看过的电影\"] = ''\n",
    "dataframe[\"想看的电影\"] = ''\n",
    "\n",
    "for i in range(len(dataframe)):\n",
    "    url = dataframe[\"个人主页\"][i]\n",
    "    print(\"开始读取\" + str(url))\n",
    "    r= requests.get(url,cookies=cookies)\n",
    "    soup = BeautifulSoup(r.content,\"html.parser\")\n",
    "    a = soup.find_all(\"h2\")\n",
    "    text =\"\"\n",
    "    for item in a:\n",
    "        text = text + str(item)\n",
    "    pattern1 = re.compile('target.+>(\\d+\\S+)看过',re.S)\n",
    "    pattern2 = re.compile('target.+>(\\d+\\S+)想看',re.S)\n",
    "    num_movies1 = re.findall(pattern1,text)\n",
    "    num_movies2 = re.findall(pattern2,text)\n",
    "    dataframe.set_value(i, \"已经看过的电影\", num_movies1)\n",
    "    dataframe.set_value(i, \"想看的电影\", num_movies2)\n",
    "    print(\"结束，下一个\")\n",
    "    dataframe.to_csv('addwatch.csv', encoding='utf-8')"
   ]
  }
 ],
 "metadata": {
  "kernelspec": {
   "display_name": "Python 3",
   "language": "python",
   "name": "python3"
  },
  "language_info": {
   "codemirror_mode": {
    "name": "ipython",
    "version": 3
   },
   "file_extension": ".py",
   "mimetype": "text/x-python",
   "name": "python",
   "nbconvert_exporter": "python",
   "pygments_lexer": "ipython3",
   "version": "3.6.0"
  }
 },
 "nbformat": 4,
 "nbformat_minor": 2
}
