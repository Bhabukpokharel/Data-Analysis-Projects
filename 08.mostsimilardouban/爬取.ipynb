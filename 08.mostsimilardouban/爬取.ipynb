{
 "cells": [
  {
   "cell_type": "code",
   "execution_count": 2,
   "metadata": {
    "collapsed": true
   },
   "outputs": [],
   "source": [
    "#! python3\n",
    "from bs4 import BeautifulSoup\n",
    "import requests\n",
    "import re\n",
    "import time\n",
    "import pandas as pd\n",
    "import selenium\n",
    "from selenium import webdriver\n",
    "from selenium.webdriver.common.keys import Keys\n",
    "\n",
    "#登陆豆瓣\n",
    "login_url ='https://accounts.douban.com/login'\n",
    "driver = webdriver.Chrome()\n",
    "driver.get(login_url)\n",
    "account = driver.find_element_by_id('email')\n",
    "account.clear()#清楚框框里的字，下同\n",
    "account.send_keys('yuchijing@126.com')#真实账号被隐藏，请换成自己实际的账号\n",
    "password =driver.find_element_by_id('password')\n",
    "password.clear()\n",
    "password.send_keys('gqns7788,.')#真实密码被隐藏，请换成自己实际的密码\n"
   ]
  },
  {
   "cell_type": "code",
   "execution_count": 7,
   "metadata": {},
   "outputs": [
    {
     "name": "stdout",
     "output_type": "stream",
     "text": [
      "captcha is:future\n",
      "https://www.douban.com/people/richer725\n",
      "现在爬到第1个用户\n",
      "https://www.douban.com/people/49277454\n",
      "现在爬到第2个用户\n",
      "https://www.douban.com/people/150148834\n",
      "现在爬到第3个用户\n",
      "https://www.douban.com/people/161272245\n",
      "现在爬到第4个用户\n",
      "出问题啦！\n"
     ]
    }
   ],
   "source": [
    "captcha = driver.find_element_by_id('captcha_image')\n",
    "if captcha:#如果抓到验证码了，恭喜你，需要打码\n",
    "    captcha_field = driver.find_element_by_id('captcha_field')\n",
    "    captcha_field.clear()\n",
    "    captcha_field.send_keys(input('captcha is:'))#验证码手动挡\n",
    "    account.send_keys(Keys.RETURN)\n",
    "else:#如果没有就直接回车吧\n",
    "    account.send_keys(Keys.RETURN)\n",
    "\n",
    "df = pd.read_csv('user_list.csv')\n",
    "def get_info(soup):\n",
    "    a = str(soup)\n",
    "    pattern = re.compile('共同的喜好\\((\\d+)',re.S)\n",
    "    same_num = (re.findall(pattern,a))\n",
    "    if len(same_num)>0:\n",
    "        same_like = int(same_num[0])\n",
    "    else:\n",
    "        same_like = 0\n",
    "\n",
    "    b = soup.find_all(\"h2\")\n",
    "    text = \"\"\n",
    "    for i in b:\n",
    "        if \"电影\" in str(i):\n",
    "            text = str(i)\n",
    "    pattern2 = re.compile('target.+>(\\d+\\S+)部看过',re.S)\n",
    "    movie_num = re.findall(pattern2,text)\n",
    "\n",
    "    if len(movie_num)>0:\n",
    "        num_movies = int(movie_num[0])\n",
    "    else:\n",
    "        num_movies = 0\n",
    "\n",
    "    if same_like > 0 and num_movies > 0 :\n",
    "        return same_like,num_movies,same_like/num_movies\n",
    "    else:\n",
    "        return 0,0,0\n",
    "\n",
    "df_user = pd.DataFrame(columns=['url', 'samelike', 'watched', 'rate_self'])\n",
    "\n",
    "count = 0\n",
    "for user in df[\"User\"]:\n",
    "    count = count + 1\n",
    "    print(user)\n",
    "    print(\"现在爬到第\" + str(count) + \"个用户\")\n",
    "    try:\n",
    "        driver.get(user)\n",
    "        html=driver.page_source\n",
    "        soup=BeautifulSoup(html,'lxml')\n",
    "        same_like,watched,rate_self = get_info(soup)\n",
    "\n",
    "        df_user.loc[-1] = [user,same_like,watched,rate_self]  # adding a row\n",
    "        df_user.index = df_user.index + 1  # shifting index\n",
    "        df_user = df_user.sort_index()  # sorting by index\n",
    "        time.sleep(5)\n",
    "        df_user.to_csv('user_rate2.csv', encoding='utf-8')\n",
    "    except:\n",
    "        print(\"出问题啦！\")\n",
    "        break"
   ]
  }
 ],
 "metadata": {
  "kernelspec": {
   "display_name": "Python 3",
   "language": "python",
   "name": "python3"
  },
  "language_info": {
   "codemirror_mode": {
    "name": "ipython",
    "version": 3
   },
   "file_extension": ".py",
   "mimetype": "text/x-python",
   "name": "python",
   "nbconvert_exporter": "python",
   "pygments_lexer": "ipython3",
   "version": "3.6.1"
  }
 },
 "nbformat": 4,
 "nbformat_minor": 2
}
