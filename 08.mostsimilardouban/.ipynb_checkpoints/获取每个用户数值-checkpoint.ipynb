{
 "cells": [
  {
   "cell_type": "code",
   "execution_count": null,
   "metadata": {
    "collapsed": false,
    "deletable": true,
    "editable": true
   },
   "outputs": [
    {
     "name": "stdout",
     "output_type": "stream",
     "text": [
      "Enter the cookies:bid=NGGgsiyNckM; __yadk_uid=RktyRu5hlNGGUEalCjxNB5RjyZmB52gT; _ga=GA1.2.927319413.1499268091; ps=y; loc-last-index-location-id=\"108296\"; ll=\"108296\"; _vwo_uuid_v2=1FB849B03DE973D2453AADA1D8D9712B|bc16804a8d80979bacd49595dea6e7c1; gr_user_id=21a1885a-4143-4230-8a64-90ac57969895; _pk_ref.100001.8cb4=%5B%22%22%2C%22%22%2C1499597244%2C%22https%3A%2F%2Fwww.baidu.com%2Flink%3Furl%3DffSue4c5h_Wu8FYSn9jqQoq73yIpyfcKejontW0Nk-RJCGHCXpOKkeqk6NEoe7Ig%26wd%3D%26eqid%3Db4972d730003a9540000000659610686%22%5D; push_doumail_num=0; __utmt=1; push_noty_num=0; _pk_id.100001.8cb4=d1a83588c38b78cf.1499268088.9.1499597425.1499530896.; _pk_ses.100001.8cb4=*; __utma=30149280.927319413.1499268091.1499530898.1499597246.7; __utmb=30149280.3.10.1499597246; __utmc=30149280; __utmz=30149280.1499530898.6.2.utmcsr=baidu|utmccn=(organic)|utmcmd=organic; __utmv=30149280.3906; ap=1; ue=\"yuchijing@126.com\"; dbcl2=\"39068167:ji6JDR1UMZk\"\n",
      "https://www.douban.com/people/richer725\n",
      "https://www.douban.com/people/49277454\n",
      "https://www.douban.com/people/150148834\n",
      "https://www.douban.com/people/161272245\n",
      "https://www.douban.com/people/70787387\n",
      "https://www.douban.com/people/C_C--321\n",
      "https://www.douban.com/people/2744224\n"
     ]
    }
   ],
   "source": [
    "from bs4 import BeautifulSoup\n",
    "import requests\n",
    "import re\n",
    "import time\n",
    "import pandas as pd\n",
    "\n",
    "cookies = {}\n",
    "raw_cookies=input(\"Enter the cookies:\")\n",
    "for line in raw_cookies.split(';'):\n",
    "    key,value=line.split('=',1)#1代表只分一次，得到两个数据\n",
    "    cookies[key[1:]]=value\n",
    "\n",
    "df = pd.read_csv('user_list.csv')\n",
    "def get_info(soup): \n",
    "    a = str(soup)\n",
    "    pattern = re.compile('共同的喜好\\((\\d+)',re.S)\n",
    "    same_num = (re.findall(pattern,a))   \n",
    "    if len(same_num)>0:\n",
    "        same_like = int(same_num[0])\n",
    "    else:\n",
    "        same_like = 0           \n",
    "    \n",
    "    b = soup.find_all(\"h2\")\n",
    "    text = \"\"\n",
    "    for i in b:\n",
    "        if \"电影\" in str(i):\n",
    "            text = str(i)\n",
    "    pattern2 = re.compile('target.+>(\\d+\\S+)部看过',re.S)\n",
    "    movie_num = re.findall(pattern2,text)\n",
    "    \n",
    "    if len(movie_num)>0:\n",
    "        num_movies = int(movie_num[0])\n",
    "    else:\n",
    "        num_movies = 0\n",
    "    \n",
    "    if same_like > 0 and num_movies > 0 :\n",
    "        return same_like,num_movies,same_like/num_movies\n",
    "    else:\n",
    "        return 0,0,0        \n",
    "\n",
    "df_user = pd.DataFrame(columns=['url', 'samelike', 'watched', 'rate_self'])\n",
    "\n",
    "for user in df[\"User\"]:\n",
    "    print(user)\n",
    "    r= requests.get(user,cookies=cookies)\n",
    "    soup = BeautifulSoup(r.content,\"html.parser\")\n",
    "    same_like,watched,rate_self = get_info(soup)\n",
    "    \n",
    "    df_user.loc[-1] = [user,same_like,watched,rate_self]  # adding a row\n",
    "    df_user.index = df_user.index + 1  # shifting index\n",
    "    df_user = df_user.sort_index()  # sorting by index  \n",
    "    time.sleep(2)\n",
    "    df_user.to_csv('user_rate.csv', encoding='utf-8')"
   ]
  }
 ],
 "metadata": {
  "kernelspec": {
   "display_name": "Python 3",
   "language": "python",
   "name": "python3"
  },
  "language_info": {
   "codemirror_mode": {
    "name": "ipython",
    "version": 3
   },
   "file_extension": ".py",
   "mimetype": "text/x-python",
   "name": "python",
   "nbconvert_exporter": "python",
   "pygments_lexer": "ipython3",
   "version": "3.6.0"
  }
 },
 "nbformat": 4,
 "nbformat_minor": 2
}
