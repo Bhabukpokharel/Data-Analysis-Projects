{
 "cells": [
  {
   "cell_type": "code",
   "execution_count": 222,
   "metadata": {},
   "outputs": [
    {
     "data": {
      "text/html": [
       "<div>\n",
       "<style>\n",
       "    .dataframe thead tr:only-child th {\n",
       "        text-align: right;\n",
       "    }\n",
       "\n",
       "    .dataframe thead th {\n",
       "        text-align: left;\n",
       "    }\n",
       "\n",
       "    .dataframe tbody tr th {\n",
       "        vertical-align: top;\n",
       "    }\n",
       "</style>\n",
       "<table border=\"1\" class=\"dataframe\">\n",
       "  <thead>\n",
       "    <tr style=\"text-align: right;\">\n",
       "      <th></th>\n",
       "      <th>age</th>\n",
       "      <th>blood</th>\n",
       "      <th>car</th>\n",
       "      <th>constellation</th>\n",
       "      <th>education</th>\n",
       "      <th>ethnic</th>\n",
       "      <th>height</th>\n",
       "      <th>house</th>\n",
       "      <th>id</th>\n",
       "      <th>js_age</th>\n",
       "      <th>...</th>\n",
       "      <th>js_marriaged</th>\n",
       "      <th>js_member</th>\n",
       "      <th>js_photo</th>\n",
       "      <th>location</th>\n",
       "      <th>marriaged</th>\n",
       "      <th>membership</th>\n",
       "      <th>nickname</th>\n",
       "      <th>salary</th>\n",
       "      <th>shengxiao</th>\n",
       "      <th>weight</th>\n",
       "    </tr>\n",
       "  </thead>\n",
       "  <tbody>\n",
       "    <tr>\n",
       "      <th>0</th>\n",
       "      <td>38岁</td>\n",
       "      <td>A型</td>\n",
       "      <td>暂未购车</td>\n",
       "      <td>射手座</td>\n",
       "      <td>高中中专及以下</td>\n",
       "      <td>汉族</td>\n",
       "      <td>162cm</td>\n",
       "      <td>住单位房</td>\n",
       "      <td>105136729</td>\n",
       "      <td>39-50岁之间</td>\n",
       "      <td>...</td>\n",
       "      <td>离异、丧偶</td>\n",
       "      <td>不限</td>\n",
       "      <td>有照片</td>\n",
       "      <td>丽水</td>\n",
       "      <td>离异,有小孩归自己</td>\n",
       "      <td>普通会员</td>\n",
       "      <td>怡然</td>\n",
       "      <td>2000～5000元</td>\n",
       "      <td>马</td>\n",
       "      <td>52公斤</td>\n",
       "    </tr>\n",
       "    <tr>\n",
       "      <th>1</th>\n",
       "      <td>55岁</td>\n",
       "      <td>--</td>\n",
       "      <td>暂未购车</td>\n",
       "      <td>白羊座</td>\n",
       "      <td>大专</td>\n",
       "      <td>汉族</td>\n",
       "      <td>158cm</td>\n",
       "      <td>已购房（无贷款）</td>\n",
       "      <td>144702453</td>\n",
       "      <td>55-63岁之间</td>\n",
       "      <td>...</td>\n",
       "      <td>离异、丧偶</td>\n",
       "      <td>星级会员 *</td>\n",
       "      <td>有照片</td>\n",
       "      <td>丽水</td>\n",
       "      <td>丧偶,有小孩归自己</td>\n",
       "      <td>高级会员</td>\n",
       "      <td>子妍</td>\n",
       "      <td>2000～5000元</td>\n",
       "      <td>虎</td>\n",
       "      <td>53公斤</td>\n",
       "    </tr>\n",
       "    <tr>\n",
       "      <th>2</th>\n",
       "      <td>33岁</td>\n",
       "      <td>O型</td>\n",
       "      <td>暂未购车</td>\n",
       "      <td>巨蟹座</td>\n",
       "      <td>本科</td>\n",
       "      <td>汉族</td>\n",
       "      <td>160cm</td>\n",
       "      <td>暂未购房</td>\n",
       "      <td>157876837</td>\n",
       "      <td>31-37岁之间</td>\n",
       "      <td>...</td>\n",
       "      <td>不限</td>\n",
       "      <td>星级会员</td>\n",
       "      <td>有照片</td>\n",
       "      <td>丽水</td>\n",
       "      <td>离异,有小孩归对方</td>\n",
       "      <td>普通会员</td>\n",
       "      <td>借一下@幸福@</td>\n",
       "      <td>2000～5000元</td>\n",
       "      <td>鼠</td>\n",
       "      <td>--</td>\n",
       "    </tr>\n",
       "    <tr>\n",
       "      <th>3</th>\n",
       "      <td>41岁</td>\n",
       "      <td>B型</td>\n",
       "      <td>--</td>\n",
       "      <td>金牛座</td>\n",
       "      <td>本科</td>\n",
       "      <td>汉族</td>\n",
       "      <td>170cm</td>\n",
       "      <td>与父母同住</td>\n",
       "      <td>89478709</td>\n",
       "      <td>40-55岁之间</td>\n",
       "      <td>...</td>\n",
       "      <td>未婚</td>\n",
       "      <td>不限</td>\n",
       "      <td>不限</td>\n",
       "      <td>丽水</td>\n",
       "      <td>未婚</td>\n",
       "      <td>普通会员</td>\n",
       "      <td>星空</td>\n",
       "      <td>2000～5000元</td>\n",
       "      <td>龙</td>\n",
       "      <td>--</td>\n",
       "    </tr>\n",
       "    <tr>\n",
       "      <th>4</th>\n",
       "      <td>53岁</td>\n",
       "      <td>O型</td>\n",
       "      <td>已购车（经济型）</td>\n",
       "      <td>双子座</td>\n",
       "      <td>本科</td>\n",
       "      <td>汉族</td>\n",
       "      <td>158cm</td>\n",
       "      <td>已购房（有贷款）</td>\n",
       "      <td>141681049</td>\n",
       "      <td>55-62岁之间 *</td>\n",
       "      <td>...</td>\n",
       "      <td>离异、丧偶 *</td>\n",
       "      <td>星级会员 *</td>\n",
       "      <td>有照片</td>\n",
       "      <td>丽水</td>\n",
       "      <td>离异,有小孩归对方</td>\n",
       "      <td>高级会员</td>\n",
       "      <td>桂花树</td>\n",
       "      <td>5000～10000元</td>\n",
       "      <td>龙</td>\n",
       "      <td>65公斤</td>\n",
       "    </tr>\n",
       "  </tbody>\n",
       "</table>\n",
       "<p>5 rows × 24 columns</p>\n",
       "</div>"
      ],
      "text/plain": [
       "   age blood       car constellation education ethnic height     house  \\\n",
       "0  38岁    A型      暂未购车           射手座   高中中专及以下     汉族  162cm      住单位房   \n",
       "1  55岁    --      暂未购车           白羊座        大专     汉族  158cm  已购房（无贷款）   \n",
       "2  33岁    O型      暂未购车           巨蟹座        本科     汉族  160cm      暂未购房   \n",
       "3  41岁    B型        --           金牛座        本科     汉族  170cm     与父母同住   \n",
       "4  53岁    O型  已购车（经济型）           双子座        本科     汉族  158cm  已购房（有贷款）   \n",
       "\n",
       "          id      js_age  ...   js_marriaged js_member js_photo location  \\\n",
       "0  105136729    39-50岁之间  ...          离异、丧偶        不限      有照片       丽水   \n",
       "1  144702453    55-63岁之间  ...          离异、丧偶    星级会员 *      有照片       丽水   \n",
       "2  157876837    31-37岁之间  ...             不限      星级会员      有照片       丽水   \n",
       "3   89478709    40-55岁之间  ...             未婚        不限       不限       丽水   \n",
       "4  141681049  55-62岁之间 *  ...        离异、丧偶 *    星级会员 *      有照片       丽水   \n",
       "\n",
       "   marriaged membership nickname       salary shengxiao weight  \n",
       "0  离异,有小孩归自己       普通会员       怡然   2000～5000元         马   52公斤  \n",
       "1  丧偶,有小孩归自己       高级会员       子妍   2000～5000元         虎   53公斤  \n",
       "2  离异,有小孩归对方       普通会员  借一下@幸福@   2000～5000元         鼠     --  \n",
       "3         未婚       普通会员       星空   2000～5000元         龙     --  \n",
       "4  离异,有小孩归对方       高级会员      桂花树  5000～10000元         龙   65公斤  \n",
       "\n",
       "[5 rows x 24 columns]"
      ]
     },
     "execution_count": 222,
     "metadata": {},
     "output_type": "execute_result"
    }
   ],
   "source": [
    "import pandas as pd\n",
    "import re\n",
    "data = pd.read_csv(\"data.csv\",index_col = 0)\n",
    "data = data.drop_duplicates().reset_index()\n",
    "del data[\"index\"]\n",
    "data.head()"
   ]
  },
  {
   "cell_type": "code",
   "execution_count": 250,
   "metadata": {},
   "outputs": [
    {
     "data": {
      "text/plain": [
       "Index(['age', 'blood', 'car', 'constellation', 'education', 'ethnic', 'height',\n",
       "       'house', 'id', 'js_age', 'js_education', 'js_ethnic', 'js_height',\n",
       "       'js_location', 'js_marriaged', 'js_member', 'js_photo', 'location',\n",
       "       'marriaged', 'membership', 'nickname', 'salary', 'shengxiao', 'weight'],\n",
       "      dtype='object')"
      ]
     },
     "execution_count": 250,
     "metadata": {},
     "output_type": "execute_result"
    }
   ],
   "source": [
    "data.columns"
   ]
  },
  {
   "cell_type": "code",
   "execution_count": 223,
   "metadata": {},
   "outputs": [],
   "source": [
    "def clean_age(age):   #清洗年龄\n",
    "    if \"岁\" in age:\n",
    "        return int(age[:-1])\n",
    "    else:\n",
    "        return None\n",
    "data[\"age\"] = data[\"age\"].apply(clean_age)"
   ]
  },
  {
   "cell_type": "code",
   "execution_count": 224,
   "metadata": {},
   "outputs": [
    {
     "data": {
      "text/plain": [
       "35030"
      ]
     },
     "execution_count": 224,
     "metadata": {},
     "output_type": "execute_result"
    }
   ],
   "source": [
    "data = data.drop(data.index[[32739,8347]])\n",
    "len(data)"
   ]
  },
  {
   "cell_type": "code",
   "execution_count": 225,
   "metadata": {},
   "outputs": [],
   "source": [
    "a = data[\"age\"].value_counts()\n",
    "#a.to_frame().to_csv(\"age.csv\")"
   ]
  },
  {
   "cell_type": "code",
   "execution_count": 226,
   "metadata": {},
   "outputs": [],
   "source": [
    "b = data[\"education\"].value_counts()\n",
    "#b.to_frame().to_csv(\"education.csv\",encoding='utf-8')"
   ]
  },
  {
   "cell_type": "code",
   "execution_count": 227,
   "metadata": {
    "collapsed": true
   },
   "outputs": [],
   "source": [
    "def clean_height(height):\n",
    "    if \"cm\" in height:\n",
    "        return int(height[:-2])\n",
    "    else:\n",
    "        return None\n",
    "data[\"height\"] = data[\"height\"].apply(clean_height)"
   ]
  },
  {
   "cell_type": "code",
   "execution_count": 228,
   "metadata": {},
   "outputs": [],
   "source": [
    "c = data[\"height\"].value_counts()\n",
    "#c.to_frame().to_csv(\"height.csv\",encoding='utf-8')"
   ]
  },
  {
   "cell_type": "code",
   "execution_count": 229,
   "metadata": {},
   "outputs": [
    {
     "data": {
      "text/plain": [
       "未婚              21868\n",
       "离异,有小孩归自己        3903\n",
       "离异               3595\n",
       "离异,有小孩归对方        3355\n",
       "离异,无小孩           1481\n",
       "丧偶,有小孩归自己         504\n",
       "丧偶                253\n",
       "丧偶,无小孩             47\n",
       "丧偶,有小孩归对方          16\n",
       "未填                  7\n",
       "未婚、离异,有小孩归自己        1\n",
       "Name: marriaged, dtype: int64"
      ]
     },
     "execution_count": 229,
     "metadata": {},
     "output_type": "execute_result"
    }
   ],
   "source": [
    "data[\"marriaged\"].value_counts()"
   ]
  },
  {
   "cell_type": "code",
   "execution_count": 230,
   "metadata": {},
   "outputs": [
    {
     "data": {
      "text/plain": [
       "--          12237\n",
       "暂未购房         6388\n",
       "与父母同住        4427\n",
       "已购住房         3412\n",
       "独自租房         2211\n",
       "已购房（无贷款）     1936\n",
       "已购房（有贷款）     1698\n",
       "与人合租          892\n",
       "住单位房          872\n",
       "需要时购置         804\n",
       "住亲朋家          153\n",
       "Name: house, dtype: int64"
      ]
     },
     "execution_count": 230,
     "metadata": {},
     "output_type": "execute_result"
    }
   ],
   "source": [
    "data[\"house\"].value_counts()"
   ]
  },
  {
   "cell_type": "code",
   "execution_count": 231,
   "metadata": {},
   "outputs": [
    {
     "data": {
      "text/plain": [
       "天秤座    3606\n",
       "魔羯座    3462\n",
       "双子座    3356\n",
       "天蝎座    3230\n",
       "处女座    3016\n",
       "狮子座    2925\n",
       "射手座    2920\n",
       "双鱼座    2739\n",
       "巨蟹座    2587\n",
       "水瓶座    2555\n",
       "金牛座    2386\n",
       "白羊座    2232\n",
       "--       16\n",
       "Name: constellation, dtype: int64"
      ]
     },
     "execution_count": 231,
     "metadata": {},
     "output_type": "execute_result"
    }
   ],
   "source": [
    "data[\"constellation\"].value_counts()"
   ]
  },
  {
   "cell_type": "code",
   "execution_count": 232,
   "metadata": {},
   "outputs": [
    {
     "data": {
      "text/plain": [
       "马     3442\n",
       "龙     3325\n",
       "鸡     3180\n",
       "狗     3143\n",
       "猴     3051\n",
       "羊     3033\n",
       "兔     3029\n",
       "蛇     2975\n",
       "猪     2631\n",
       "虎     2585\n",
       "鼠     2327\n",
       "牛     2303\n",
       "--       6\n",
       "Name: shengxiao, dtype: int64"
      ]
     },
     "execution_count": 232,
     "metadata": {},
     "output_type": "execute_result"
    }
   ],
   "source": [
    "data[\"shengxiao\"].value_counts()"
   ]
  },
  {
   "cell_type": "code",
   "execution_count": 233,
   "metadata": {},
   "outputs": [
    {
     "data": {
      "text/plain": [
       "35030"
      ]
     },
     "execution_count": 233,
     "metadata": {},
     "output_type": "execute_result"
    }
   ],
   "source": [
    "len(data[\"js_age\"])"
   ]
  },
  {
   "cell_type": "code",
   "execution_count": 234,
   "metadata": {},
   "outputs": [],
   "source": [
    "def clean_js_age(age):\n",
    "    try:\n",
    "        if \"不限\" not in age:\n",
    "            pattern = re.compile('(\\d+)-(\\d+)岁',re.S)\n",
    "            result = pattern.search(age)\n",
    "            if result is not None:\n",
    "                return (float(result.group(1)) + float(result.group(2)))/2\n",
    "            else:\n",
    "                pattern = re.compile('(\\d+)岁',re.S)\n",
    "                result = pattern.search(age)\n",
    "                return float(result.group(1))\n",
    "        else:\n",
    "            return None\n",
    "    except:\n",
    "        pass"
   ]
  },
  {
   "cell_type": "code",
   "execution_count": 235,
   "metadata": {
    "scrolled": false
   },
   "outputs": [],
   "source": [
    "data[\"js_age\"] = data[\"js_age\"].apply(clean_js_age)"
   ]
  },
  {
   "cell_type": "code",
   "execution_count": 236,
   "metadata": {},
   "outputs": [],
   "source": [
    "list1 = data['js_age'].groupby(data['age']).mean()"
   ]
  },
  {
   "cell_type": "code",
   "execution_count": 210,
   "metadata": {},
   "outputs": [],
   "source": [
    "list1.to_frame()\n",
    "list1.to_csv(\"1.csv\",encoding=\"utf-8\")"
   ]
  },
  {
   "cell_type": "code",
   "execution_count": 238,
   "metadata": {
    "collapsed": true
   },
   "outputs": [],
   "source": [
    "def clean_js_height(height):\n",
    "    try:\n",
    "        if \"不限\" not in height:\n",
    "            pattern = re.compile('(\\d+)-(\\d+)厘米',re.S)\n",
    "            result = pattern.search(height)\n",
    "            if result is not None:\n",
    "                return (float(result.group(1)) + float(result.group(2)))/2\n",
    "            else:\n",
    "                pattern = re.compile('(\\d+)厘米',re.S)\n",
    "                result = pattern.search(height)\n",
    "                return float(result.group(1))\n",
    "        else:\n",
    "            return None\n",
    "    except:\n",
    "        pass"
   ]
  },
  {
   "cell_type": "code",
   "execution_count": 239,
   "metadata": {
    "collapsed": true
   },
   "outputs": [],
   "source": [
    "data[\"js_height\"] = data[\"js_height\"].apply(clean_js_height)"
   ]
  },
  {
   "cell_type": "code",
   "execution_count": 240,
   "metadata": {},
   "outputs": [
    {
     "data": {
      "text/plain": [
       "178.5    4634\n",
       "175.0    4091\n",
       "177.5    3446\n",
       "172.5    2569\n",
       "180.0    2212\n",
       "176.5    1547\n",
       "174.0    1280\n",
       "179.0    1210\n",
       "176.0    1083\n",
       "175.5     847\n",
       "177.0     835\n",
       "170.0     821\n",
       "182.5     791\n",
       "178.0     774\n",
       "173.0     694\n",
       "179.5     653\n",
       "180.5     634\n",
       "181.5     623\n",
       "174.5     550\n",
       "171.5     503\n",
       "181.0     443\n",
       "185.0     434\n",
       "173.5     405\n",
       "170.5     299\n",
       "172.0     291\n",
       "183.0     256\n",
       "184.0     254\n",
       "182.0     241\n",
       "171.0     208\n",
       "167.5     189\n",
       "         ... \n",
       "200.0       2\n",
       "212.5       2\n",
       "216.0       2\n",
       "158.0       2\n",
       "192.0       2\n",
       "159.5       2\n",
       "155.0       2\n",
       "191.0       2\n",
       "199.0       2\n",
       "159.0       2\n",
       "225.0       1\n",
       "152.0       1\n",
       "226.0       1\n",
       "154.0       1\n",
       "196.0       1\n",
       "203.0       1\n",
       "193.0       1\n",
       "213.5       1\n",
       "131.0       1\n",
       "155.5       1\n",
       "154.5       1\n",
       "214.5       1\n",
       "197.5       1\n",
       "211.5       1\n",
       "143.0       1\n",
       "157.0       1\n",
       "148.0       1\n",
       "198.5       1\n",
       "204.0       1\n",
       "142.0       1\n",
       "Name: js_height, Length: 105, dtype: int64"
      ]
     },
     "execution_count": 240,
     "metadata": {},
     "output_type": "execute_result"
    }
   ],
   "source": [
    "data[\"js_height\"].value_counts()"
   ]
  },
  {
   "cell_type": "code",
   "execution_count": 242,
   "metadata": {
    "collapsed": true
   },
   "outputs": [],
   "source": [
    "list2 = data['js_height'].groupby(data['height']).mean()\n",
    "list2.to_csv(\"2.csv\",encoding=\"utf-8\")"
   ]
  },
  {
   "cell_type": "code",
   "execution_count": 249,
   "metadata": {},
   "outputs": [
    {
     "data": {
      "text/plain": [
       "count    34563.000000\n",
       "mean       176.520557\n",
       "std          5.198413\n",
       "min        130.000000\n",
       "25%        174.500000\n",
       "50%        177.500000\n",
       "75%        178.500000\n",
       "max        226.000000\n",
       "Name: js_height, dtype: float64"
      ]
     },
     "execution_count": 249,
     "metadata": {},
     "output_type": "execute_result"
    }
   ],
   "source": [
    "data['js_height'].describe()"
   ]
  },
  {
   "cell_type": "code",
   "execution_count": 252,
   "metadata": {},
   "outputs": [
    {
     "data": {
      "text/plain": [
       "不限         16737\n",
       "未婚         12782\n",
       "离异、丧偶       2203\n",
       "未婚、离异       1539\n",
       "离异          1005\n",
       "未婚 *         304\n",
       "丧偶           135\n",
       "离异、丧偶 *      109\n",
       "未婚、丧偶         94\n",
       "离异 *          73\n",
       "未婚、离异 *       39\n",
       "丧偶 *           6\n",
       "未婚、丧偶 *        3\n",
       "Name: js_marriaged, dtype: int64"
      ]
     },
     "execution_count": 252,
     "metadata": {},
     "output_type": "execute_result"
    }
   ],
   "source": [
    "data[\"js_marriaged\"].value_counts()"
   ]
  },
  {
   "cell_type": "code",
   "execution_count": 261,
   "metadata": {},
   "outputs": [],
   "source": [
    "def clean_js_marriaged(status):\n",
    "    try:\n",
    "        return status.replace(\" \",\"\").replace(\"\\xa0*\",\"\")\n",
    "    except:\n",
    "        pass"
   ]
  },
  {
   "cell_type": "code",
   "execution_count": 262,
   "metadata": {
    "scrolled": true
   },
   "outputs": [],
   "source": [
    "data[\"js_marriaged\"] = data[\"js_marriaged\"].apply(clean_js_marriaged)"
   ]
  },
  {
   "cell_type": "code",
   "execution_count": 263,
   "metadata": {},
   "outputs": [
    {
     "data": {
      "text/plain": [
       "marriaged     js_marriaged\n",
       "丧偶            不限                174\n",
       "              离异、丧偶              30\n",
       "              未婚                 22\n",
       "              丧偶                 19\n",
       "              未婚、丧偶               6\n",
       "              离异                  2\n",
       "丧偶,无小孩        不限                 30\n",
       "              离异、丧偶               7\n",
       "              未婚                  5\n",
       "              丧偶                  4\n",
       "              离异                  1\n",
       "丧偶,有小孩归对方     不限                 10\n",
       "              离异、丧偶               3\n",
       "              丧偶                  1\n",
       "              未婚                  1\n",
       "              未婚、离异               1\n",
       "丧偶,有小孩归自己     不限                294\n",
       "              离异、丧偶             135\n",
       "              丧偶                 48\n",
       "              未婚、丧偶              13\n",
       "              未婚                  7\n",
       "              离异                  4\n",
       "              未婚、离异               3\n",
       "未填            不限                  5\n",
       "              未婚                  2\n",
       "未婚            未婚              12517\n",
       "              不限               8368\n",
       "              未婚、离异             822\n",
       "              离异                 74\n",
       "              未婚、丧偶              43\n",
       "              离异、丧偶              43\n",
       "未婚、离异,有小孩归自己  未婚                  1\n",
       "离异            不限               2597\n",
       "              离异、丧偶             355\n",
       "              未婚                295\n",
       "              离异                200\n",
       "              未婚、离异             122\n",
       "              丧偶                 18\n",
       "              未婚、丧偶               8\n",
       "离异,无小孩        不限                942\n",
       "              未婚、离异             192\n",
       "              离异、丧偶             136\n",
       "              离异                116\n",
       "              未婚                 82\n",
       "              丧偶                  9\n",
       "              未婚、丧偶               4\n",
       "离异,有小孩归对方     不限               2008\n",
       "              离异、丧偶             676\n",
       "              离异                343\n",
       "              未婚、离异             238\n",
       "              未婚                 72\n",
       "              丧偶                 11\n",
       "              未婚、丧偶               7\n",
       "离异,有小孩归自己     不限               2309\n",
       "              离异、丧偶             927\n",
       "              离异                338\n",
       "              未婚、离异             200\n",
       "              未婚                 82\n",
       "              丧偶                 31\n",
       "              未婚、丧偶              16\n",
       "Name: js_marriaged, dtype: int64"
      ]
     },
     "execution_count": 263,
     "metadata": {},
     "output_type": "execute_result"
    }
   ],
   "source": [
    "data['js_marriaged'].groupby(data['marriaged']).value_counts()"
   ]
  },
  {
   "cell_type": "code",
   "execution_count": 273,
   "metadata": {},
   "outputs": [],
   "source": [
    "def check_location(row):\n",
    "    try:\n",
    "        if row[\"location\"] in row[\"js_location\"]:\n",
    "            return 1\n",
    "        else:\n",
    "            if \"不限\" in row[\"js_location\"]:\n",
    "                return -1\n",
    "            else:\n",
    "                return 0\n",
    "    except:\n",
    "        pass\n",
    "\n",
    "a = data.apply(check_location,axis=1)"
   ]
  },
  {
   "cell_type": "code",
   "execution_count": 274,
   "metadata": {},
   "outputs": [
    {
     "data": {
      "text/plain": [
       " 1.0    21051\n",
       " 0.0     9863\n",
       "-1.0     4115\n",
       "dtype: int64"
      ]
     },
     "execution_count": 274,
     "metadata": {},
     "output_type": "execute_result"
    }
   ],
   "source": [
    "a.value_counts()"
   ]
  },
  {
   "cell_type": "code",
   "execution_count": 275,
   "metadata": {},
   "outputs": [
    {
     "ename": "KeyError",
     "evalue": "'js_salary'",
     "output_type": "error",
     "traceback": [
      "\u001b[1;31m---------------------------------------------------------------------------\u001b[0m",
      "\u001b[1;31mKeyError\u001b[0m                                  Traceback (most recent call last)",
      "\u001b[1;32m~\\Anaconda3\\lib\\site-packages\\pandas\\core\\indexes\\base.py\u001b[0m in \u001b[0;36mget_loc\u001b[1;34m(self, key, method, tolerance)\u001b[0m\n\u001b[0;32m   2392\u001b[0m             \u001b[1;32mtry\u001b[0m\u001b[1;33m:\u001b[0m\u001b[1;33m\u001b[0m\u001b[0m\n\u001b[1;32m-> 2393\u001b[1;33m                 \u001b[1;32mreturn\u001b[0m \u001b[0mself\u001b[0m\u001b[1;33m.\u001b[0m\u001b[0m_engine\u001b[0m\u001b[1;33m.\u001b[0m\u001b[0mget_loc\u001b[0m\u001b[1;33m(\u001b[0m\u001b[0mkey\u001b[0m\u001b[1;33m)\u001b[0m\u001b[1;33m\u001b[0m\u001b[0m\n\u001b[0m\u001b[0;32m   2394\u001b[0m             \u001b[1;32mexcept\u001b[0m \u001b[0mKeyError\u001b[0m\u001b[1;33m:\u001b[0m\u001b[1;33m\u001b[0m\u001b[0m\n",
      "\u001b[1;32mpandas\\_libs\\index.pyx\u001b[0m in \u001b[0;36mpandas._libs.index.IndexEngine.get_loc (pandas\\_libs\\index.c:5239)\u001b[1;34m()\u001b[0m\n",
      "\u001b[1;32mpandas\\_libs\\index.pyx\u001b[0m in \u001b[0;36mpandas._libs.index.IndexEngine.get_loc (pandas\\_libs\\index.c:5085)\u001b[1;34m()\u001b[0m\n",
      "\u001b[1;32mpandas\\_libs\\hashtable_class_helper.pxi\u001b[0m in \u001b[0;36mpandas._libs.hashtable.PyObjectHashTable.get_item (pandas\\_libs\\hashtable.c:20405)\u001b[1;34m()\u001b[0m\n",
      "\u001b[1;32mpandas\\_libs\\hashtable_class_helper.pxi\u001b[0m in \u001b[0;36mpandas._libs.hashtable.PyObjectHashTable.get_item (pandas\\_libs\\hashtable.c:20359)\u001b[1;34m()\u001b[0m\n",
      "\u001b[1;31mKeyError\u001b[0m: 'js_salary'",
      "\nDuring handling of the above exception, another exception occurred:\n",
      "\u001b[1;31mKeyError\u001b[0m                                  Traceback (most recent call last)",
      "\u001b[1;32m<ipython-input-275-b9af799222c5>\u001b[0m in \u001b[0;36m<module>\u001b[1;34m()\u001b[0m\n\u001b[1;32m----> 1\u001b[1;33m \u001b[0mdata\u001b[0m\u001b[1;33m[\u001b[0m\u001b[1;34m\"js_salary\"\u001b[0m\u001b[1;33m]\u001b[0m\u001b[1;33m\u001b[0m\u001b[0m\n\u001b[0m",
      "\u001b[1;32m~\\Anaconda3\\lib\\site-packages\\pandas\\core\\frame.py\u001b[0m in \u001b[0;36m__getitem__\u001b[1;34m(self, key)\u001b[0m\n\u001b[0;32m   2060\u001b[0m             \u001b[1;32mreturn\u001b[0m \u001b[0mself\u001b[0m\u001b[1;33m.\u001b[0m\u001b[0m_getitem_multilevel\u001b[0m\u001b[1;33m(\u001b[0m\u001b[0mkey\u001b[0m\u001b[1;33m)\u001b[0m\u001b[1;33m\u001b[0m\u001b[0m\n\u001b[0;32m   2061\u001b[0m         \u001b[1;32melse\u001b[0m\u001b[1;33m:\u001b[0m\u001b[1;33m\u001b[0m\u001b[0m\n\u001b[1;32m-> 2062\u001b[1;33m             \u001b[1;32mreturn\u001b[0m \u001b[0mself\u001b[0m\u001b[1;33m.\u001b[0m\u001b[0m_getitem_column\u001b[0m\u001b[1;33m(\u001b[0m\u001b[0mkey\u001b[0m\u001b[1;33m)\u001b[0m\u001b[1;33m\u001b[0m\u001b[0m\n\u001b[0m\u001b[0;32m   2063\u001b[0m \u001b[1;33m\u001b[0m\u001b[0m\n\u001b[0;32m   2064\u001b[0m     \u001b[1;32mdef\u001b[0m \u001b[0m_getitem_column\u001b[0m\u001b[1;33m(\u001b[0m\u001b[0mself\u001b[0m\u001b[1;33m,\u001b[0m \u001b[0mkey\u001b[0m\u001b[1;33m)\u001b[0m\u001b[1;33m:\u001b[0m\u001b[1;33m\u001b[0m\u001b[0m\n",
      "\u001b[1;32m~\\Anaconda3\\lib\\site-packages\\pandas\\core\\frame.py\u001b[0m in \u001b[0;36m_getitem_column\u001b[1;34m(self, key)\u001b[0m\n\u001b[0;32m   2067\u001b[0m         \u001b[1;31m# get column\u001b[0m\u001b[1;33m\u001b[0m\u001b[1;33m\u001b[0m\u001b[0m\n\u001b[0;32m   2068\u001b[0m         \u001b[1;32mif\u001b[0m \u001b[0mself\u001b[0m\u001b[1;33m.\u001b[0m\u001b[0mcolumns\u001b[0m\u001b[1;33m.\u001b[0m\u001b[0mis_unique\u001b[0m\u001b[1;33m:\u001b[0m\u001b[1;33m\u001b[0m\u001b[0m\n\u001b[1;32m-> 2069\u001b[1;33m             \u001b[1;32mreturn\u001b[0m \u001b[0mself\u001b[0m\u001b[1;33m.\u001b[0m\u001b[0m_get_item_cache\u001b[0m\u001b[1;33m(\u001b[0m\u001b[0mkey\u001b[0m\u001b[1;33m)\u001b[0m\u001b[1;33m\u001b[0m\u001b[0m\n\u001b[0m\u001b[0;32m   2070\u001b[0m \u001b[1;33m\u001b[0m\u001b[0m\n\u001b[0;32m   2071\u001b[0m         \u001b[1;31m# duplicate columns & possible reduce dimensionality\u001b[0m\u001b[1;33m\u001b[0m\u001b[1;33m\u001b[0m\u001b[0m\n",
      "\u001b[1;32m~\\Anaconda3\\lib\\site-packages\\pandas\\core\\generic.py\u001b[0m in \u001b[0;36m_get_item_cache\u001b[1;34m(self, item)\u001b[0m\n\u001b[0;32m   1532\u001b[0m         \u001b[0mres\u001b[0m \u001b[1;33m=\u001b[0m \u001b[0mcache\u001b[0m\u001b[1;33m.\u001b[0m\u001b[0mget\u001b[0m\u001b[1;33m(\u001b[0m\u001b[0mitem\u001b[0m\u001b[1;33m)\u001b[0m\u001b[1;33m\u001b[0m\u001b[0m\n\u001b[0;32m   1533\u001b[0m         \u001b[1;32mif\u001b[0m \u001b[0mres\u001b[0m \u001b[1;32mis\u001b[0m \u001b[1;32mNone\u001b[0m\u001b[1;33m:\u001b[0m\u001b[1;33m\u001b[0m\u001b[0m\n\u001b[1;32m-> 1534\u001b[1;33m             \u001b[0mvalues\u001b[0m \u001b[1;33m=\u001b[0m \u001b[0mself\u001b[0m\u001b[1;33m.\u001b[0m\u001b[0m_data\u001b[0m\u001b[1;33m.\u001b[0m\u001b[0mget\u001b[0m\u001b[1;33m(\u001b[0m\u001b[0mitem\u001b[0m\u001b[1;33m)\u001b[0m\u001b[1;33m\u001b[0m\u001b[0m\n\u001b[0m\u001b[0;32m   1535\u001b[0m             \u001b[0mres\u001b[0m \u001b[1;33m=\u001b[0m \u001b[0mself\u001b[0m\u001b[1;33m.\u001b[0m\u001b[0m_box_item_values\u001b[0m\u001b[1;33m(\u001b[0m\u001b[0mitem\u001b[0m\u001b[1;33m,\u001b[0m \u001b[0mvalues\u001b[0m\u001b[1;33m)\u001b[0m\u001b[1;33m\u001b[0m\u001b[0m\n\u001b[0;32m   1536\u001b[0m             \u001b[0mcache\u001b[0m\u001b[1;33m[\u001b[0m\u001b[0mitem\u001b[0m\u001b[1;33m]\u001b[0m \u001b[1;33m=\u001b[0m \u001b[0mres\u001b[0m\u001b[1;33m\u001b[0m\u001b[0m\n",
      "\u001b[1;32m~\\Anaconda3\\lib\\site-packages\\pandas\\core\\internals.py\u001b[0m in \u001b[0;36mget\u001b[1;34m(self, item, fastpath)\u001b[0m\n\u001b[0;32m   3588\u001b[0m \u001b[1;33m\u001b[0m\u001b[0m\n\u001b[0;32m   3589\u001b[0m             \u001b[1;32mif\u001b[0m \u001b[1;32mnot\u001b[0m \u001b[0misnull\u001b[0m\u001b[1;33m(\u001b[0m\u001b[0mitem\u001b[0m\u001b[1;33m)\u001b[0m\u001b[1;33m:\u001b[0m\u001b[1;33m\u001b[0m\u001b[0m\n\u001b[1;32m-> 3590\u001b[1;33m                 \u001b[0mloc\u001b[0m \u001b[1;33m=\u001b[0m \u001b[0mself\u001b[0m\u001b[1;33m.\u001b[0m\u001b[0mitems\u001b[0m\u001b[1;33m.\u001b[0m\u001b[0mget_loc\u001b[0m\u001b[1;33m(\u001b[0m\u001b[0mitem\u001b[0m\u001b[1;33m)\u001b[0m\u001b[1;33m\u001b[0m\u001b[0m\n\u001b[0m\u001b[0;32m   3591\u001b[0m             \u001b[1;32melse\u001b[0m\u001b[1;33m:\u001b[0m\u001b[1;33m\u001b[0m\u001b[0m\n\u001b[0;32m   3592\u001b[0m                 \u001b[0mindexer\u001b[0m \u001b[1;33m=\u001b[0m \u001b[0mnp\u001b[0m\u001b[1;33m.\u001b[0m\u001b[0marange\u001b[0m\u001b[1;33m(\u001b[0m\u001b[0mlen\u001b[0m\u001b[1;33m(\u001b[0m\u001b[0mself\u001b[0m\u001b[1;33m.\u001b[0m\u001b[0mitems\u001b[0m\u001b[1;33m)\u001b[0m\u001b[1;33m)\u001b[0m\u001b[1;33m[\u001b[0m\u001b[0misnull\u001b[0m\u001b[1;33m(\u001b[0m\u001b[0mself\u001b[0m\u001b[1;33m.\u001b[0m\u001b[0mitems\u001b[0m\u001b[1;33m)\u001b[0m\u001b[1;33m]\u001b[0m\u001b[1;33m\u001b[0m\u001b[0m\n",
      "\u001b[1;32m~\\Anaconda3\\lib\\site-packages\\pandas\\core\\indexes\\base.py\u001b[0m in \u001b[0;36mget_loc\u001b[1;34m(self, key, method, tolerance)\u001b[0m\n\u001b[0;32m   2393\u001b[0m                 \u001b[1;32mreturn\u001b[0m \u001b[0mself\u001b[0m\u001b[1;33m.\u001b[0m\u001b[0m_engine\u001b[0m\u001b[1;33m.\u001b[0m\u001b[0mget_loc\u001b[0m\u001b[1;33m(\u001b[0m\u001b[0mkey\u001b[0m\u001b[1;33m)\u001b[0m\u001b[1;33m\u001b[0m\u001b[0m\n\u001b[0;32m   2394\u001b[0m             \u001b[1;32mexcept\u001b[0m \u001b[0mKeyError\u001b[0m\u001b[1;33m:\u001b[0m\u001b[1;33m\u001b[0m\u001b[0m\n\u001b[1;32m-> 2395\u001b[1;33m                 \u001b[1;32mreturn\u001b[0m \u001b[0mself\u001b[0m\u001b[1;33m.\u001b[0m\u001b[0m_engine\u001b[0m\u001b[1;33m.\u001b[0m\u001b[0mget_loc\u001b[0m\u001b[1;33m(\u001b[0m\u001b[0mself\u001b[0m\u001b[1;33m.\u001b[0m\u001b[0m_maybe_cast_indexer\u001b[0m\u001b[1;33m(\u001b[0m\u001b[0mkey\u001b[0m\u001b[1;33m)\u001b[0m\u001b[1;33m)\u001b[0m\u001b[1;33m\u001b[0m\u001b[0m\n\u001b[0m\u001b[0;32m   2396\u001b[0m \u001b[1;33m\u001b[0m\u001b[0m\n\u001b[0;32m   2397\u001b[0m         \u001b[0mindexer\u001b[0m \u001b[1;33m=\u001b[0m \u001b[0mself\u001b[0m\u001b[1;33m.\u001b[0m\u001b[0mget_indexer\u001b[0m\u001b[1;33m(\u001b[0m\u001b[1;33m[\u001b[0m\u001b[0mkey\u001b[0m\u001b[1;33m]\u001b[0m\u001b[1;33m,\u001b[0m \u001b[0mmethod\u001b[0m\u001b[1;33m=\u001b[0m\u001b[0mmethod\u001b[0m\u001b[1;33m,\u001b[0m \u001b[0mtolerance\u001b[0m\u001b[1;33m=\u001b[0m\u001b[0mtolerance\u001b[0m\u001b[1;33m)\u001b[0m\u001b[1;33m\u001b[0m\u001b[0m\n",
      "\u001b[1;32mpandas\\_libs\\index.pyx\u001b[0m in \u001b[0;36mpandas._libs.index.IndexEngine.get_loc (pandas\\_libs\\index.c:5239)\u001b[1;34m()\u001b[0m\n",
      "\u001b[1;32mpandas\\_libs\\index.pyx\u001b[0m in \u001b[0;36mpandas._libs.index.IndexEngine.get_loc (pandas\\_libs\\index.c:5085)\u001b[1;34m()\u001b[0m\n",
      "\u001b[1;32mpandas\\_libs\\hashtable_class_helper.pxi\u001b[0m in \u001b[0;36mpandas._libs.hashtable.PyObjectHashTable.get_item (pandas\\_libs\\hashtable.c:20405)\u001b[1;34m()\u001b[0m\n",
      "\u001b[1;32mpandas\\_libs\\hashtable_class_helper.pxi\u001b[0m in \u001b[0;36mpandas._libs.hashtable.PyObjectHashTable.get_item (pandas\\_libs\\hashtable.c:20359)\u001b[1;34m()\u001b[0m\n",
      "\u001b[1;31mKeyError\u001b[0m: 'js_salary'"
     ]
    }
   ],
   "source": [
    "data[\"js_salary\"]"
   ]
  }
 ],
 "metadata": {
  "kernelspec": {
   "display_name": "Python 3",
   "language": "python",
   "name": "python3"
  },
  "language_info": {
   "codemirror_mode": {
    "name": "ipython",
    "version": 3
   },
   "file_extension": ".py",
   "mimetype": "text/x-python",
   "name": "python",
   "nbconvert_exporter": "python",
   "pygments_lexer": "ipython3",
   "version": "3.6.1"
  }
 },
 "nbformat": 4,
 "nbformat_minor": 2
}
